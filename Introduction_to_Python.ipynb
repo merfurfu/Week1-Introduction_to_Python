{
 "cells": [
  {
   "cell_type": "markdown",
   "metadata": {
    "colab_type": "text",
    "id": "view-in-github"
   },
   "source": [
    "<a href=\"https://colab.research.google.com/github/IAT-ExploringAI-2024/Week1-Introduction_to_Python/blob/main/Introduction_to_Python.ipynb\" target=\"_parent\"><img src=\"https://colab.research.google.com/assets/colab-badge.svg\" alt=\"Open In Colab\"/></a>"
   ]
  },
  {
   "cell_type": "markdown",
   "metadata": {
    "id": "3RLWbzicyOkq"
   },
   "source": [
    "# PYTHON INTRODUCTION"
   ]
  },
  {
   "cell_type": "markdown",
   "metadata": {
    "id": "KW4zlFXUyOku"
   },
   "source": [
    "#                                                      Table Of Content\n",
    "1.introdution\n",
    "\n",
    "     1.1 What is Python\n",
    "     \n",
    "2.Data types\n",
    "\n",
    "     2.1 variables\n",
    "     2.2 Numbers\n",
    "     2.3 Strings\n",
    "     2.4 Lists\n",
    "     2.5 Dictionaries\n",
    "     2.6 Tuples\n",
    "     2.7 Sets\n",
    "   \n",
    "3.Comparison operators\n",
    "\n",
    "4.If-Else statement\n",
    "\n",
    "5.For Loop and While loop\n",
    "\n",
    "6.Functions\n",
    "\n",
    "7.Lambda functions\n",
    "\n",
    "     7.1 Map()\n",
    "     7.2 Filter()\n",
    "   \n",
    "8.File I/O\n",
    "\n",
    "9.Pandas liberary introduction\n",
    "\n",
    "10.Series\n",
    "\n",
    "     10.1 From ndarray\n",
    "     10.2 From dict\n",
    "     10.3 From scalar value\n",
    "     10.4 Series is ndarray-like\n",
    "     10.5 Series is dict-like\n",
    "     10.6 Vectorized operations and label alignment with series\n",
    "   \n",
    "11.Data frames\n",
    "\n",
    "     11.1 From dict of series or dicts\n",
    "     11.2 from dict of ndarrays/lists\n",
    "     11.3 from a list of dicts\n",
    "     11.4 from a list of tuples\n",
    "     11.5 Alternate constructors\n",
    "     11.6 Column selection, addition, deletion\n",
    "     11.7 Indexing/ selection\n",
    "     11.8 Data alignment\n",
    "     11.9 transposing"
   ]
  },
  {
   "cell_type": "markdown",
   "metadata": {
    "id": "_s8vd6dxyOkw"
   },
   "source": [
    "# 1. Introduction\n"
   ]
  },
  {
   "cell_type": "markdown",
   "metadata": {
    "id": "v2VMxdlcyOkw"
   },
   "source": [
    "## 1.1 What is python"
   ]
  },
  {
   "cell_type": "markdown",
   "metadata": {
    "id": "8Exauf5MyOkx"
   },
   "source": [
    "Guido Van Rossum developed the Python language in the late 1980s. In contrast to other popular languages such as C, C++, Java, and C#, Python strives to provide a simple but powerful syntax.It is open source general purpose language with great interactive environment.It provides all the three types of programming features Object Oriented, Procedural and Functional.It is used by many of the most highly productive professional programmers.Moreover, Python can also become a common language for production of web based analytics product. A few of the places that use Python extensively are Google, the New York Stock Exchange, Industrial Light,Magic etc.\n",
    "#### Important features of Python:\n",
    " -  Built-in high level data types: strings, lists, dictionaries, etc.\n",
    " -  The usual control structures: if, if-else, if-elif-else, while, plus a powerful collection iterator (for).\n",
    " -  Multiple levels of organizational structure: functions, classes, modules, and  packages. These assist in organizing code. An excellent and large example is the Python standard library.\n",
    " - Compile on the fly to byte code -- Source code is compiled to byte code without a separate compile step. Source code modules can also be \"pre-compiled\" to byte code files.\n",
    " - Object-oriented -- Python provides a consistent way to use objects: everything is an object. And, in Python it is easy to implement new object types (called classes in object-oriented programming).\n",
    " - Extensions in C and C++ -- Extension modules and extension types can be written by hand. There are also tools that help with this, for example, SWIG, sip, Pyrex"
   ]
  },
  {
   "cell_type": "markdown",
   "metadata": {
    "id": "NaPiQDs3yOky"
   },
   "source": [
    "# 2. Data types"
   ]
  },
  {
   "cell_type": "markdown",
   "metadata": {
    "id": "5-uDSw6jyOky"
   },
   "source": [
    "There are various data types in Python. Some of the important types are listed below."
   ]
  },
  {
   "cell_type": "markdown",
   "metadata": {
    "id": "2sUB9HS2yOky"
   },
   "source": [
    "## 2.1 Variables"
   ]
  },
  {
   "cell_type": "markdown",
   "metadata": {
    "id": "8F8pyh4XyOkz"
   },
   "source": [
    " - Python variables do not need explicit declaration to reserve memory space.\n",
    " - The declaration happens automatically when you assign a value to a variable.\n",
    " - The equal sign = is used to assign values to variables.\n",
    "  \n",
    "  Some examples are given as follows:"
   ]
  },
  {
   "cell_type": "code",
   "execution_count": 40,
   "metadata": {
    "colab": {
     "base_uri": "https://localhost:8080/"
    },
    "id": "E8eBm4tQyOkz",
    "outputId": "4c330b5b-77ad-4f32-c110-a00dd896f357",
    "scrolled": true
   },
   "outputs": [
    {
     "name": "stdout",
     "output_type": "stream",
     "text": [
      "200.3\n",
      "100\n",
      "Sara\n"
     ]
    }
   ],
   "source": [
    "area = 200.30  #float type variable\n",
    "Distance = 100 #integer type variabe\n",
    "name = 'Sara' #string type variable\n",
    "\n",
    "#print all values\n",
    "print (area)\n",
    "print(Distance)\n",
    "print(name)"
   ]
  },
  {
   "cell_type": "markdown",
   "metadata": {},
   "source": [
    "**<span style=\"color:red\"> My Work </span>**"
   ]
  },
  {
   "cell_type": "code",
   "execution_count": 41,
   "metadata": {},
   "outputs": [
    {
     "name": "stdout",
     "output_type": "stream",
     "text": [
      "410.45\n",
      "350\n",
      "Leung\n"
     ]
    }
   ],
   "source": [
    "farea = 410.45 # float var\n",
    "dist = 350 # integer\n",
    "surname = \"Leung\" # string var\n",
    "\n",
    "#printing variables \n",
    "print(farea)\n",
    "print(dist)\n",
    "print(surname)"
   ]
  },
  {
   "cell_type": "markdown",
   "metadata": {
    "id": "zpsVx_N_yOk2"
   },
   "source": [
    "## 2.2 Numbers"
   ]
  },
  {
   "cell_type": "markdown",
   "metadata": {
    "id": "dZuFsFyVyOk2"
   },
   "source": [
    " - This data type store numeric values\n",
    " - Numbers are immutable data types (Immutable data types means values cannot be changed after it is created)\n",
    "\n",
    "  Some examples are given as follows:"
   ]
  },
  {
   "cell_type": "code",
   "execution_count": 42,
   "metadata": {
    "id": "wWSaGwfzyOk2",
    "outputId": "90ae5138-4029-4b13-fc7d-ab0e7ee0e6d6"
   },
   "outputs": [
    {
     "data": {
      "text/plain": [
       "5"
      ]
     },
     "execution_count": 42,
     "metadata": {},
     "output_type": "execute_result"
    }
   ],
   "source": [
    "5 #integer"
   ]
  },
  {
   "cell_type": "code",
   "execution_count": 43,
   "metadata": {
    "id": "f_JTKqeFyOk2",
    "outputId": "5397f535-54b3-4cc8-80a3-1113fb981025"
   },
   "outputs": [
    {
     "data": {
      "text/plain": [
       "20"
      ]
     },
     "execution_count": 43,
     "metadata": {},
     "output_type": "execute_result"
    }
   ],
   "source": [
    "10+10 #integer"
   ]
  },
  {
   "cell_type": "code",
   "execution_count": 44,
   "metadata": {
    "id": "8bx_9PUsyOk2",
    "outputId": "6e773513-f214-40f0-9b4a-c002727a9bdf"
   },
   "outputs": [
    {
     "data": {
      "text/plain": [
       "11.0"
      ]
     },
     "execution_count": 44,
     "metadata": {},
     "output_type": "execute_result"
    }
   ],
   "source": [
    "5.5+5.5 #float"
   ]
  },
  {
   "cell_type": "code",
   "execution_count": 45,
   "metadata": {
    "id": "A2LEGhsVyOk3",
    "outputId": "cb7a4716-96e3-4278-cf21-cc2ed92a06eb"
   },
   "outputs": [
    {
     "data": {
      "text/plain": [
       "25"
      ]
     },
     "execution_count": 45,
     "metadata": {},
     "output_type": "execute_result"
    }
   ],
   "source": [
    "5**2 #exponent"
   ]
  },
  {
   "cell_type": "markdown",
   "metadata": {},
   "source": [
    "**<span style=\"color:red\"> My Work </span>**"
   ]
  },
  {
   "cell_type": "code",
   "execution_count": 46,
   "metadata": {
    "scrolled": true
   },
   "outputs": [
    {
     "data": {
      "text/plain": [
       "8"
      ]
     },
     "execution_count": 46,
     "metadata": {},
     "output_type": "execute_result"
    }
   ],
   "source": [
    "8 # integer"
   ]
  },
  {
   "cell_type": "code",
   "execution_count": 47,
   "metadata": {},
   "outputs": [
    {
     "data": {
      "text/plain": [
       "11"
      ]
     },
     "execution_count": 47,
     "metadata": {},
     "output_type": "execute_result"
    }
   ],
   "source": [
    "3 + 8 #integer"
   ]
  },
  {
   "cell_type": "code",
   "execution_count": 48,
   "metadata": {
    "scrolled": true
   },
   "outputs": [
    {
     "data": {
      "text/plain": [
       "13.209999999999999"
      ]
     },
     "execution_count": 48,
     "metadata": {},
     "output_type": "execute_result"
    }
   ],
   "source": [
    "4.26 + 8.95 #float"
   ]
  },
  {
   "cell_type": "code",
   "execution_count": 49,
   "metadata": {},
   "outputs": [
    {
     "data": {
      "text/plain": [
       "216"
      ]
     },
     "execution_count": 49,
     "metadata": {},
     "output_type": "execute_result"
    }
   ],
   "source": [
    "6**3 #exponent"
   ]
  },
  {
   "cell_type": "markdown",
   "metadata": {
    "id": "6v9gnHCcyOk3"
   },
   "source": [
    "## 2.3 Strings"
   ]
  },
  {
   "cell_type": "markdown",
   "metadata": {
    "id": "vGl89d8HyOk3"
   },
   "source": [
    " - Strings in Python are identified as a contiguous set of characters represented in the quotation marks.\n",
    " - Python allows either pair of single or double quotes.\n",
    " - Strings are immutable.\n",
    " - Python doesn't support Char data type.It will beas string of length one in python."
   ]
  },
  {
   "cell_type": "code",
   "execution_count": 50,
   "metadata": {
    "colab": {
     "base_uri": "https://localhost:8080/"
    },
    "id": "8wLxfAHfyOk3",
    "outputId": "742620b7-bd3d-4014-9604-9243d7c5edd9"
   },
   "outputs": [
    {
     "name": "stdout",
     "output_type": "stream",
     "text": [
      "Sara Artificial Intelligence\n"
     ]
    }
   ],
   "source": [
    "Course=\"Artificial Intelligence\"\n",
    "name='Sara'\n",
    "print(name, Course)"
   ]
  },
  {
   "cell_type": "markdown",
   "metadata": {},
   "source": [
    "**<span style=\"color:red\"> My Work </span>**"
   ]
  },
  {
   "cell_type": "code",
   "execution_count": 51,
   "metadata": {},
   "outputs": [
    {
     "name": "stdout",
     "output_type": "stream",
     "text": [
      "Smith AI\n"
     ]
    }
   ],
   "source": [
    "#string VARIABLES and printing them together <3\n",
    "course = \"AI\"\n",
    "surname = \"Smith\"\n",
    "print(surname, course)"
   ]
  },
  {
   "cell_type": "markdown",
   "metadata": {
    "id": "eqef1cE5yOk5"
   },
   "source": [
    "### Access values in strings"
   ]
  },
  {
   "cell_type": "markdown",
   "metadata": {
    "id": "32M-NFv5yOk5"
   },
   "source": [
    " - we can access a specific character or range of characters from strings.\n",
    " - Subsets of strings can be taken using the slice operator [] and [:] with indexes starting from 0.\n",
    "\n",
    " Some examples are listed below:"
   ]
  },
  {
   "cell_type": "code",
   "execution_count": 52,
   "metadata": {
    "colab": {
     "base_uri": "https://localhost:8080/"
    },
    "id": "Dj9IGB6FyOk5",
    "outputId": "07f11cac-0954-4f74-a977-21857493e1f6",
    "scrolled": true
   },
   "outputs": [
    {
     "name": "stdout",
     "output_type": "stream",
     "text": [
      "stringVariable[0]: H\n",
      "stringVariable[1:5]: ello\n"
     ]
    }
   ],
   "source": [
    "stringVariable = 'Hello World'\n",
    "\n",
    "print(\"stringVariable[0]:\", stringVariable[0])\n",
    "print(\"stringVariable[1:5]:\", stringVariable[1:5])"
   ]
  },
  {
   "cell_type": "markdown",
   "metadata": {},
   "source": [
    "**<span style=\"color:red\"> My Work </span>**"
   ]
  },
  {
   "cell_type": "code",
   "execution_count": 53,
   "metadata": {},
   "outputs": [
    {
     "name": "stdout",
     "output_type": "stream",
     "text": [
      "stringVar[2]:  l\n",
      "stringVar[2:6]:  llo \n"
     ]
    }
   ],
   "source": [
    "stringVar = \"Hello World\"\n",
    "\n",
    "#prints the letter/char in position 2 \n",
    "print(\"stringVar[2]: \", stringVar[2])\n",
    "\n",
    "#prints letter/char in positions 2-6\n",
    "print(\"stringVar[2:6]: \", stringVar[2:6])"
   ]
  },
  {
   "cell_type": "markdown",
   "metadata": {
    "id": "kY4lddAsyOk8"
   },
   "source": [
    "### Updating string"
   ]
  },
  {
   "cell_type": "markdown",
   "metadata": {
    "id": "MiuqdFMdyOk8"
   },
   "source": [
    " - Value of string can be changed or updated by assigning a new value to it.\n",
    " - New value must have same data type as previous value.\n",
    " - For this purpose '+' operator is used as follows:"
   ]
  },
  {
   "cell_type": "code",
   "execution_count": 54,
   "metadata": {
    "colab": {
     "base_uri": "https://localhost:8080/"
    },
    "id": "iH-oj2WnyOk8",
    "outputId": "bc791976-6458-4610-b3a9-ff51eeca8d6f"
   },
   "outputs": [
    {
     "name": "stdout",
     "output_type": "stream",
     "text": [
      "updated string: Hello Python\n"
     ]
    }
   ],
   "source": [
    "stringVariable =\"Hello World \"\n",
    "\n",
    "stringVariable = stringVariable[:6]+\"Python\"\n",
    "\n",
    "\n",
    "print (\"updated string:\",stringVariable)"
   ]
  },
  {
   "cell_type": "markdown",
   "metadata": {},
   "source": [
    "**<span style=\"color:red\"> My Work </span>**"
   ]
  },
  {
   "cell_type": "code",
   "execution_count": 55,
   "metadata": {},
   "outputs": [
    {
     "name": "stdout",
     "output_type": "stream",
     "text": [
      "Updated string:  Hello Jupyter\n"
     ]
    }
   ],
   "source": [
    "#adds Python to the end of string\n",
    "stringVar = stringVar[:6] + \"Jupyter\"\n",
    "#print updated string!!!\n",
    "print(\"Updated string: \", stringVar)"
   ]
  },
  {
   "cell_type": "markdown",
   "metadata": {
    "id": "aCwtHYHJyOlK"
   },
   "source": [
    "### Delete string"
   ]
  },
  {
   "cell_type": "markdown",
   "metadata": {
    "id": "qsK---xLyOlK"
   },
   "source": [
    " - we can delete the value of string by just deleteing its object.\n",
    " - 'del' keyword is used for this purpose\n",
    "\n",
    "  It would be cleared by using following example:"
   ]
  },
  {
   "cell_type": "code",
   "execution_count": 56,
   "metadata": {
    "colab": {
     "base_uri": "https://localhost:8080/",
     "height": 227
    },
    "id": "c-nfHs95yOlL",
    "outputId": "85e0a5fb-8720-4959-e102-309e14cf06ca"
   },
   "outputs": [
    {
     "name": "stdout",
     "output_type": "stream",
     "text": [
      "Hello World \n"
     ]
    },
    {
     "ename": "NameError",
     "evalue": "name 'stringVar' is not defined",
     "output_type": "error",
     "traceback": [
      "\u001b[1;31m---------------------------------------------------------------------------\u001b[0m",
      "\u001b[1;31mNameError\u001b[0m                                 Traceback (most recent call last)",
      "\u001b[1;32m~\\AppData\\Local\\Temp/ipykernel_22376/881638144.py\u001b[0m in \u001b[0;36m<module>\u001b[1;34m\u001b[0m\n\u001b[0;32m      2\u001b[0m \u001b[0mprint\u001b[0m \u001b[1;33m(\u001b[0m\u001b[0mstringVar\u001b[0m\u001b[1;33m)\u001b[0m\u001b[1;33m\u001b[0m\u001b[1;33m\u001b[0m\u001b[0m\n\u001b[0;32m      3\u001b[0m \u001b[1;32mdel\u001b[0m \u001b[0mstringVar\u001b[0m\u001b[1;33m\u001b[0m\u001b[1;33m\u001b[0m\u001b[0m\n\u001b[1;32m----> 4\u001b[1;33m \u001b[0mprint\u001b[0m \u001b[1;33m(\u001b[0m\u001b[0mstringVar\u001b[0m\u001b[1;33m)\u001b[0m\u001b[1;33m\u001b[0m\u001b[1;33m\u001b[0m\u001b[0m\n\u001b[0m",
      "\u001b[1;31mNameError\u001b[0m: name 'stringVar' is not defined"
     ]
    }
   ],
   "source": [
    "stringVar =\"Hello World \"\n",
    "print (stringVar)\n",
    "del stringVar\n",
    "print (stringVar)"
   ]
  },
  {
   "cell_type": "markdown",
   "metadata": {},
   "source": [
    "**<span style=\"color:red\"> My Work </span>**"
   ]
  },
  {
   "cell_type": "code",
   "execution_count": 144,
   "metadata": {},
   "outputs": [
    {
     "name": "stdout",
     "output_type": "stream",
     "text": [
      "This is an example sentence.\n"
     ]
    },
    {
     "ename": "NameError",
     "evalue": "name 'myString' is not defined",
     "output_type": "error",
     "traceback": [
      "\u001b[1;31m---------------------------------------------------------------------------\u001b[0m",
      "\u001b[1;31mNameError\u001b[0m                                 Traceback (most recent call last)",
      "\u001b[1;32m~\\AppData\\Local\\Temp/ipykernel_22376/3280224315.py\u001b[0m in \u001b[0;36m<module>\u001b[1;34m\u001b[0m\n\u001b[0;32m      4\u001b[0m \u001b[1;32mdel\u001b[0m \u001b[0mmyString\u001b[0m\u001b[1;33m\u001b[0m\u001b[1;33m\u001b[0m\u001b[0m\n\u001b[0;32m      5\u001b[0m \u001b[1;31m#gonna throw an error cuz it doesnt exist!!!\u001b[0m\u001b[1;33m\u001b[0m\u001b[1;33m\u001b[0m\u001b[0m\n\u001b[1;32m----> 6\u001b[1;33m \u001b[0mprint\u001b[0m\u001b[1;33m(\u001b[0m\u001b[0mmyString\u001b[0m\u001b[1;33m)\u001b[0m\u001b[1;33m\u001b[0m\u001b[1;33m\u001b[0m\u001b[0m\n\u001b[0m",
      "\u001b[1;31mNameError\u001b[0m: name 'myString' is not defined"
     ]
    }
   ],
   "source": [
    "myString = \"This is an example sentence.\"\n",
    "print(myString)\n",
    "#deletes this entire string \n",
    "del myString\n",
    "#gonna throw an error cuz it doesnt exist!!!\n",
    "print(myString)"
   ]
  },
  {
   "cell_type": "markdown",
   "metadata": {
    "id": "--zQSMqnyOlM"
   },
   "source": [
    "### String special operators"
   ]
  },
  {
   "cell_type": "markdown",
   "metadata": {
    "id": "JTw5LIEDyOlM"
   },
   "source": [
    " - some special operators are used in Python to perform different opertions.\n",
    "   These are given below:"
   ]
  },
  {
   "cell_type": "markdown",
   "metadata": {
    "id": "ZDWY9NWayOlM"
   },
   "source": [
    "#### String Concatenation"
   ]
  },
  {
   "cell_type": "markdown",
   "metadata": {
    "id": "HmXTQtg_yOlM"
   },
   "source": [
    " - To concatenate the strings we used '+' operator.\n",
    "\n",
    "    Following are the examples of concatenation:"
   ]
  },
  {
   "cell_type": "code",
   "execution_count": 145,
   "metadata": {
    "id": "WAXp8WX0yOlM",
    "outputId": "60ec1926-323a-4af1-d800-4b07271909cf",
    "scrolled": true
   },
   "outputs": [
    {
     "name": "stdout",
     "output_type": "stream",
     "text": [
      "machinelearning\n"
     ]
    }
   ],
   "source": [
    "stringvalue1=\"machine\"\n",
    "stringvalue2=\"learning\"\n",
    "print(stringvalue1+stringvalue2)"
   ]
  },
  {
   "cell_type": "markdown",
   "metadata": {},
   "source": [
    "**<span style=\"color:red\"> My Work </span>**"
   ]
  },
  {
   "cell_type": "code",
   "execution_count": 146,
   "metadata": {},
   "outputs": [
    {
     "name": "stdout",
     "output_type": "stream",
     "text": [
      "Ctrl Alt Del\n"
     ]
    }
   ],
   "source": [
    "stringval1 = \"Ctrl\"\n",
    "stringval2 = \"Alt\"\n",
    "stringval3 = \"Del\"\n",
    "print(stringval1 + \" \"+ stringval2 + \" \"+ stringval3)"
   ]
  },
  {
   "cell_type": "markdown",
   "metadata": {
    "id": "AE6msJFZyOlN"
   },
   "source": [
    "#### Repitition"
   ]
  },
  {
   "cell_type": "markdown",
   "metadata": {
    "id": "rjLNa7_zyOlN"
   },
   "source": [
    " - '*' symbol is used for repitition.\n"
   ]
  },
  {
   "cell_type": "code",
   "execution_count": 147,
   "metadata": {
    "id": "t_TsnG11yOlN",
    "outputId": "9d892afc-d9f6-40d0-f2cf-59410debec9a",
    "scrolled": true
   },
   "outputs": [
    {
     "name": "stdout",
     "output_type": "stream",
     "text": [
      "AssignmentAssignment\n"
     ]
    }
   ],
   "source": [
    "stringvalue=\"Assignment\"\n",
    "print(stringvalue*2)"
   ]
  },
  {
   "cell_type": "markdown",
   "metadata": {},
   "source": [
    "**<span style=\"color:red\"> My Work </span>**"
   ]
  },
  {
   "cell_type": "code",
   "execution_count": 148,
   "metadata": {},
   "outputs": [
    {
     "name": "stdout",
     "output_type": "stream",
     "text": [
      "clickclick\n"
     ]
    }
   ],
   "source": [
    "stringval = \"click\"\n",
    "print(stringval*2)"
   ]
  },
  {
   "cell_type": "markdown",
   "metadata": {
    "id": "ed-Q8jjgyOlO"
   },
   "source": [
    "#### Use of [] symbol"
   ]
  },
  {
   "cell_type": "markdown",
   "metadata": {
    "id": "EEBLbGELyOlO"
   },
   "source": [
    " - '[]'symbol give the character of string at given index."
   ]
  },
  {
   "cell_type": "code",
   "execution_count": 149,
   "metadata": {
    "id": "QBhDsT2DyOlO"
   },
   "outputs": [
    {
     "name": "stdout",
     "output_type": "stream",
     "text": [
      "a\n"
     ]
    }
   ],
   "source": [
    "Stringvalue=\"Machine Learning\"\n",
    "print(Stringvalue[1])"
   ]
  },
  {
   "cell_type": "markdown",
   "metadata": {},
   "source": [
    "**<span style=\"color:red\"> My Work </span>**"
   ]
  },
  {
   "cell_type": "code",
   "execution_count": 150,
   "metadata": {},
   "outputs": [
    {
     "name": "stdout",
     "output_type": "stream",
     "text": [
      "click\n",
      "k\n"
     ]
    }
   ],
   "source": [
    "print(stringval)\n",
    "print(stringval[4])"
   ]
  },
  {
   "cell_type": "markdown",
   "metadata": {
    "id": "bRaaJ78ryOlP"
   },
   "source": [
    "#### Use of [:] symbol"
   ]
  },
  {
   "cell_type": "markdown",
   "metadata": {
    "id": "6RSaZEKWyOlP"
   },
   "source": [
    " - [:] is used to get substring from string."
   ]
  },
  {
   "cell_type": "code",
   "execution_count": 151,
   "metadata": {
    "colab": {
     "base_uri": "https://localhost:8080/"
    },
    "id": "PizhfzMPyOlP",
    "outputId": "180e3a2a-5d7a-43dd-bc07-d459d6687852",
    "scrolled": true
   },
   "outputs": [
    {
     "name": "stdout",
     "output_type": "stream",
     "text": [
      "el\n"
     ]
    }
   ],
   "source": [
    "stringvalue=\"Hello\"\n",
    "print(stringvalue [1:3])"
   ]
  },
  {
   "cell_type": "markdown",
   "metadata": {},
   "source": [
    "**<span style=\"color:red\"> My Work </span>**"
   ]
  },
  {
   "cell_type": "code",
   "execution_count": 152,
   "metadata": {
    "scrolled": true
   },
   "outputs": [
    {
     "name": "stdout",
     "output_type": "stream",
     "text": [
      "click\n",
      "ick\n"
     ]
    }
   ],
   "source": [
    "print(stringval)\n",
    "print(stringval[2:5])"
   ]
  },
  {
   "cell_type": "markdown",
   "metadata": {
    "id": "ZCie1YcEyOlP"
   },
   "source": [
    "#### use of 'in'"
   ]
  },
  {
   "cell_type": "markdown",
   "metadata": {
    "id": "SRMzod_jyOlP"
   },
   "source": [
    " - 'in' is used to check the existance of character in string.\n",
    " - It returns TRUE if given character exist in string,otherwise FALSE."
   ]
  },
  {
   "cell_type": "code",
   "execution_count": 153,
   "metadata": {
    "colab": {
     "base_uri": "https://localhost:8080/"
    },
    "id": "KZNyAeykyOlP",
    "outputId": "8a4d4738-565d-4050-f0d5-5d9f2a31febc",
    "scrolled": true
   },
   "outputs": [
    {
     "name": "stdout",
     "output_type": "stream",
     "text": [
      "True\n"
     ]
    }
   ],
   "source": [
    "Stringvalue=\"Hello\"\n",
    "print('H' in Stringvalue)"
   ]
  },
  {
   "cell_type": "markdown",
   "metadata": {},
   "source": [
    "**<span style=\"color:red\"> My Work </span>**"
   ]
  },
  {
   "cell_type": "code",
   "execution_count": 154,
   "metadata": {},
   "outputs": [
    {
     "name": "stdout",
     "output_type": "stream",
     "text": [
      "False\n",
      "True\n"
     ]
    }
   ],
   "source": [
    "#big R is not in arrrayyyy\n",
    "stringvalue = \"Arrray\"\n",
    "print(\"R\" in stringvalue)\n",
    "\n",
    "#small r is in SUPErSOAKER!!!\n",
    "stringvalue2 = \"Supersoaker\"\n",
    "print(\"r\" in stringvalue2)"
   ]
  },
  {
   "cell_type": "markdown",
   "metadata": {
    "id": "HVyoI3btyOlQ"
   },
   "source": [
    "#### Use of \"not in\""
   ]
  },
  {
   "cell_type": "markdown",
   "metadata": {
    "id": "ie9L4KLsyOlQ"
   },
   "source": [
    " - 'not in' returns true if given character is not in string,otherwise false."
   ]
  },
  {
   "cell_type": "code",
   "execution_count": 155,
   "metadata": {
    "colab": {
     "base_uri": "https://localhost:8080/"
    },
    "id": "dWQS-Q2VyOlQ",
    "outputId": "2a20eb29-78aa-43c4-f54e-ab559b41ce4e"
   },
   "outputs": [
    {
     "name": "stdout",
     "output_type": "stream",
     "text": [
      "True\n"
     ]
    }
   ],
   "source": [
    "Stringvalue=\"Hello\"\n",
    "print('G' not in Stringvalue)"
   ]
  },
  {
   "cell_type": "markdown",
   "metadata": {},
   "source": [
    "**<span style=\"color:red\"> My Work </span>**"
   ]
  },
  {
   "cell_type": "code",
   "execution_count": 156,
   "metadata": {},
   "outputs": [
    {
     "name": "stdout",
     "output_type": "stream",
     "text": [
      "False\n",
      "True\n"
     ]
    }
   ],
   "source": [
    "#is lowercase g not present in grey??? no, grey has a lowercase g\n",
    "stringvalue = \"grey\"\n",
    "print(\"g\" not in stringvalue)\n",
    "\n",
    "#uppercase G is NOT present in grey so FALSEEEEE\n",
    "print(\"G\" not in stringvalue)"
   ]
  },
  {
   "cell_type": "markdown",
   "metadata": {
    "id": "kFeZvcbuyOlR"
   },
   "source": [
    "### String formatting operator"
   ]
  },
  {
   "cell_type": "markdown",
   "metadata": {
    "id": "9qUmlcGGyOlR"
   },
   "source": [
    " - Python uses C-style string formatting to create new, formatted strings.\n",
    " - The \"%\" operator is used to format in print statement.\n",
    "\n",
    "See following examples:"
   ]
  },
  {
   "cell_type": "code",
   "execution_count": 157,
   "metadata": {
    "colab": {
     "base_uri": "https://localhost:8080/"
    },
    "id": "zJWusS3QyOlR",
    "outputId": "b22b4016-e2ea-4fd1-b4ca-f053548fb5bc"
   },
   "outputs": [
    {
     "name": "stdout",
     "output_type": "stream",
     "text": [
      "My name is Sara and weight is 21 kg!\n"
     ]
    }
   ],
   "source": [
    "print(\"My name is %s and weight is %d kg!\" % (\"Sara\", 21))\n"
   ]
  },
  {
   "cell_type": "markdown",
   "metadata": {},
   "source": [
    "**<span style=\"color:red\"> My Work </span>**"
   ]
  },
  {
   "cell_type": "code",
   "execution_count": 158,
   "metadata": {},
   "outputs": [
    {
     "name": "stdout",
     "output_type": "stream",
     "text": [
      "My favourite food is durian and I can eat 2\n"
     ]
    }
   ],
   "source": [
    "#what can I say, i really like durian\n",
    "print(\"My favourite food is %s and I can eat %d\" % (\"durian\", 2))"
   ]
  },
  {
   "cell_type": "markdown",
   "metadata": {
    "id": "cUZC1emnyOlS"
   },
   "source": [
    "## 2.4 Lists"
   ]
  },
  {
   "cell_type": "markdown",
   "metadata": {
    "id": "td4qbX-wyOlS"
   },
   "source": [
    " - Multiple types of data can be stored in a list.\n",
    " - A list contains items separated by commas and enclosed within square brackets [].\n",
    " - Individual elements of a list can be changed\n",
    " - list indices start with 0 just like arrays.\n",
    "\n"
   ]
  },
  {
   "cell_type": "code",
   "execution_count": 159,
   "metadata": {
    "colab": {
     "base_uri": "https://localhost:8080/"
    },
    "id": "1aorf0TnyOlS",
    "outputId": "98b606ca-2bef-4831-89ff-7e439527a945"
   },
   "outputs": [
    {
     "name": "stdout",
     "output_type": "stream",
     "text": [
      "['Mary', 2000]\n"
     ]
    }
   ],
   "source": [
    "list1 = [ 'Mary', 2000 ]\n",
    "\n",
    "print (list1) # Prints complete list\n",
    "\n"
   ]
  },
  {
   "cell_type": "markdown",
   "metadata": {},
   "source": [
    "**<span style=\"color:red\"> My Work </span>**"
   ]
  },
  {
   "cell_type": "code",
   "execution_count": 160,
   "metadata": {},
   "outputs": [
    {
     "name": "stdout",
     "output_type": "stream",
     "text": [
      "['Caitelyn', 2000, 'Victoria', 1997]\n",
      "['Sara', 'Jessica', 'Terence']\n"
     ]
    }
   ],
   "source": [
    "#list of my seatmate and their birth years\n",
    "list1 = [ 'Caitelyn', 2000, \"Victoria\", 1997 ]\n",
    "print (list1) \n",
    "\n",
    "#random list of namesi thought of\n",
    "list2 = [\"Sara\", \"Jessica\", \"Terence\"]\n",
    "print(list2)"
   ]
  },
  {
   "cell_type": "markdown",
   "metadata": {
    "id": "qg3VSu0-yOlT"
   },
   "source": [
    "### Accessing values in list"
   ]
  },
  {
   "cell_type": "markdown",
   "metadata": {
    "id": "ba1xEH-EyOlU"
   },
   "source": [
    " - Square brackets are used to access the values of a list\n",
    " - We can access specific values or range of values from a list"
   ]
  },
  {
   "cell_type": "code",
   "execution_count": 161,
   "metadata": {
    "colab": {
     "base_uri": "https://localhost:8080/"
    },
    "id": "ZqFEZAgMyOlU",
    "outputId": "814c6a2b-ca56-4478-f471-96c4c5f674e0"
   },
   "outputs": [
    {
     "name": "stdout",
     "output_type": "stream",
     "text": [
      "list1[0]:  Physics\n",
      "list2[1:5]:  [2, 3, 4, 5]\n"
     ]
    }
   ],
   "source": [
    "list1 = [ 'Physics' , 'Chemistry' , 1857, 3290]\n",
    "list2 = [1,2,3,4,5,6,7]\n",
    "\n",
    "print(\"list1[0]: \", list1[0])\n",
    "print(\"list2[1:5]: \", list2[1:5])"
   ]
  },
  {
   "cell_type": "markdown",
   "metadata": {},
   "source": [
    "**<span style=\"color:red\"> My Work </span>**"
   ]
  },
  {
   "cell_type": "code",
   "execution_count": 162,
   "metadata": {},
   "outputs": [
    {
     "name": "stdout",
     "output_type": "stream",
     "text": [
      "list1[0]:  Physics\n",
      "list2[3:6]:  [18, 657, 9290]\n"
     ]
    }
   ],
   "source": [
    "list2 = [3, 6, 9, 18, 657, 9290]\n",
    "\n",
    "#from the pervious list of seatmates and birth years\n",
    "print(\"list1[0]: \", list1[0])\n",
    "#print the numbers in positions 3 to 6\n",
    "print(\"list2[3:6]: \", list2[3:6])"
   ]
  },
  {
   "cell_type": "markdown",
   "metadata": {
    "id": "Lof40-tKyOlU"
   },
   "source": [
    "### Updating list"
   ]
  },
  {
   "cell_type": "markdown",
   "metadata": {
    "id": "tWr_3OKlyOlU"
   },
   "source": [
    " - Value of string can be changed or updated by assigning a new value to it.\n",
    " - we can update single or multiple elements of a list by giving slice on left hand of the assignment operator.\n",
    " - we can also update list by using append() function."
   ]
  },
  {
   "cell_type": "code",
   "execution_count": 163,
   "metadata": {
    "colab": {
     "base_uri": "https://localhost:8080/"
    },
    "id": "Mhd3MxO7yOlU",
    "outputId": "91d86da8-c52f-4b8f-fec5-948fa48f8011",
    "scrolled": true
   },
   "outputs": [
    {
     "name": "stdout",
     "output_type": "stream",
     "text": [
      "['dell', 'samsung', 'Apple']\n",
      "['dell', 'samsung', 'Apple', 'acer']\n"
     ]
    }
   ],
   "source": [
    "list1=[\"dell\",\"Hp\",\"Apple\"]\n",
    "list1[1]=\"samsung\"\n",
    "print(list1)\n",
    "\n",
    "list1.append('acer')\n",
    "print(list1)"
   ]
  },
  {
   "cell_type": "markdown",
   "metadata": {},
   "source": [
    "**<span style=\"color:red\"> My Work </span>**"
   ]
  },
  {
   "cell_type": "code",
   "execution_count": 164,
   "metadata": {},
   "outputs": [
    {
     "name": "stdout",
     "output_type": "stream",
     "text": [
      "['dell', 'Catelyn', 'Apple', 'acer']\n",
      "['dell', 'Catelyn', 'Apple', 'acer', 'Jessica']\n"
     ]
    }
   ],
   "source": [
    "#using previous list\n",
    "list1\n",
    "#added CATELYN AGAIN\n",
    "list1[1]=\"Catelyn\"\n",
    "print(list1)\n",
    "\n",
    "list1.append('Jessica')\n",
    "print(list1)"
   ]
  },
  {
   "cell_type": "markdown",
   "metadata": {
    "id": "QnQXtbcvyOlV"
   },
   "source": [
    "### Delete List Element"
   ]
  },
  {
   "cell_type": "markdown",
   "metadata": {
    "id": "ljz5hJNsyOlV"
   },
   "source": [
    "- we can delete the element of list by using del keyword or remove()function.\n",
    "- 'del' keyword is used when you know the position or index of element to be deleted.\n",
    "- remove() function can be used when you don't know the postion of element to be removed.\n",
    "\n",
    "  It would be cleared by using following example:"
   ]
  },
  {
   "cell_type": "code",
   "execution_count": 165,
   "metadata": {
    "colab": {
     "base_uri": "https://localhost:8080/"
    },
    "id": "Ird_FwvGyOlV",
    "outputId": "6c9dbdb8-8033-4f07-cc1c-5a7cc3c6f572"
   },
   "outputs": [
    {
     "name": "stdout",
     "output_type": "stream",
     "text": [
      "['dell', 'Hp', 'Apple']\n",
      "After deleting the value \n",
      "['dell', 'Apple']\n"
     ]
    }
   ],
   "source": [
    "list1=[\"dell\",\"Hp\",\"Apple\"]\n",
    "print (list1) # Prints complete list\n",
    "del list1[1]\n",
    "print(\"After deleting the value \")\n",
    "print (list1)"
   ]
  },
  {
   "cell_type": "code",
   "execution_count": 166,
   "metadata": {
    "colab": {
     "base_uri": "https://localhost:8080/"
    },
    "id": "r1XKQfqByOlW",
    "outputId": "7bb08bea-2063-464f-b62b-f52119c06b2e",
    "scrolled": true
   },
   "outputs": [
    {
     "name": "stdout",
     "output_type": "stream",
     "text": [
      "['dell', 'Hp', 'Apple']\n",
      "After deleting the value \n",
      "['dell', 'Apple']\n"
     ]
    }
   ],
   "source": [
    "list1=[\"dell\",\"Hp\",\"Apple\"]\n",
    "print (list1) # Prints complete list\n",
    "\n",
    "list1.remove('Hp')\n",
    "print(\"After deleting the value \")\n",
    "print (list1)"
   ]
  },
  {
   "cell_type": "markdown",
   "metadata": {},
   "source": [
    "**<span style=\"color:red\"> My Work </span>**"
   ]
  },
  {
   "cell_type": "code",
   "execution_count": 167,
   "metadata": {},
   "outputs": [
    {
     "name": "stdout",
     "output_type": "stream",
     "text": [
      "['apple', 'banana', 'orange']\n",
      "After deleting the value: \n",
      "['apple', 'orange']\n"
     ]
    }
   ],
   "source": [
    "list1=[\"apple\",\"banana\",\"orange\"]\n",
    "print (list1) \n",
    "\n",
    "#deletes bana because its in position 1\n",
    "del list1[1]\n",
    "\n",
    "#prints updated list without banana :()\n",
    "print(\"After deleting the value: \")\n",
    "print (list1)"
   ]
  },
  {
   "cell_type": "markdown",
   "metadata": {
    "id": "ieu1AEWuyOlW"
   },
   "source": [
    "## 2.5 Dictionaries"
   ]
  },
  {
   "cell_type": "markdown",
   "metadata": {
    "id": "ZIgIiR-LyOlW"
   },
   "source": [
    " - Dictionary is an unordered set of key: value pairs, with the requirement that the keys are unique (within one dictionary).\n",
    " - Each key is seperated by colon(:) from its value.\n",
    " - Each item is seperated with comma(,).\n",
    " - A pair of braces creates an empty dictionary: {}.\n",
    " - Python's dictionaries are kind of hash-table type.\n",
    " - A dictionary key can be almost any Python type, but are usually numbers or strings. Values, on the other hand, can be any       arbitrary Python object.\n",
    " - Dictionaries are enclosed by curly braces ({ }) and values can be assigned and accessed using square braces ([])\n",
    " - Dictionaries have no concept of order among elements. It is incorrect to say that the elements are \"out of order\"; they are simply unordered"
   ]
  },
  {
   "cell_type": "markdown",
   "metadata": {
    "id": "GiRscnkeyOlX"
   },
   "source": [
    "## Accessing value in dictionary"
   ]
  },
  {
   "cell_type": "markdown",
   "metadata": {
    "id": "QjNY2bGNyOlY"
   },
   "source": [
    "- Square brackets [] along with the key are used to access its value.\n",
    "\n"
   ]
  },
  {
   "cell_type": "code",
   "execution_count": 168,
   "metadata": {
    "colab": {
     "base_uri": "https://localhost:8080/"
    },
    "id": "Ltum738yyOlY",
    "outputId": "ee3ccf4c-83c6-465f-e3a8-e44643bbd6e1",
    "scrolled": true
   },
   "outputs": [
    {
     "name": "stdout",
     "output_type": "stream",
     "text": [
      "Sara\n"
     ]
    }
   ],
   "source": [
    "dict1 = {'Name':\"Sara\" , \"Department\" : \"SIAT\", \"Batch\":2023}\n",
    "print(dict1['Name'])"
   ]
  },
  {
   "cell_type": "markdown",
   "metadata": {},
   "source": [
    "**<span style=\"color:red\"> My Work </span>**"
   ]
  },
  {
   "cell_type": "code",
   "execution_count": 169,
   "metadata": {},
   "outputs": [
    {
     "name": "stdout",
     "output_type": "stream",
     "text": [
      "Pink\n"
     ]
    }
   ],
   "source": [
    "#FRUIT LISTTTTT\n",
    "dict1 = {'Fruit':\"Peach\" , \"Colour\" : \"Pink\", \"Weight\":500}\n",
    "print(dict1['Colour'])"
   ]
  },
  {
   "cell_type": "markdown",
   "metadata": {
    "id": "1bRngBK_yOlZ"
   },
   "source": [
    "### Updating Dictionary"
   ]
  },
  {
   "cell_type": "markdown",
   "metadata": {
    "id": "2TUfYqiOyOlZ"
   },
   "source": [
    "- we can update values in dictionary\n",
    "- we can also add new values in dictionary\n",
    "\n",
    "Some examples are given below:"
   ]
  },
  {
   "cell_type": "code",
   "execution_count": 170,
   "metadata": {
    "colab": {
     "base_uri": "https://localhost:8080/"
    },
    "id": "U621T8fWyOlZ",
    "outputId": "2cbf0dfa-78e1-4c56-e7d6-33a7a553987f"
   },
   "outputs": [
    {
     "name": "stdout",
     "output_type": "stream",
     "text": [
      "{'Name': 'Sara', 'Department': 'SIAT', 'Batch': 2023}\n",
      "{'Name': 'Sara', 'Department': 'SIAT', 'Batch': 'S23'}\n"
     ]
    }
   ],
   "source": [
    "dict1 = {'Name':\"Sara\" , \"Department\" : \"SIAT\", \"Batch\":2023}\n",
    "print(dict1)\n",
    "dict1['Batch']=\"S23\"\n",
    "print(dict1)\n"
   ]
  },
  {
   "cell_type": "markdown",
   "metadata": {},
   "source": [
    "**<span style=\"color:red\"> My Work </span>**"
   ]
  },
  {
   "cell_type": "code",
   "execution_count": 171,
   "metadata": {},
   "outputs": [
    {
     "name": "stdout",
     "output_type": "stream",
     "text": [
      "{'Name': 'Sara', 'Department': 'SIAT', 'Batch': 'S23', 'Weight': '450'}\n"
     ]
    }
   ],
   "source": [
    "#using fruitlist from above\n",
    "dict1\n",
    "#changes the peach weight from 500 to 450\n",
    "dict1[\"Weight\"] = \"450\"\n",
    "#print new fruit list\n",
    "print(dict1)"
   ]
  },
  {
   "cell_type": "markdown",
   "metadata": {
    "id": "4KbjWOYtyOla"
   },
   "source": [
    "### Delete Dictionary element"
   ]
  },
  {
   "cell_type": "markdown",
   "metadata": {
    "id": "iABNAFIQyOla"
   },
   "source": [
    "- we can delete elements of dictionary as well as complete content of dictionary.\n",
    "- To delete single element del keyword is used.\n",
    "- clear() function  is used to remove complete dictionary.\n",
    "\n",
    " Some examples are as follows:"
   ]
  },
  {
   "cell_type": "code",
   "execution_count": 172,
   "metadata": {
    "colab": {
     "base_uri": "https://localhost:8080/"
    },
    "id": "vtfiXDeOyOla",
    "outputId": "e3c12ac3-bf29-49dc-a332-1400c0f27105",
    "scrolled": true
   },
   "outputs": [
    {
     "name": "stdout",
     "output_type": "stream",
     "text": [
      "{'Name': 'Sara', 'Department': 'SIAT', 'Batch': 2023}\n",
      "{'Name': 'Sara', 'Department': 'SIAT'}\n"
     ]
    }
   ],
   "source": [
    "dict1 = {'Name':\"Sara\" , \"Department\" : \"SIAT\", \"Batch\":2023}\n",
    "print(dict1)\n",
    "\n",
    "del dict1['Batch']\n",
    "print(dict1)"
   ]
  },
  {
   "cell_type": "code",
   "execution_count": 173,
   "metadata": {
    "colab": {
     "base_uri": "https://localhost:8080/"
    },
    "id": "1GP2uAamyOla",
    "outputId": "e2e74e00-f842-420d-9488-3682384b5ae2"
   },
   "outputs": [
    {
     "name": "stdout",
     "output_type": "stream",
     "text": [
      "{}\n"
     ]
    }
   ],
   "source": [
    "dict1 = {'Name':\"Sara\" , \"Department\" : \"SIAT\", \"Batch\":2023}\n",
    "dict1.clear()\n",
    "print(dict1)\n"
   ]
  },
  {
   "cell_type": "markdown",
   "metadata": {},
   "source": [
    "**<span style=\"color:red\"> My Work </span>**"
   ]
  },
  {
   "cell_type": "code",
   "execution_count": 174,
   "metadata": {
    "scrolled": true
   },
   "outputs": [
    {
     "ename": "KeyError",
     "evalue": "'Colour'",
     "output_type": "error",
     "traceback": [
      "\u001b[1;31m---------------------------------------------------------------------------\u001b[0m",
      "\u001b[1;31mKeyError\u001b[0m                                  Traceback (most recent call last)",
      "\u001b[1;32m~\\AppData\\Local\\Temp/ipykernel_22376/2169374543.py\u001b[0m in \u001b[0;36m<module>\u001b[1;34m\u001b[0m\n\u001b[0;32m      1\u001b[0m \u001b[1;31m#using fruit list dict1 from above\u001b[0m\u001b[1;33m\u001b[0m\u001b[1;33m\u001b[0m\u001b[0m\n\u001b[0;32m      2\u001b[0m \u001b[1;33m\u001b[0m\u001b[0m\n\u001b[1;32m----> 3\u001b[1;33m \u001b[1;32mdel\u001b[0m \u001b[0mdict1\u001b[0m\u001b[1;33m[\u001b[0m\u001b[1;34m'Colour'\u001b[0m\u001b[1;33m]\u001b[0m\u001b[1;33m\u001b[0m\u001b[1;33m\u001b[0m\u001b[0m\n\u001b[0m\u001b[0;32m      4\u001b[0m \u001b[0mprint\u001b[0m\u001b[1;33m(\u001b[0m\u001b[0mdict1\u001b[0m\u001b[1;33m)\u001b[0m\u001b[1;33m\u001b[0m\u001b[1;33m\u001b[0m\u001b[0m\n",
      "\u001b[1;31mKeyError\u001b[0m: 'Colour'"
     ]
    }
   ],
   "source": [
    "#using fruit list dict1 from above\n",
    "\n",
    "del dict1['Colour']\n",
    "print(dict1)"
   ]
  },
  {
   "cell_type": "code",
   "execution_count": null,
   "metadata": {},
   "outputs": [],
   "source": [
    "#clearing our fruit list\n",
    "dict1.clear()\n",
    "print(dict1)\n",
    "#will give us NOTHING :("
   ]
  },
  {
   "cell_type": "markdown",
   "metadata": {
    "id": "y9Uo3ISAyOlb"
   },
   "source": [
    "## 2.6 Tuples"
   ]
  },
  {
   "cell_type": "markdown",
   "metadata": {
    "id": "4iDmCoWQyOlb"
   },
   "source": [
    " - A tuple is another sequence data type that is similar to the list.\n",
    " - A tuple consists of a number of values separated by commas. Unlike lists, however, tuples are enclosed within parenthesis.\n",
    " - The main difference between lists and tuples are − Lists are enclosed in brackets ( [ ] ) and their elements and size can be  changed, while tuples are enclosed in parentheses ( ( ) ) and cannot be updated. Tuples can be thought of as read-only lists.   \n",
    " - It can also have multiple data type values.\n",
    "\n",
    "  For example:"
   ]
  },
  {
   "cell_type": "markdown",
   "metadata": {
    "id": "zFrOCg-EyOld"
   },
   "source": [
    "### Accessing values in Tuples"
   ]
  },
  {
   "cell_type": "markdown",
   "metadata": {
    "id": "TznWXoYqyOle"
   },
   "source": [
    "- Square brackets [] along with the index are used to access its value.\n"
   ]
  },
  {
   "cell_type": "code",
   "execution_count": null,
   "metadata": {
    "colab": {
     "base_uri": "https://localhost:8080/"
    },
    "id": "Wz7DRYL0yOle",
    "outputId": "14154051-1af1-47f1-8289-f2a5a1dda467",
    "scrolled": true
   },
   "outputs": [],
   "source": [
    "tuple1 = ( 'simon','sara' , '20', 'saira40')\n",
    "\n",
    "print (tuple1)\n",
    "print(tuple1[1:3])"
   ]
  },
  {
   "cell_type": "markdown",
   "metadata": {},
   "source": [
    "**<span style=\"color:red\"> My Work </span>**"
   ]
  },
  {
   "cell_type": "code",
   "execution_count": null,
   "metadata": {},
   "outputs": [],
   "source": [
    "#tuple of neopets breeds\n",
    "tupleneo = (\"ixi\", \"ruki\", \"chia\", \"chomby\", \"shoryu\")\n",
    "\n",
    "#print the tuple\n",
    "print(tupleneo)\n",
    "\n",
    "#only pring the neopeys chia and chomby and shoryu\n",
    "print(tupleneo[2:5])"
   ]
  },
  {
   "cell_type": "markdown",
   "metadata": {
    "id": "KG5EF_CpyOle"
   },
   "source": [
    "### Updating Tuples"
   ]
  },
  {
   "cell_type": "markdown",
   "metadata": {
    "id": "lBQXz4rTyOle"
   },
   "source": [
    "- Tuples are immutable means we cannot change the value of tuple.\n",
    "- It is read only.\n",
    "- we are able to take portions of tuples to make a new tuple."
   ]
  },
  {
   "cell_type": "code",
   "execution_count": null,
   "metadata": {
    "colab": {
     "base_uri": "https://localhost:8080/"
    },
    "id": "D0VuCX12yOle",
    "outputId": "57127708-79ce-4c3e-9de0-f3f35dc68869",
    "scrolled": true
   },
   "outputs": [],
   "source": [
    "tuple1=('sun','mon','tue','wed','thur','fri' , 'sat')\n",
    "tuple2=(1,2,3,4,5,6,7)\n",
    "print(tuple1)\n",
    "print(tuple2)\n",
    "tuple3=(tuple1+tuple2)\n",
    "print(tuple3)"
   ]
  },
  {
   "cell_type": "markdown",
   "metadata": {},
   "source": [
    "**<span style=\"color:red\"> My Work </span>**"
   ]
  },
  {
   "cell_type": "code",
   "execution_count": null,
   "metadata": {},
   "outputs": [],
   "source": [
    "tupleneo = (\"ixi\", \"ruki\", \"chia\", \"chomby\", \"shoryu\")\n",
    "tupleneoloc = (\"haunted woods\", \"faerieland\", \"krawk island\", \"maraqua\")\n",
    "#print tuple 1 \n",
    "print(tupleneo)\n",
    "\n",
    "#print tuple 2\n",
    "print(tupleneoloc)\n",
    "\n",
    "#add the two tuples together (after each other)\n",
    "tuplemerge=(tupleneo+tupleneoloc)\n",
    "\n",
    "#PRINT THE NEW AND IMPROVED TUPLE\n",
    "print(tuplemerge)"
   ]
  },
  {
   "cell_type": "markdown",
   "metadata": {
    "id": "G_5HMEUsyOlf"
   },
   "source": [
    "### Delete tuple elements"
   ]
  },
  {
   "cell_type": "markdown",
   "metadata": {
    "id": "2OuPrsgmyOlf"
   },
   "source": [
    "- we cannot delete single elements of tuple because they cannot be updated.\n",
    "- To delete entire elements del keyword is used.\n",
    "\n",
    " Some examples are as follows:"
   ]
  },
  {
   "cell_type": "code",
   "execution_count": null,
   "metadata": {
    "colab": {
     "base_uri": "https://localhost:8080/",
     "height": 245
    },
    "id": "m3HmoQn0yOlf",
    "outputId": "47620752-3b4a-4782-b05f-219be31aa4da"
   },
   "outputs": [],
   "source": [
    "tuple1=('sun','mon','tue','wed','thur','fri' , 'sat')\n",
    "tuple2=(1,2,3,4,5,6,7)\n",
    "print(tuple1)\n",
    "print(tuple2)\n",
    "del(tuple1)\n",
    "print(tuple1)"
   ]
  },
  {
   "cell_type": "markdown",
   "metadata": {},
   "source": [
    "**<span style=\"color:red\"> My Work </span>**"
   ]
  },
  {
   "cell_type": "code",
   "execution_count": null,
   "metadata": {},
   "outputs": [],
   "source": [
    "#using THE TUPLENEO AND TUPLE NEOLOC\n",
    "\n",
    "#print tupleneo\n",
    "print(tupleneo)\n",
    "\n",
    "#delete the tuple\n",
    "del(tupleneo)\n",
    "\n",
    "#try to print it again\n",
    "print(tupleneo)"
   ]
  },
  {
   "cell_type": "markdown",
   "metadata": {
    "id": "UtlBviifyOlf"
   },
   "source": [
    "# 2.7 Sets"
   ]
  },
  {
   "cell_type": "markdown",
   "metadata": {
    "id": "CGfmVIIQyOlf"
   },
   "source": [
    " - A set is an unordered collection in which each value occurs at most once.\n",
    " - You can use curly braces to give an expression whose value is a set.\n",
    " - Python prints sets using curly braces.\n",
    " - Every value in a set is immutable but the set itself is immutable we can add o remove items from it.\n",
    " - Sets can be used to perform mathematical operations like union,intersection,etc\n",
    " - Empty set will be written as {}.\n",
    " - We can also make a set from a list using set() function.\n",
    " - Data type can be found using type() function.\n",
    " - add() is used to add single value, update() is used for adding multiple values.\n",
    " - update() function can take tuple,string,list or other set as argument.\n",
    " - discard() and remove() are used to delete specific item from list.\n",
    " - discard() will not raise an error if item doesn't exist.\n",
    " - remove() will raise an error if item doesn't exist in set.\n",
    " - The cardinality of a set S is the number of elements in the set.\n",
    " - In Python, the cardinality of a set is obtained using the function len(·)."
   ]
  },
  {
   "cell_type": "code",
   "execution_count": null,
   "metadata": {
    "colab": {
     "base_uri": "https://localhost:8080/",
     "height": 279
    },
    "id": "tSGADHvTyOlf",
    "outputId": "1e15c2ed-f286-4414-f481-6ccc4f0bd72c",
    "scrolled": true
   },
   "outputs": [],
   "source": [
    "#list\n",
    "list1=[1,2,3,4,5]\n",
    "\n",
    "print(type(list1))\n",
    "\n",
    "my_set=set(list1)\n",
    "\n",
    "print(type(my_set))\n",
    "\n",
    "#set of integers\n",
    "my_set={1,2,3}\n",
    "print(my_set)\n",
    "\n",
    "#set of mixed data types\n",
    "my_set={1, \"Hello\"}\n",
    "\n",
    "#adding a single value\n",
    "my_set.add(\"D\")\n",
    "\n",
    "#adding multiple values\n",
    "my_set.update(list1)\n",
    "print(my_set)\n",
    "\n",
    "\n",
    "my_set.discard('G') #it will not raise an error\n",
    "my_set.remove('G') #it will raise an error\n"
   ]
  },
  {
   "cell_type": "markdown",
   "metadata": {},
   "source": [
    "**<span style=\"color:red\"> My Work </span>**"
   ]
  },
  {
   "cell_type": "code",
   "execution_count": null,
   "metadata": {
    "id": "gIZDQgBWPGnn"
   },
   "outputs": [],
   "source": [
    "#list\n",
    "list1=[2,4,6,8,10,12]\n",
    "\n",
    "print(type(list1))\n",
    "\n",
    "#making the list into my set\n",
    "my_set=set(list1)\n",
    "\n",
    "print(type(my_set))\n",
    "\n",
    "#set of integers\n",
    "my_set={3,5,7,9}\n",
    "print(my_set)\n",
    "\n",
    "#set of mixed data types\n",
    "my_set={3, \"Hello\"}\n",
    "\n",
    "#adding a single value\n",
    "my_set.add(\"R\")\n",
    "\n",
    "my_set.update(list1)\n",
    "print(my_set)\n",
    "\n",
    "\n",
    "my_set.discard('G') #it will not raise an error  because there is no G in my set\n",
    "my_set.remove('G') #it will raise an error\n"
   ]
  },
  {
   "cell_type": "markdown",
   "metadata": {
    "id": "lJROmF7CyOlh"
   },
   "source": [
    "# 3.Comparison Operators"
   ]
  },
  {
   "cell_type": "markdown",
   "metadata": {
    "id": "l5lnkl1ZyOlh"
   },
   "source": [
    " - Comparison operators are used to compare values and return TRUE/FALSE according to the situation.\n",
    " - Python defines the following comparison operators:"
   ]
  },
  {
   "cell_type": "markdown",
   "metadata": {
    "id": "MA2F-JQ0yOli"
   },
   "source": [
    "### Less than operator  (<)"
   ]
  },
  {
   "cell_type": "code",
   "execution_count": null,
   "metadata": {
    "colab": {
     "base_uri": "https://localhost:8080/"
    },
    "id": "i1P_4GR6yOli",
    "outputId": "50a88c16-dadb-4d86-e05d-43a4ee083470"
   },
   "outputs": [],
   "source": [
    "10<17"
   ]
  },
  {
   "cell_type": "markdown",
   "metadata": {
    "id": "FYt5MhnvyOli"
   },
   "source": [
    "### Less than equal to operator (<=)"
   ]
  },
  {
   "cell_type": "code",
   "execution_count": null,
   "metadata": {
    "id": "WwttsZ6xyOli"
   },
   "outputs": [],
   "source": [
    "15<=10"
   ]
  },
  {
   "cell_type": "markdown",
   "metadata": {
    "id": "YnjQrPuJyOli"
   },
   "source": [
    "### Equal to operatoe (==)"
   ]
  },
  {
   "cell_type": "code",
   "execution_count": null,
   "metadata": {
    "colab": {
     "base_uri": "https://localhost:8080/"
    },
    "id": "Zls3VKhNyOlj",
    "outputId": "f1081f85-db81-4465-c343-535d157d7748"
   },
   "outputs": [],
   "source": [
    "16==16"
   ]
  },
  {
   "cell_type": "code",
   "execution_count": null,
   "metadata": {
    "colab": {
     "base_uri": "https://localhost:8080/"
    },
    "id": "mbzpqO44yOlj",
    "outputId": "4b81cfe1-46a2-40fb-dc8f-d604b01894f7"
   },
   "outputs": [],
   "source": [
    "\"Sara\"==\"sara\""
   ]
  },
  {
   "cell_type": "code",
   "execution_count": null,
   "metadata": {
    "colab": {
     "base_uri": "https://localhost:8080/"
    },
    "id": "eQpj0Gz3yOlj",
    "outputId": "5599c4ff-e455-4b39-ec9c-8071402772b0"
   },
   "outputs": [],
   "source": [
    "\"ALI\"==\"ALI\""
   ]
  },
  {
   "cell_type": "markdown",
   "metadata": {
    "id": "ujIEI1kvyOlk"
   },
   "source": [
    "### Not equal to operator (!=)"
   ]
  },
  {
   "cell_type": "code",
   "execution_count": null,
   "metadata": {
    "id": "4WqW1oKJyOlk",
    "outputId": "41e5b74d-0aae-4940-98de-939324e140b7"
   },
   "outputs": [],
   "source": [
    "3!=5"
   ]
  },
  {
   "cell_type": "markdown",
   "metadata": {
    "id": "eXrhRobeyOlk"
   },
   "source": [
    "### OR Operator"
   ]
  },
  {
   "cell_type": "code",
   "execution_count": null,
   "metadata": {
    "id": "rMaG0t_4yOll"
   },
   "outputs": [],
   "source": [
    "(10==10)or(10<17)"
   ]
  },
  {
   "cell_type": "markdown",
   "metadata": {
    "id": "iwG7TeMXyOll"
   },
   "source": [
    "### And operator"
   ]
  },
  {
   "cell_type": "code",
   "execution_count": null,
   "metadata": {
    "id": "8YryjblByOll"
   },
   "outputs": [],
   "source": [
    "(10==10)and (10<17)"
   ]
  },
  {
   "cell_type": "markdown",
   "metadata": {},
   "source": [
    "**<span style=\"color:red\"> My Work </span>**"
   ]
  },
  {
   "cell_type": "code",
   "execution_count": null,
   "metadata": {
    "scrolled": false
   },
   "outputs": [],
   "source": [
    "#less\n",
    "4 < 7"
   ]
  },
  {
   "cell_type": "code",
   "execution_count": null,
   "metadata": {
    "scrolled": true
   },
   "outputs": [],
   "source": [
    "#less than\n",
    "14 <= 67"
   ]
  },
  {
   "cell_type": "code",
   "execution_count": null,
   "metadata": {},
   "outputs": [],
   "source": [
    "#equal to \n",
    "\"equal\" == \"EQUAL\""
   ]
  },
  {
   "cell_type": "code",
   "execution_count": null,
   "metadata": {
    "scrolled": true
   },
   "outputs": [],
   "source": [
    "34 == 98 "
   ]
  },
  {
   "cell_type": "code",
   "execution_count": null,
   "metadata": {
    "scrolled": true
   },
   "outputs": [],
   "source": [
    "#not equal to \n",
    "\n",
    "\"Ghana\" != \"ghana\""
   ]
  },
  {
   "cell_type": "code",
   "execution_count": null,
   "metadata": {
    "scrolled": true
   },
   "outputs": [],
   "source": [
    "(5==5) or (5<9)"
   ]
  },
  {
   "cell_type": "code",
   "execution_count": null,
   "metadata": {},
   "outputs": [],
   "source": [
    "(5==5) and (5<9)"
   ]
  },
  {
   "cell_type": "markdown",
   "metadata": {
    "id": "8a_cI4Z8yOll"
   },
   "source": [
    "# 4.If else statement"
   ]
  },
  {
   "cell_type": "markdown",
   "metadata": {
    "id": "R9qEq9jhyOll"
   },
   "source": [
    " - The if–else is used to make choices in Python code.\n",
    " - This is a compound statement.\n",
    " - The syntax is:\n",
    " - if c o n d i t i o n\n",
    "          action −1\n",
    "  else :\n",
    "          action −2\n",
    " - The indentation is required"
   ]
  },
  {
   "cell_type": "code",
   "execution_count": null,
   "metadata": {
    "colab": {
     "base_uri": "https://localhost:8080/"
    },
    "id": "WBSEtB9ayOll",
    "outputId": "d6751f28-e6be-4c8a-a2b6-5ac723fa41cc",
    "scrolled": true
   },
   "outputs": [],
   "source": [
    "x = 3\n",
    "if x > 0:\n",
    "    print(\" sunday is wonderful\")\n",
    "else :\n",
    "    print(\" Monday is Good \")\n",
    "\n"
   ]
  },
  {
   "cell_type": "code",
   "execution_count": 175,
   "metadata": {
    "colab": {
     "base_uri": "https://localhost:8080/"
    },
    "id": "vNZbNRhIQKYn",
    "outputId": "911eafc7-5cc5-4ff2-8359-7f174c67a9a2",
    "scrolled": true
   },
   "outputs": [
    {
     "name": "stdout",
     "output_type": "stream",
     "text": [
      "Even\n"
     ]
    }
   ],
   "source": [
    "if 25 % 2:\n",
    "  print(\"Even\")\n",
    "else:\n",
    "  print(\"Odd\")\n"
   ]
  },
  {
   "cell_type": "markdown",
   "metadata": {},
   "source": [
    "**<span style=\"color:red\"> My Work </span>**"
   ]
  },
  {
   "cell_type": "code",
   "execution_count": 176,
   "metadata": {},
   "outputs": [
    {
     "name": "stdout",
     "output_type": "stream",
     "text": [
      "polo\n"
     ]
    }
   ],
   "source": [
    "#marco polo or pogo???\n",
    "x = \"marco\"\n",
    "if x == \"marco\":\n",
    "    print(\"polo\")\n",
    "else: \n",
    "    print(\"pogo\")"
   ]
  },
  {
   "cell_type": "code",
   "execution_count": 177,
   "metadata": {},
   "outputs": [
    {
     "name": "stdout",
     "output_type": "stream",
     "text": [
      "this number is even\n"
     ]
    }
   ],
   "source": [
    "#even or odd number checker\n",
    "if 57 % 2:\n",
    "  print(\"this number is even\")\n",
    "else:\n",
    "  print(\"this number is odd\")\n"
   ]
  },
  {
   "cell_type": "markdown",
   "metadata": {
    "id": "tX-ELcXpyOlm"
   },
   "source": [
    "# 5.For and while loop"
   ]
  },
  {
   "cell_type": "markdown",
   "metadata": {
    "id": "vHrWxmv9yOlm"
   },
   "source": [
    "- Python has for and while loop for iteration,used when we want to perfrom a specific task repeatedly."
   ]
  },
  {
   "cell_type": "markdown",
   "metadata": {
    "id": "7Cclh2veyOlm"
   },
   "source": [
    "### For loop"
   ]
  },
  {
   "cell_type": "markdown",
   "metadata": {
    "id": "T91L9EFHyOlm"
   },
   "source": [
    "- The for statement is used to iterate over the elements of a sequence.\n",
    "- It's traditionally used when you have a piece of code which you want to repeat n number of time.\n",
    "- The syntax of a for loop is:\n",
    "\n",
    "    for item in list :\n",
    "      a c t i o n\n",
    "- As usual, the action consists of one or more statements, all at the same indentation level. These statements are also known as the body of the loop. The item is a variable name, and list is a list.\n",
    "- Execution of the for loop works by setting the variable successively to each item in the list, and then executing the body each time.\n",
    "\n",
    "  Here is a simple example:"
   ]
  },
  {
   "cell_type": "code",
   "execution_count": 178,
   "metadata": {
    "colab": {
     "base_uri": "https://localhost:8080/"
    },
    "id": "Kpsb7A2YyOlm",
    "outputId": "430933bb-6e7f-4da7-9d75-d9b03bff7b96"
   },
   "outputs": [
    {
     "name": "stdout",
     "output_type": "stream",
     "text": [
      "2\n",
      "4\n",
      "6\n",
      "0\n"
     ]
    }
   ],
   "source": [
    "for i in [2 , 4 , 6 , 0]:\n",
    "    print(i)\n"
   ]
  },
  {
   "cell_type": "code",
   "execution_count": 179,
   "metadata": {
    "id": "Q4ZzlHcjyOlr",
    "outputId": "df0303c9-a2f0-45e5-eb18-f8bf26961289"
   },
   "outputs": [
    {
     "name": "stdout",
     "output_type": "stream",
     "text": [
      "1\n",
      "2\n",
      "3\n",
      "4\n",
      "5\n"
     ]
    }
   ],
   "source": [
    "for counter in range(1, 6):\n",
    "    print (counter)"
   ]
  },
  {
   "cell_type": "code",
   "execution_count": 180,
   "metadata": {
    "colab": {
     "base_uri": "https://localhost:8080/"
    },
    "id": "DdTgxLwbyOls",
    "outputId": "1b0f705b-c00b-4720-e9ca-69d5e24ca6da"
   },
   "outputs": [
    {
     "name": "stdout",
     "output_type": "stream",
     "text": [
      "s\n",
      "a\n",
      "r\n",
      "a\n"
     ]
    }
   ],
   "source": [
    "word = \"sara\"\n",
    "for letter in word:\n",
    "    print (letter)"
   ]
  },
  {
   "cell_type": "markdown",
   "metadata": {},
   "source": [
    "**<span style=\"color:red\"> My Work </span>**"
   ]
  },
  {
   "cell_type": "code",
   "execution_count": 181,
   "metadata": {},
   "outputs": [
    {
     "name": "stdout",
     "output_type": "stream",
     "text": [
      "e\n",
      "n\n",
      "n\n",
      "r\n",
      "e\n"
     ]
    }
   ],
   "source": [
    "#print the 3rd letter in the list of words\n",
    "for i in [\"Sweden\", \"Denmark\", \"Finland\", \"Norway\", \"Iceland\"]:\n",
    "    print(i[2])\n"
   ]
  },
  {
   "cell_type": "markdown",
   "metadata": {
    "id": "xRVaJ8yhyOlt"
   },
   "source": [
    "### While loop"
   ]
  },
  {
   "cell_type": "code",
   "execution_count": 182,
   "metadata": {
    "colab": {
     "base_uri": "https://localhost:8080/"
    },
    "id": "WfmtJZKWQsmx",
    "outputId": "02b0904d-4acd-4f9d-90d4-1d9b42fd1243",
    "scrolled": true
   },
   "outputs": [
    {
     "name": "stdout",
     "output_type": "stream",
     "text": [
      "1\n",
      "2\n",
      "3\n",
      "4\n",
      "5\n",
      "6\n",
      "7\n",
      "8\n",
      "9\n",
      "10\n"
     ]
    }
   ],
   "source": [
    "a=0\n",
    "while a < 10:\n",
    "  a=a+1\n",
    "  print(a)\n"
   ]
  },
  {
   "cell_type": "markdown",
   "metadata": {},
   "source": [
    "**<span style=\"color:red\"> My Work </span>**"
   ]
  },
  {
   "cell_type": "code",
   "execution_count": 183,
   "metadata": {},
   "outputs": [
    {
     "name": "stdout",
     "output_type": "stream",
     "text": [
      "2\n",
      "4\n",
      "6\n",
      "8\n",
      "10\n",
      "12\n"
     ]
    }
   ],
   "source": [
    "#counting by 2s \n",
    "a=0\n",
    "while a <= 10:\n",
    "    a = a+2\n",
    "    print(a)\n"
   ]
  },
  {
   "cell_type": "markdown",
   "metadata": {
    "id": "L1MwXDpdyOlv"
   },
   "source": [
    "# 6.Functions"
   ]
  },
  {
   "cell_type": "markdown",
   "metadata": {
    "id": "65xX9WZ9yOlv"
   },
   "source": [
    " - You use functions in programming to bundle a set of instructions that you want to use repeatedly or that, because of their  complexity, are better self-contained in a sub-program and called when needed.                                 \n",
    " - Function is a piece of code written to carry out a specified task.\n",
    " - There are three types of functions in Python:\n",
    " - Built-in functions, such as help() to ask for help, min() to get the minimum value, print() to print an object.\n",
    " - User-Defined Functions (UDFs), which are functions that users create to help them out.\n",
    " - Anonymous functions, which are also called lambda functions because they are not declared with the standard def keyword.\n",
    " - The syntax is:\n",
    "\n",
    "   def functionname(parameters)\n",
    "    \n",
    "   \"function_docstring\"\n",
    "   \n",
    "   function_suite\n",
    "   \n",
    "   return [expression]\n"
   ]
  },
  {
   "cell_type": "code",
   "execution_count": 184,
   "metadata": {
    "colab": {
     "base_uri": "https://localhost:8080/"
    },
    "id": "6H6ReP86yOlw",
    "outputId": "5aea9389-2ddf-4045-8778-82ef7ac73002"
   },
   "outputs": [
    {
     "name": "stdout",
     "output_type": "stream",
     "text": [
      "Mary\n"
     ]
    }
   ],
   "source": [
    "def my_function(name):\n",
    "  #This prints a passed string into this function\n",
    "    print(name)\n",
    "    return;\n",
    "\n",
    "#Now you can call my_function\n",
    "my_function(\"Mary\")\n",
    "\n",
    "\n"
   ]
  },
  {
   "cell_type": "markdown",
   "metadata": {},
   "source": [
    "**<span style=\"color:red\"> My Work </span>**"
   ]
  },
  {
   "cell_type": "code",
   "execution_count": 185,
   "metadata": {},
   "outputs": [
    {
     "data": {
      "text/plain": [
       "15"
      ]
     },
     "execution_count": 185,
     "metadata": {},
     "output_type": "execute_result"
    }
   ],
   "source": [
    "def addingtgt(a, b):\n",
    "#adds the two numbers passed together  \n",
    "    c = a+b\n",
    "    return c\n",
    "\n",
    "addingtgt(5, 10)\n"
   ]
  },
  {
   "cell_type": "markdown",
   "metadata": {
    "id": "oZC9oo-jyOlw"
   },
   "source": [
    "# 7.Lambda Functions"
   ]
  },
  {
   "cell_type": "markdown",
   "metadata": {
    "id": "MknoTpf-yOlw"
   },
   "source": [
    " - The creation of anonymous functions at runtime,using a construct called \"lambda\"\n",
    " - A lambda function is a small anonymous function.\n",
    " - A lambda function can take any number of arguments, but can only have one expression.\n",
    " - Lambda function does not include return statement,it always contains an expression which is returned.\n",
    " - You might want to use lambdas when you don’t want to use a function twice in a program.\n",
    "\n",
    "   some examples are given:"
   ]
  },
  {
   "cell_type": "code",
   "execution_count": 186,
   "metadata": {
    "colab": {
     "base_uri": "https://localhost:8080/"
    },
    "id": "c-GXl-L-RdIC",
    "outputId": "e19b2430-d928-4a5e-b78e-0e536c101520"
   },
   "outputs": [
    {
     "name": "stdout",
     "output_type": "stream",
     "text": [
      "64\n"
     ]
    }
   ],
   "source": [
    "#Normal Function\n",
    "def f (x):\n",
    "  return x**2\n",
    "print (f(8))"
   ]
  },
  {
   "cell_type": "code",
   "execution_count": 187,
   "metadata": {
    "colab": {
     "base_uri": "https://localhost:8080/"
    },
    "id": "pBOo5NroR3fG",
    "outputId": "b22beff1-17d8-4645-a4ce-34559ac92c84"
   },
   "outputs": [
    {
     "data": {
      "text/plain": [
       "30"
      ]
     },
     "execution_count": 187,
     "metadata": {},
     "output_type": "execute_result"
    }
   ],
   "source": [
    "times3 = lambda var:var*3\n",
    "times3(10)\n",
    "\n",
    "#lamba expressions : another way to write a function in line"
   ]
  },
  {
   "cell_type": "code",
   "execution_count": 188,
   "metadata": {
    "id": "KPDPCAjpyOlw"
   },
   "outputs": [
    {
     "name": "stdout",
     "output_type": "stream",
     "text": [
      "8\n"
     ]
    }
   ],
   "source": [
    "add = lambda x, y: x + y\n",
    "\n",
    "print(add(3, 5))"
   ]
  },
  {
   "cell_type": "markdown",
   "metadata": {},
   "source": [
    "**<span style=\"color:red\"> My Work </span>**"
   ]
  },
  {
   "cell_type": "code",
   "execution_count": 189,
   "metadata": {},
   "outputs": [
    {
     "name": "stdout",
     "output_type": "stream",
     "text": [
      "128\n",
      "216225\n"
     ]
    }
   ],
   "source": [
    "#subtraction lambda\n",
    "subtract = lambda x, y: x - y\n",
    "#squared lambda\n",
    "squares = lambda a: a*a\n",
    "\n",
    "print(subtract(195, 67))\n",
    "print(squares(465))"
   ]
  },
  {
   "cell_type": "markdown",
   "metadata": {
    "id": "WVp38V0nyOlx"
   },
   "source": [
    "## 7.1 Map()"
   ]
  },
  {
   "cell_type": "markdown",
   "metadata": {
    "id": "Z0LFGyJKyOlx"
   },
   "source": [
    " - Map() function is used with two arguments.Just like: r=map(func,seq)\n",
    " - The first argument func is function name and the second is a sequence(list etc)\n",
    " - Map functions expects a function object and any number of iterables like list, dictionary, etc.\n",
    " - It executes the function_object for each element in the sequence and returns a list of the elements modified by the function  object.\n",
    "\n",
    "   Example:\n",
    "\n"
   ]
  },
  {
   "cell_type": "code",
   "execution_count": 190,
   "metadata": {
    "colab": {
     "base_uri": "https://localhost:8080/"
    },
    "id": "5H7aW8b1yOlx",
    "outputId": "7bd94578-75bb-495c-f50c-561af8e402fe"
   },
   "outputs": [
    {
     "name": "stdout",
     "output_type": "stream",
     "text": [
      "['It', 'is', 'raining', 'cats', 'and', 'dogs']\n"
     ]
    },
    {
     "data": {
      "text/plain": [
       "[2, 2, 7, 4, 3, 4]"
      ]
     },
     "execution_count": 190,
     "metadata": {},
     "output_type": "execute_result"
    }
   ],
   "source": [
    "sentence = \"It is raining cats and dogs\"\n",
    "words = sentence.split()\n",
    "print(words)\n",
    "\n",
    "lengths= map(lambda word :len(word), words)\n",
    "\n",
    "list (lengths)"
   ]
  },
  {
   "cell_type": "markdown",
   "metadata": {},
   "source": [
    "**<span style=\"color:red\"> My Work </span>**"
   ]
  },
  {
   "cell_type": "code",
   "execution_count": 191,
   "metadata": {},
   "outputs": [
    {
     "name": "stdout",
     "output_type": "stream",
     "text": [
      "['Oh', 'no!', 'Try', 'again,', 'you', 'can', 'do', 'it']\n",
      "[2, 3, 3, 6, 3, 3, 2, 2]\n"
     ]
    }
   ],
   "source": [
    "sentence = \"Oh no! Try again, you can do it\"\n",
    "words = sentence.split()\n",
    "print(words)\n",
    "\n",
    "lengths= map(lambda word :len(word), words)\n",
    "\n",
    "wordlen = list(lengths)\n",
    "print(wordlen)\n",
    " #splits the sentences in words and then counts the number of letters in each word"
   ]
  },
  {
   "cell_type": "markdown",
   "metadata": {
    "id": "oQ458z36yOly"
   },
   "source": [
    "## 7.2 Filter()"
   ]
  },
  {
   "cell_type": "markdown",
   "metadata": {
    "id": "DklokG5fyOly"
   },
   "source": [
    " - The filter() method filters the given iterable with the help of a function that tests each element in the iterable to be true or not.\n",
    " - The syntax of filter() method is:\n",
    "      filter(function, iterable)\n",
    " - The filter() method takes two parameters:\n",
    "\n",
    "      1)function - function that tests if elements of an iterable returns true or false If None, the function defaults to Identity function - which returns false if any elements are false\n",
    "      \n",
    "      2)iterable - iterable which is to be filtered, could be sets, lists, tuples, or containers of any iterators\n",
    " - The filter() method returns an iterator that passed the function check for each element in the iterable."
   ]
  },
  {
   "cell_type": "code",
   "execution_count": 192,
   "metadata": {
    "colab": {
     "base_uri": "https://localhost:8080/"
    },
    "id": "zEv6KZ6SyOly",
    "outputId": "c0da59c2-8050-4496-8326-29429075d9d3"
   },
   "outputs": [
    {
     "name": "stdout",
     "output_type": "stream",
     "text": [
      "a\n",
      "e\n",
      "i\n",
      "o\n"
     ]
    }
   ],
   "source": [
    "# list of alphabets\n",
    "alphabets = ['a', 'b', 'd', 'e', 'i', 'j', 'o']\n",
    "\n",
    "# function that filters vowels\n",
    "def filterVowels(alphabet):\n",
    "    vowels = ['a', 'e', 'i', 'o', 'u']\n",
    "\n",
    "    if(alphabet in vowels):\n",
    "        return True\n",
    "    else:\n",
    "        return False\n",
    "\n",
    "for i in filter(filterVowels, alphabets):\n",
    "     print(i)\n"
   ]
  },
  {
   "cell_type": "code",
   "execution_count": 193,
   "metadata": {
    "id": "BqRYKFNbyOly"
   },
   "outputs": [
    {
     "name": "stdout",
     "output_type": "stream",
     "text": [
      "The filtered elements are:\n",
      "1\n",
      "a\n",
      "True\n",
      "0\n"
     ]
    }
   ],
   "source": [
    "# random list\n",
    "randomList = [1, 'a', 0, False, True, '0']\n",
    "\n",
    "filteredList = filter(None, randomList)\n",
    "\n",
    "print('The filtered elements are:')\n",
    "for element in filteredList:\n",
    "    print(element)"
   ]
  },
  {
   "cell_type": "code",
   "execution_count": 194,
   "metadata": {
    "id": "SxEi_36LyOly"
   },
   "outputs": [
    {
     "name": "stdout",
     "output_type": "stream",
     "text": [
      "18\n",
      "24\n",
      "32\n"
     ]
    }
   ],
   "source": [
    "ages = [5, 12, 17, 18, 24, 32]\n",
    "\n",
    "def myFunc(x):\n",
    "  if x < 18:\n",
    "    return False\n",
    "  else:\n",
    "    return True\n",
    "\n",
    "adults = filter(myFunc, ages)\n",
    "\n",
    "for x in adults:\n",
    "  print(x)\n"
   ]
  },
  {
   "cell_type": "markdown",
   "metadata": {},
   "source": [
    "**<span style=\"color:red\"> My Work </span>**"
   ]
  },
  {
   "cell_type": "code",
   "execution_count": 195,
   "metadata": {},
   "outputs": [
    {
     "name": "stdout",
     "output_type": "stream",
     "text": [
      "o\n",
      "a\n",
      "a\n",
      "i\n",
      "o\n",
      "u\n",
      "a\n",
      "o\n",
      "i\n"
     ]
    }
   ],
   "source": [
    "sentence = \"Oh no! Try again, you can do it\"\n",
    "\n",
    "# filters the vowels in the sentence\n",
    "def filterVowels(alphabet):\n",
    "    vowels = ['a', 'e', 'i', 'o', 'u']\n",
    "\n",
    "    if(alphabet in vowels):\n",
    "        return True\n",
    "    else:\n",
    "        return False\n",
    "\n",
    "for i in filter(filterVowels, sentence):\n",
    "     print(i)"
   ]
  },
  {
   "cell_type": "markdown",
   "metadata": {
    "id": "ZPuRsXogyOly"
   },
   "source": [
    "# 8.File I/O"
   ]
  },
  {
   "cell_type": "markdown",
   "metadata": {
    "id": "x0jKuKHqyOly"
   },
   "source": [
    " - In this section we will cover basic I/O functions."
   ]
  },
  {
   "cell_type": "markdown",
   "metadata": {
    "id": "5RPtaY-_yOly"
   },
   "source": [
    "## Reading input from keyboard"
   ]
  },
  {
   "cell_type": "markdown",
   "metadata": {
    "id": "8SDiWf1hyOlz"
   },
   "source": [
    " -  There are two functions in Python that you can use to read data from the user:raw_input and input\n",
    " -  You can store the results from them into a variable\n",
    " -  If the input function is called, the program flow will be stopped until the user has given an input and has ended the input  with the return key. The text of the optional parameter, i.e. the prompt, will be printed on the screen.\n",
    "\n",
    " Let's have a look at the following example:"
   ]
  },
  {
   "cell_type": "code",
   "execution_count": 196,
   "metadata": {
    "id": "njG09b1ayOlz"
   },
   "outputs": [
    {
     "ename": "NameError",
     "evalue": "name 'raw_input' is not defined",
     "output_type": "error",
     "traceback": [
      "\u001b[1;31m---------------------------------------------------------------------------\u001b[0m",
      "\u001b[1;31mNameError\u001b[0m                                 Traceback (most recent call last)",
      "\u001b[1;32m~\\AppData\\Local\\Temp/ipykernel_22376/558233412.py\u001b[0m in \u001b[0;36m<module>\u001b[1;34m\u001b[0m\n\u001b[1;32m----> 1\u001b[1;33m \u001b[0mname\u001b[0m \u001b[1;33m=\u001b[0m \u001b[0mraw_input\u001b[0m\u001b[1;33m(\u001b[0m\u001b[1;34m\"What's your name? \"\u001b[0m\u001b[1;33m)\u001b[0m\u001b[1;33m\u001b[0m\u001b[1;33m\u001b[0m\u001b[0m\n\u001b[0m\u001b[0;32m      2\u001b[0m \u001b[0mprint\u001b[0m\u001b[1;33m(\u001b[0m\u001b[1;34m\"Nice to meet you \"\u001b[0m \u001b[1;33m+\u001b[0m \u001b[0mname\u001b[0m \u001b[1;33m+\u001b[0m \u001b[1;34m\"!\"\u001b[0m\u001b[1;33m)\u001b[0m\u001b[1;33m\u001b[0m\u001b[1;33m\u001b[0m\u001b[0m\n",
      "\u001b[1;31mNameError\u001b[0m: name 'raw_input' is not defined"
     ]
    }
   ],
   "source": [
    "name = raw_input(\"What's your name? \")\n",
    "print(\"Nice to meet you \" + name + \"!\")"
   ]
  },
  {
   "cell_type": "code",
   "execution_count": null,
   "metadata": {
    "id": "DCsRozsVyOlz"
   },
   "outputs": [],
   "source": [
    "age = raw_input(\"What's your age? \")\n",
    "print(\"your age is \" + age + \"!\")"
   ]
  },
  {
   "cell_type": "code",
   "execution_count": null,
   "metadata": {
    "id": "xOk3tlxnyOlz",
    "scrolled": true
   },
   "outputs": [],
   "source": [
    "string=raw_input(\"enter your university....\")\n",
    "print(string)"
   ]
  },
  {
   "cell_type": "markdown",
   "metadata": {},
   "source": [
    "\n",
    "**<span style=\"color:red\"> My Work </span>**"
   ]
  },
  {
   "cell_type": "code",
   "execution_count": null,
   "metadata": {},
   "outputs": [],
   "source": [
    "#what i wish a man would say to me\n",
    "name = raw_input(\"What would you like to be called, princess?\")\n",
    "print(name + \", it's wonderful to see you. I will dedicate my life to yours.\")"
   ]
  },
  {
   "cell_type": "markdown",
   "metadata": {
    "id": "zRkWgckHyOlz"
   },
   "source": [
    "## I/O From or to text file"
   ]
  },
  {
   "cell_type": "markdown",
   "metadata": {
    "id": "oxmeYQrDyOlz"
   },
   "source": [
    " - In this scenario, we will read and write to a text file.\n",
    " - we can open files in different modes."
   ]
  },
  {
   "cell_type": "markdown",
   "metadata": {
    "id": "MzGL-uTvyOlz"
   },
   "source": [
    "## Read only mode"
   ]
  },
  {
   "cell_type": "markdown",
   "metadata": {
    "id": "keQohLS-yOlz"
   },
   "source": [
    " - r opens a file in read only mode.\n",
    " - The file pointer is placed at the beginning of the file.\n",
    " - This is the default mode."
   ]
  },
  {
   "cell_type": "code",
   "execution_count": null,
   "metadata": {
    "id": "yHg4cgB0yOl0"
   },
   "outputs": [],
   "source": [
    "file = open(\"hello.txt\", \"r\")\n",
    "str=file.read();\n",
    "print(str)\n",
    "file.close()"
   ]
  },
  {
   "cell_type": "markdown",
   "metadata": {},
   "source": [
    "**<span style=\"color:red\"> My Work </span>**"
   ]
  },
  {
   "cell_type": "code",
   "execution_count": null,
   "metadata": {},
   "outputs": [],
   "source": [
    "#opens and reads the txt file into my notebook\n",
    "file = open(\"icy.txt\", \"r\")\n",
    "str=file.read();\n",
    "print(str)\n",
    "file.close()"
   ]
  },
  {
   "cell_type": "markdown",
   "metadata": {
    "id": "aaldi51jyOl0"
   },
   "source": [
    "## Read and write mode"
   ]
  },
  {
   "cell_type": "markdown",
   "metadata": {
    "id": "cY4AUvQlyOl0"
   },
   "source": [
    " - r+ opens a file in read and write mode.\n",
    " - The file pointer placed at the beginning of the file"
   ]
  },
  {
   "cell_type": "code",
   "execution_count": null,
   "metadata": {
    "id": "ajwMxemAyOl0"
   },
   "outputs": [],
   "source": [
    "# Open a file\n",
    "file = open(\"hello.txt\", \"r+\")\n",
    "str = file.read(10);\n",
    "print(\"Read String is : \", str)\n",
    "# Close opend"
   ]
  },
  {
   "cell_type": "markdown",
   "metadata": {},
   "source": [
    "**<span style=\"color:red\"> My Work </span>**"
   ]
  },
  {
   "cell_type": "code",
   "execution_count": null,
   "metadata": {},
   "outputs": [],
   "source": [
    "#reads the first 25 characters in the txt file\n",
    "file = open(\"hello.txt\", \"r+\")\n",
    "str = file.read(25);\n",
    "print(\"Read String is : \", str)\n"
   ]
  },
  {
   "cell_type": "markdown",
   "metadata": {
    "id": "XE1AyUsRyOl0"
   },
   "source": [
    "## Write mode only"
   ]
  },
  {
   "cell_type": "markdown",
   "metadata": {
    "id": "MkuBNVJGyOl0"
   },
   "source": [
    " - w opens a file in write mode only.\n",
    " - Overwrites the file if the file exists. If the file does not exist, creates a new file for writing"
   ]
  },
  {
   "cell_type": "code",
   "execution_count": null,
   "metadata": {
    "id": "KGRhdassyOl0"
   },
   "outputs": [],
   "source": [
    "file = open('write.txt','w')\n",
    "file.write(\"This is the write command\")\n",
    "file.write(\"It allows us to write in a particular file\")\n",
    "file = open('write.txt','r')\n",
    "str=file.read()\n",
    "print(str)\n",
    "file.close()\n"
   ]
  },
  {
   "cell_type": "markdown",
   "metadata": {},
   "source": [
    "**<span style=\"color:red\"> My Work </span>**"
   ]
  },
  {
   "cell_type": "code",
   "execution_count": null,
   "metadata": {},
   "outputs": [],
   "source": [
    "#opens/creates a new txt file and then we are writing a few sentences in it\n",
    "file = open('write.txt','w')\n",
    "file.write(\"We are writing in this text file.\")\n",
    "file.write(\"I will likely delete this file after it has been committed and pushed\")\n",
    "file = open('write.txt','r')\n",
    "str=file.read()\n",
    "print(str)\n",
    "file.close()\n"
   ]
  },
  {
   "cell_type": "markdown",
   "metadata": {
    "id": "UNmsy8MwyOl0"
   },
   "source": [
    "## Append mode"
   ]
  },
  {
   "cell_type": "markdown",
   "metadata": {
    "id": "A9Trygn4yOl1"
   },
   "source": [
    " - a opens a file in append mode.\n",
    " - The file pointer is at the end of the file if the file exists.\n",
    " - That is, the file is in the append mode. If the file does not exist, it creates a new file for writing.\n"
   ]
  },
  {
   "cell_type": "code",
   "execution_count": null,
   "metadata": {
    "id": "d6E4BHyTyOl1"
   },
   "outputs": [],
   "source": [
    "file = open('write.txt','a')\n",
    "file.write(\"This will add this line\")\n",
    "file = open('write.txt','r')\n",
    "str=file.read()\n",
    "print(str)\n",
    "file.close()"
   ]
  },
  {
   "cell_type": "markdown",
   "metadata": {},
   "source": [
    "**<span style=\"color:red\"> My Work </span>**"
   ]
  },
  {
   "cell_type": "code",
   "execution_count": null,
   "metadata": {},
   "outputs": [],
   "source": [
    "#opens the write.txt file to add/append onto it\n",
    "file = open('write.txt','a')\n",
    "file.write(\"I wish i knew how to create a line break.\")\n",
    "file = open('write.txt','r')\n",
    "str=file.read()\n",
    "print(str)\n",
    "file.close()"
   ]
  },
  {
   "cell_type": "markdown",
   "metadata": {
    "id": "aTFsMWYhyOl1"
   },
   "source": [
    "## Append and read mode"
   ]
  },
  {
   "cell_type": "markdown",
   "metadata": {
    "id": "ngY7ZsNVyOl1"
   },
   "source": [
    " - a+ opens a file in append and read mode.\n",
    " - The file pointer is at the end of the file if the file exists. The file opens in the append mode. If the file does not exist,    it creates a  new file for reading and writing."
   ]
  },
  {
   "cell_type": "code",
   "execution_count": null,
   "metadata": {
    "id": "DprDg-hKyOl1"
   },
   "outputs": [],
   "source": [
    "file = open('hello.txt','a+')\n",
    "file.write(\"MSCS From comsats university\")\n",
    "file.close()\n",
    "file = open('hello.txt','r')\n",
    "str=file.read()\n",
    "print(str)\n",
    "file.close()"
   ]
  },
  {
   "cell_type": "markdown",
   "metadata": {},
   "source": [
    "**<span style=\"color:red\"> My Work </span>**"
   ]
  },
  {
   "cell_type": "code",
   "execution_count": null,
   "metadata": {},
   "outputs": [],
   "source": [
    "#adds the specified sentence toi the txt file \n",
    "file = open('hello.txt','a+')\n",
    "file.write(\"I often go to icy bar with my friends on the weekends\")\n",
    "file.close()\n",
    "file = open('hello.txt','r')\n",
    "str=file.read()\n",
    "print(str)\n",
    "file.close()"
   ]
  },
  {
   "cell_type": "markdown",
   "metadata": {
    "id": "l3Y11euJyOl1"
   },
   "source": [
    "## File Position"
   ]
  },
  {
   "cell_type": "markdown",
   "metadata": {
    "id": "3PeRgKfOyOl1"
   },
   "source": [
    " - tells() method tells the current position within the file.\n",
    " - seek() method changes the current file method.\n",
    " - Following is the syntax for seek() method:    fileObject.seek(offset[, whence])"
   ]
  },
  {
   "cell_type": "code",
   "execution_count": null,
   "metadata": {
    "id": "ONseEgUhyOl2",
    "scrolled": true
   },
   "outputs": [],
   "source": [
    "f = open('hello.txt',\"r+\")\n",
    "str=f.read(20);\n",
    "print(\"read string is :\",str)\n",
    "\n",
    "position=f.tell();\n",
    "print(\"current file position is :\",position)\n",
    "\n",
    "position=f.seek(5);\n",
    "str=f.read(10);\n",
    "print(\"again read string is :\",str)\n",
    "f.close()"
   ]
  },
  {
   "cell_type": "markdown",
   "metadata": {},
   "source": [
    "**<span style=\"color:red\"> My Work </span>**"
   ]
  },
  {
   "cell_type": "code",
   "execution_count": null,
   "metadata": {},
   "outputs": [],
   "source": [
    "#opens the hello.txt file and reads the first 25 characterws\n",
    "f = open('hello.txt',\"r+\")\n",
    "str=f.read(25);\n",
    "print(\"read string is :\",str)\n",
    "\n",
    "#tells you where the current pointer position\n",
    "position=f.tell();\n",
    "print(\"current file position is :\", position)\n",
    "\n",
    "#reads the next 10 characters from the file pointer positionl at the fifth character\n",
    "position=f.seek(5);\n",
    "str=f.read(10);\n",
    "print(\"Again read string is :\",str)\n",
    "f.close()"
   ]
  },
  {
   "cell_type": "markdown",
   "metadata": {
    "id": "Tc7pA461yOl2"
   },
   "source": [
    "# 9.Pandas Introduction"
   ]
  },
  {
   "cell_type": "markdown",
   "metadata": {
    "id": "-Ua5TNpkyOl2"
   },
   "source": [
    "Pandas is an open-source Python Library providing high-performance data manipulation and analysis tool using its powerful data structures. The name Pandas is derived from the word Panel Data – an Econometrics from Multidimensional data. In 2008, developer Wes McKinney started developing pandas when in need of high performance, flexible tool for analysis of data.\n",
    "\n",
    "Prior to Pandas, Python was majorly used for data munging and preparation. It had very less contribution towards data analysis. Pandas solved this problem. Using Pandas, we can accomplish five typical steps in the processing and analysis of data, regardless of the origin of data — load, prepare, manipulate, model, and analyze.\n",
    "\n",
    "Python with Pandas is used in a wide range of fields including academic and commercial domains including finance, economics, Statistics, analytics, etc.\n",
    "\n",
    "#### Key Features of Pandas\n",
    "\n",
    "-  Fast and efficient DataFrame object with default and customized indexing.\n",
    "-  Tools for loading data into in-memory data objects from different file formats.\n",
    "-  Data alignment and integrated handling of missing data.\n",
    "-  Reshaping and pivoting of date sets.\n",
    "- Label-based slicing, indexing and subsetting of large data sets.\n",
    "- Columns from a data structure can be deleted or inserted.\n",
    "- Group by data for aggregation and transformations.\n",
    "- High performance merging and joining of data.\n",
    "- Time Series functionality.\n",
    "\n",
    "Pandas deals with the following three data structures:\n",
    "- Series\n",
    "- DataFrame\n",
    "- Panel\n",
    "\n",
    "These data structures are built on top of Numpy array, which means they are fast.\n"
   ]
  },
  {
   "cell_type": "markdown",
   "metadata": {
    "id": "7UhOYctbyOl2"
   },
   "source": [
    "# 10.Series"
   ]
  },
  {
   "cell_type": "markdown",
   "metadata": {
    "id": "F2ejGx40yOl3"
   },
   "source": [
    "- The Series is a one-dimensional array that can store various data types, including mix data types.\n",
    "- The row labels in a Series are called the index.\n",
    "- Any list, tuple and dictionary can be converted in to Series using ‘series’ method\n",
    "- Basic method to create a series: s = pd.Series(data, index = index)\n",
    "- Series is size immutable."
   ]
  },
  {
   "cell_type": "code",
   "execution_count": null,
   "metadata": {},
   "outputs": [],
   "source": [
    "import pandas as pd"
   ]
  },
  {
   "cell_type": "code",
   "execution_count": null,
   "metadata": {
    "id": "zfjalz43yOl3",
    "outputId": "c88b7c27-ee2b-4d39-a892-68e7eb468d0f"
   },
   "outputs": [],
   "source": [
    "\n",
    "s = pd.Series([1, 'Lahore', 2, 3, 'Happy Eating!'])\n",
    "s"
   ]
  },
  {
   "cell_type": "markdown",
   "metadata": {},
   "source": [
    "**<span style=\"color:red\"> My Work </span>**"
   ]
  },
  {
   "cell_type": "code",
   "execution_count": null,
   "metadata": {},
   "outputs": [],
   "source": [
    "#making a series from the split sentence from earlier\n",
    "s= pd.Series(words)\n",
    "s"
   ]
  },
  {
   "cell_type": "markdown",
   "metadata": {
    "id": "dI6uBvULyOl3"
   },
   "source": [
    "## 10.1 Series creation from ndarray"
   ]
  },
  {
   "cell_type": "markdown",
   "metadata": {
    "id": "01S-Ny2HyOl3"
   },
   "source": [
    "- Index must be of same length as data. If no index is passed, it will automatically be [0, ..., len(data) - 1]"
   ]
  },
  {
   "cell_type": "code",
   "execution_count": null,
   "metadata": {
    "id": "cBjhyRc8yOl3",
    "outputId": "e237431c-bd37-4616-dff5-3d96183c8203"
   },
   "outputs": [],
   "source": [
    "first_series = pd.Series([1,2,4,8,16,32,64])\n",
    "print(type(first_series))\n",
    "print(first_series)"
   ]
  },
  {
   "cell_type": "code",
   "execution_count": null,
   "metadata": {
    "id": "R3ZkJ1GmyOl3",
    "outputId": "75070581-635a-4cd3-d0af-d2d25a168895"
   },
   "outputs": [],
   "source": [
    "import numpy as np\n",
    "s = pd.Series(np.random.randn(5), index=['a', 'b', 'c', 'd', 'e'])\n",
    "print(s)\n",
    "print('-'*50)\n",
    "print(s.index)"
   ]
  },
  {
   "cell_type": "markdown",
   "metadata": {},
   "source": [
    "**<span style=\"color:red\"> My Work </span>**"
   ]
  },
  {
   "cell_type": "code",
   "execution_count": null,
   "metadata": {},
   "outputs": [],
   "source": [
    "#random serires with specified index and random values\n",
    "s = pd.Series(np.random.randn(10), index=[\"Aaron\", \"Angela\", \"Brad\", \"Betty\", \"Connor\", \"Christina\", \"Edward\", \"Eva\", \"Fred\", \"Fiona\"])\n",
    "print(s)\n",
    "print('-'*50)\n",
    "print(s.index)"
   ]
  },
  {
   "cell_type": "markdown",
   "metadata": {
    "id": "eMXtyavDyOl4"
   },
   "source": [
    "## 10.2 Series creation from dict"
   ]
  },
  {
   "cell_type": "markdown",
   "metadata": {
    "id": "hjoIsJ2IyOl4"
   },
   "source": [
    "- If Data is a dictionary, if index is passed the values in data corresponding to the labels in the index will be pulled out, otherwise an index will be constructed from the sorted keys of the dict."
   ]
  },
  {
   "cell_type": "code",
   "execution_count": null,
   "metadata": {
    "id": "4xrcGFoTyOl4",
    "outputId": "ac30a1e8-3fd1-4387-c066-03c7e91a023e"
   },
   "outputs": [],
   "source": [
    "d = {'a': 100., 'b': 200., 'c': 300.}\n",
    "pd.Series(d)"
   ]
  },
  {
   "cell_type": "code",
   "execution_count": null,
   "metadata": {
    "id": "NkCxdZA_yOl4",
    "outputId": "f68a62be-1c5b-4124-be48-bbf94424b020",
    "scrolled": true
   },
   "outputs": [],
   "source": [
    "data = {'abc': 1, 'def': 2, 'xyz': 3}\n",
    "pd.Series(data)"
   ]
  },
  {
   "cell_type": "markdown",
   "metadata": {},
   "source": [
    "**<span style=\"color:red\"> My Work </span>**"
   ]
  },
  {
   "cell_type": "code",
   "execution_count": null,
   "metadata": {},
   "outputs": [],
   "source": [
    "#creates a series from a dict\n",
    "namesnyear = {'Catelyn': 2000, 'Erica': 2000., 'Victoria': 1997}\n",
    "pd.Series(namesnyear)"
   ]
  },
  {
   "cell_type": "markdown",
   "metadata": {
    "id": "H2MRRj99yOl4"
   },
   "source": [
    "## 10.3 Series creation from a scalar value"
   ]
  },
  {
   "cell_type": "markdown",
   "metadata": {
    "id": "KsGGOv8WyOl4"
   },
   "source": [
    "- Index must be provided. The value will be repeated to match the length of the index"
   ]
  },
  {
   "cell_type": "code",
   "execution_count": 197,
   "metadata": {
    "id": "b6Nk_rYGyOl4",
    "outputId": "9d7b590d-b585-4a3d-808b-fed9ce69ee9e"
   },
   "outputs": [
    {
     "data": {
      "text/plain": [
       "a    5\n",
       "b    5\n",
       "c    5\n",
       "dtype: int64"
      ]
     },
     "execution_count": 197,
     "metadata": {},
     "output_type": "execute_result"
    }
   ],
   "source": [
    "pd.Series(5, index = ['a', 'b', 'c'])"
   ]
  },
  {
   "cell_type": "code",
   "execution_count": 198,
   "metadata": {
    "id": "e6o_vTGqyOl5",
    "outputId": "97c4db3e-7ba2-4969-9c6d-b6e3ee2e20d8"
   },
   "outputs": [
    {
     "data": {
      "text/plain": [
       "a    3\n",
       "b    3\n",
       "c    3\n",
       "d    3\n",
       "dtype: int64"
      ]
     },
     "execution_count": 198,
     "metadata": {},
     "output_type": "execute_result"
    }
   ],
   "source": [
    " x = pd.Series(3, index=['a', 'b', 'c', 'd'])\n",
    "x"
   ]
  },
  {
   "cell_type": "markdown",
   "metadata": {},
   "source": [
    "**<span style=\"color:red\"> My Work </span>**"
   ]
  },
  {
   "cell_type": "code",
   "execution_count": 199,
   "metadata": {},
   "outputs": [
    {
     "ename": "AttributeError",
     "evalue": "'dict' object has no attribute 'Series'",
     "output_type": "error",
     "traceback": [
      "\u001b[1;31m---------------------------------------------------------------------------\u001b[0m",
      "\u001b[1;31mAttributeError\u001b[0m                            Traceback (most recent call last)",
      "\u001b[1;32m~\\AppData\\Local\\Temp/ipykernel_22376/878421830.py\u001b[0m in \u001b[0;36m<module>\u001b[1;34m\u001b[0m\n\u001b[0;32m      1\u001b[0m \u001b[1;31m#series where all the labels have the same value 150\u001b[0m\u001b[1;33m\u001b[0m\u001b[1;33m\u001b[0m\u001b[0m\n\u001b[1;32m----> 2\u001b[1;33m \u001b[0md\u001b[0m\u001b[1;33m.\u001b[0m\u001b[0mSeries\u001b[0m\u001b[1;33m(\u001b[0m\u001b[1;36m150\u001b[0m\u001b[1;33m,\u001b[0m \u001b[0mindex\u001b[0m \u001b[1;33m=\u001b[0m \u001b[1;33m[\u001b[0m\u001b[1;34m\"Alberta\"\u001b[0m\u001b[1;33m,\u001b[0m \u001b[1;34m\"BC\"\u001b[0m\u001b[1;33m,\u001b[0m \u001b[1;34m\"Manitoba\"\u001b[0m\u001b[1;33m,\u001b[0m \u001b[1;34m\"Ontario\"\u001b[0m\u001b[1;33m,\u001b[0m \u001b[1;34m\"Saskatchewan\"\u001b[0m\u001b[1;33m,\u001b[0m \u001b[1;34m\"PEI\"\u001b[0m\u001b[1;33m]\u001b[0m\u001b[1;33m)\u001b[0m\u001b[1;33m\u001b[0m\u001b[1;33m\u001b[0m\u001b[0m\n\u001b[0m",
      "\u001b[1;31mAttributeError\u001b[0m: 'dict' object has no attribute 'Series'"
     ]
    }
   ],
   "source": [
    "#series where all the labels have the same value 150\n",
    "d.Series(150, index = [\"Alberta\", \"BC\", \"Manitoba\", \"Ontario\", \"Saskatchewan\", \"PEI\"])"
   ]
  },
  {
   "cell_type": "markdown",
   "metadata": {
    "id": "0friS_53yOl5"
   },
   "source": [
    "## 10.4 Series is ndarray-like"
   ]
  },
  {
   "cell_type": "markdown",
   "metadata": {
    "id": "Brz5h-cpyOl5"
   },
   "source": [
    "- Series acts similar to a numpy array, and is valid arguments to most numpy functions.\n",
    "- Slicing also slices the index\n",
    "- Short Intro, back to this later\n"
   ]
  },
  {
   "cell_type": "code",
   "execution_count": null,
   "metadata": {
    "id": "IqC55bSIyOl5",
    "outputId": "f48584a4-43aa-4577-9246-f36a75397ee9"
   },
   "outputs": [],
   "source": [
    "s = pd.Series(np.random.randn(5), index=['a', 'b', 'c', 'd', 'e'])\n",
    "print(s)"
   ]
  },
  {
   "cell_type": "code",
   "execution_count": null,
   "metadata": {
    "id": "nSsIdb_YyOl5",
    "outputId": "f1670697-4d7f-42f9-e24b-42c1a61f039f"
   },
   "outputs": [],
   "source": [
    "s = pd.Series(np.random.randn(5), index=['a', 'b', 'c', 'd', 'e'])\n",
    "print(s.iloc([2,1,4]))"
   ]
  },
  {
   "cell_type": "code",
   "execution_count": null,
   "metadata": {
    "id": "53e1vgcQyOl6",
    "outputId": "769d5f9b-9a36-4e1d-b5a7-3cc33e69f153"
   },
   "outputs": [],
   "source": [
    "s = pd.Series(np.random.randn(5), index=['a', 'b', 'c', 'd', 'e'])\n",
    "print(s[:3])"
   ]
  },
  {
   "cell_type": "code",
   "execution_count": null,
   "metadata": {
    "id": "TqGKKQbqyOl6",
    "outputId": "449b75b7-7e39-473b-ec56-a07335de35fc"
   },
   "outputs": [],
   "source": [
    "s = pd.Series(np.random.randn(5), index=['a', 'b', 'c', 'd', 'e'])\n",
    "print(s[[3,2,1]])"
   ]
  },
  {
   "cell_type": "code",
   "execution_count": null,
   "metadata": {
    "id": "3wxQHxy6yOl6",
    "outputId": "90757dfd-e469-48fb-a557-0485a46aae3b"
   },
   "outputs": [],
   "source": [
    "s = pd.Series(np.random.randn(5), index=['a', 'b', 'c', 'd', 'e'])\n",
    "np.exp(s)"
   ]
  },
  {
   "cell_type": "code",
   "execution_count": null,
   "metadata": {
    "id": "5iUQfdUhyOl6",
    "outputId": "4a61bec1-1fb1-4b63-ddfa-ad570aaac42b"
   },
   "outputs": [],
   "source": [
    "s = pd.Series(np.random.randn(5), index=['a', 'b', 'c', 'd', 'e'])\n",
    "s['b']"
   ]
  },
  {
   "cell_type": "code",
   "execution_count": null,
   "metadata": {
    "id": "UDDwezMayOl6",
    "outputId": "070ebe27-4b55-466c-8840-cdbac139cdc6"
   },
   "outputs": [],
   "source": [
    "s = pd.Series(np.random.randn(5), index=['a', 'b', 'c', 'd', 'e'])\n",
    "s['b']=12.\n",
    "s"
   ]
  },
  {
   "cell_type": "code",
   "execution_count": null,
   "metadata": {
    "id": "k_XnicdVyOl7",
    "outputId": "502ccae4-b0dd-44ef-f6b7-8f07a0fb0676"
   },
   "outputs": [],
   "source": [
    "s = pd.Series(np.random.randn(5), index=['a', 'b', 'c', 'd', 'e'])\n",
    "'e' in s"
   ]
  },
  {
   "cell_type": "code",
   "execution_count": null,
   "metadata": {
    "id": "uMCSf_Y2yOl7",
    "outputId": "fe949d5a-0b4b-47d6-8aa3-56bfc443168d",
    "scrolled": true
   },
   "outputs": [],
   "source": [
    "s = pd.Series(np.random.randn(5), index=['a', 'b', 'c', 'd', 'e'])\n",
    "'f' in s"
   ]
  },
  {
   "cell_type": "markdown",
   "metadata": {},
   "source": [
    "**<span style=\"color:red\"> My Work </span>**"
   ]
  },
  {
   "cell_type": "code",
   "execution_count": 200,
   "metadata": {},
   "outputs": [
    {
     "name": "stdout",
     "output_type": "stream",
     "text": [
      "Aaron     0.086971\n",
      "Angela   -0.495495\n",
      "Brad      1.361139\n",
      "dtype: float64\n"
     ]
    },
    {
     "data": {
      "text/plain": [
       "False"
      ]
     },
     "execution_count": 200,
     "metadata": {},
     "output_type": "execute_result"
    }
   ],
   "source": [
    "#creates a series with random values\n",
    "s = pd.Series(np.random.randn(10), index=[\"Aaron\", \"Angela\", \"Brad\", \"Betty\", \"Connor\", \"Christina\", \"Edward\", \"Eva\", \"Fred\", \"Fiona\"])\n",
    "#prints the first 3 entires\n",
    "print(s[:3])\n",
    "#rewrites the value at Brad\n",
    "s['Brad']=6.93\n",
    "s\n",
    "#checks if Stephanie is in the series\n",
    "\"Stephanie\" in s"
   ]
  },
  {
   "cell_type": "markdown",
   "metadata": {
    "id": "FFBYK173yOl7"
   },
   "source": [
    "## 10.5 Series is dict-like"
   ]
  },
  {
   "cell_type": "markdown",
   "metadata": {
    "id": "D63HP5uryOl7"
   },
   "source": [
    "- A Series is like a xed-size dict in that you can get and set values by index label\n"
   ]
  },
  {
   "cell_type": "code",
   "execution_count": 201,
   "metadata": {
    "id": "vaoksIR6yOl7",
    "outputId": "f12cfa24-d9d5-4762-d392-33f32ba1de22"
   },
   "outputs": [
    {
     "data": {
      "text/plain": [
       "{0: 1, 1: 2, 2: 3, 3: 4}"
      ]
     },
     "execution_count": 201,
     "metadata": {},
     "output_type": "execute_result"
    }
   ],
   "source": [
    "s = pd.Series([1, 2, 3, 4])\n",
    "s.to_dict()"
   ]
  },
  {
   "cell_type": "markdown",
   "metadata": {},
   "source": [
    "**<span style=\"color:red\"> My Work </span>**"
   ]
  },
  {
   "cell_type": "code",
   "execution_count": 202,
   "metadata": {},
   "outputs": [
    {
     "data": {
      "text/plain": [
       "{0: 'Catelyn', 1: 'Erica', 2: 'Victoria'}"
      ]
     },
     "execution_count": 202,
     "metadata": {},
     "output_type": "execute_result"
    }
   ],
   "source": [
    "\n",
    "s = pd.Series([\"Catelyn\", \"Erica\", \"Victoria\"])\n",
    "s.to_dict()"
   ]
  },
  {
   "cell_type": "markdown",
   "metadata": {
    "id": "180ETyUjyOl8"
   },
   "source": [
    "## 10.6 Vectorized operations and label alignment with Series"
   ]
  },
  {
   "cell_type": "markdown",
   "metadata": {
    "id": "KCB-XKkvyOl8"
   },
   "source": [
    "- When doing data analysis,as with the row NumPy arrays looping through series value by value is usually not necessary.\n",
    "- Series can also be passed into most NumPy method expecting an ndarray.\n",
    "- NumPy and Pandas generalize arithmetic operations so that we can easily and quickly perform the same operation on many array elements. For example:"
   ]
  },
  {
   "cell_type": "code",
   "execution_count": 203,
   "metadata": {
    "id": "yb9MTS7uyOl8"
   },
   "outputs": [],
   "source": [
    "import numpy as np\n"
   ]
  },
  {
   "cell_type": "code",
   "execution_count": 204,
   "metadata": {},
   "outputs": [
    {
     "data": {
      "text/plain": [
       "array([ 4,  6, 10, 14, 22, 26])"
      ]
     },
     "execution_count": 204,
     "metadata": {},
     "output_type": "execute_result"
    }
   ],
   "source": [
    "x = np.array([2, 3, 5, 7, 11, 13])\n",
    "x * 2"
   ]
  },
  {
   "cell_type": "code",
   "execution_count": 205,
   "metadata": {
    "id": "T0XjCey7yOl8"
   },
   "outputs": [
    {
     "data": {
      "text/plain": [
       "['Saima', 'Aisha', 'Faiza', 'Saira']"
      ]
     },
     "execution_count": 205,
     "metadata": {},
     "output_type": "execute_result"
    }
   ],
   "source": [
    "data = ['saima', 'aisha', 'faiza', 'saira']\n",
    "[s.capitalize() for s in data]"
   ]
  },
  {
   "cell_type": "markdown",
   "metadata": {},
   "source": [
    "**<span style=\"color:red\"> My Work </span>**"
   ]
  },
  {
   "cell_type": "code",
   "execution_count": 206,
   "metadata": {},
   "outputs": [
    {
     "data": {
      "text/plain": [
       "['Bc',\n",
       " 'Alberta',\n",
       " 'Ontario',\n",
       " 'Manitoba',\n",
       " 'Saskatchewan',\n",
       " 'Pei',\n",
       " 'Newfoundland and labrador']"
      ]
     },
     "execution_count": 206,
     "metadata": {},
     "output_type": "execute_result"
    }
   ],
   "source": [
    "#creates a series with province names and then capitalizes the names\n",
    "provinces = [\"bc\", \"alberta\", \"ontario\", \"manitoba\", \"saskatchewan\", \"pei\", \"newfoundland and labrador\"]\n",
    "[s.capitalize() for s in provinces]"
   ]
  },
  {
   "cell_type": "markdown",
   "metadata": {
    "id": "bpxpEP8EyOl8"
   },
   "source": [
    "# 11.Data Frames"
   ]
  },
  {
   "cell_type": "markdown",
   "metadata": {
    "id": "8BXIK4ggyOl8"
   },
   "source": [
    "- A DataFrame is a two dimensional object that can have columns with potential different types. Different kind of inputs include dictionaries, lists, series, and even another DataFrame.\n",
    "- It is the most commonly used pandas object.\n",
    "- You can create a series from:\n",
    "    - Dict of 1D ndarrays, lists, dicts, or Series\n",
    "    - 2-D numpy array\n",
    "    - A list of dictionaries\n",
    "    - A Series\n",
    "    - Another Dataframe\n",
    "  \n",
    "- index/ columns is a list of the row/ column labels. If you pass an index and/ or columns, you are guarenteeing the index and /or column of the df.\n",
    "- If you do not pass anything in, the input will be constructed by \"common sense\" rules"
   ]
  },
  {
   "cell_type": "code",
   "execution_count": 207,
   "metadata": {
    "id": "1J32JzcfyOl8"
   },
   "outputs": [
    {
     "data": {
      "text/plain": [
       "DatetimeIndex(['2013-01-01', '2013-01-02', '2013-01-03', '2013-01-04',\n",
       "               '2013-01-05', '2013-01-06'],\n",
       "              dtype='datetime64[ns]', freq='D')"
      ]
     },
     "execution_count": 207,
     "metadata": {},
     "output_type": "execute_result"
    }
   ],
   "source": [
    "dates = pd.date_range('20130101',periods=6)\n",
    "dates"
   ]
  },
  {
   "cell_type": "markdown",
   "metadata": {},
   "source": [
    "**<span style=\"color:red\"> My Work </span>**"
   ]
  },
  {
   "cell_type": "code",
   "execution_count": 208,
   "metadata": {},
   "outputs": [
    {
     "data": {
      "text/plain": [
       "DatetimeIndex(['2020-01-01', '2020-01-02', '2020-01-03', '2020-01-04',\n",
       "               '2020-01-05'],\n",
       "              dtype='datetime64[ns]', freq='D')"
      ]
     },
     "execution_count": 208,
     "metadata": {},
     "output_type": "execute_result"
    }
   ],
   "source": [
    "dates = pd.date_range('20200101',periods=5)\n",
    "dates"
   ]
  },
  {
   "cell_type": "markdown",
   "metadata": {
    "id": "4p-RjZzryOl9"
   },
   "source": [
    "## 11.1 Dataframe creation from dict of series or dicts"
   ]
  },
  {
   "cell_type": "markdown",
   "metadata": {
    "id": "TwildvJwyOl9"
   },
   "source": [
    " - The index of the resulting DataFrame will be the union of the indices of the various Series. If there are any nested dicts, these will be converted to Series.\n",
    " - If no columns are passed, the columns will be the sorted list of dict keys."
   ]
  },
  {
   "cell_type": "code",
   "execution_count": 209,
   "metadata": {
    "id": "jMeigrnSyOl9",
    "outputId": "c364db12-e3b8-4920-a4e3-22d783300e9d"
   },
   "outputs": [
    {
     "name": "stdout",
     "output_type": "stream",
     "text": [
      "   one  two\n",
      "a  1.0    0\n",
      "b  2.0    1\n",
      "c  3.0    2\n",
      "d  NaN    3\n"
     ]
    }
   ],
   "source": [
    "# Create a dictionary of series\n",
    "d = {'one': pd.Series([1,2,3], index = ['a', 'b', 'c']),\n",
    "'two': pd.Series(list(range(4)), index = ['a','b', 'c', 'd'])}\n",
    "# Columns are dictionary keys, indices and values obtained from series\n",
    "df = pd.DataFrame(d)\n",
    "# Notice how it fills the column one with NaN for d\n",
    "print(df)"
   ]
  },
  {
   "cell_type": "code",
   "execution_count": null,
   "metadata": {
    "id": "TUxXLngayOl-",
    "outputId": "39322feb-696b-4ca9-cb17-52d7d1aa3b11",
    "scrolled": true
   },
   "outputs": [],
   "source": []
  },
  {
   "cell_type": "markdown",
   "metadata": {},
   "source": [
    "**<span style=\"color:red\"> My Work </span>**"
   ]
  },
  {
   "cell_type": "code",
   "execution_count": 210,
   "metadata": {},
   "outputs": [
    {
     "data": {
      "text/html": [
       "<div>\n",
       "<style scoped>\n",
       "    .dataframe tbody tr th:only-of-type {\n",
       "        vertical-align: middle;\n",
       "    }\n",
       "\n",
       "    .dataframe tbody tr th {\n",
       "        vertical-align: top;\n",
       "    }\n",
       "\n",
       "    .dataframe thead th {\n",
       "        text-align: right;\n",
       "    }\n",
       "</style>\n",
       "<table border=\"1\" class=\"dataframe\">\n",
       "  <thead>\n",
       "    <tr style=\"text-align: right;\">\n",
       "      <th></th>\n",
       "      <th>Provinces</th>\n",
       "      <th>Year They Joined Confederation</th>\n",
       "    </tr>\n",
       "  </thead>\n",
       "  <tbody>\n",
       "    <tr>\n",
       "      <th>0</th>\n",
       "      <td>Nova Scotia</td>\n",
       "      <td>1999</td>\n",
       "    </tr>\n",
       "    <tr>\n",
       "      <th>1</th>\n",
       "      <td>New Brunswick</td>\n",
       "      <td>1999</td>\n",
       "    </tr>\n",
       "    <tr>\n",
       "      <th>2</th>\n",
       "      <td>Quebec</td>\n",
       "      <td>1999</td>\n",
       "    </tr>\n",
       "    <tr>\n",
       "      <th>3</th>\n",
       "      <td>Ontario</td>\n",
       "      <td>1999</td>\n",
       "    </tr>\n",
       "  </tbody>\n",
       "</table>\n",
       "</div>"
      ],
      "text/plain": [
       "       Provinces  Year They Joined Confederation\n",
       "0    Nova Scotia                            1999\n",
       "1  New Brunswick                            1999\n",
       "2         Quebec                            1999\n",
       "3        Ontario                            1999"
      ]
     },
     "execution_count": 210,
     "metadata": {},
     "output_type": "execute_result"
    }
   ],
   "source": [
    "#df with provincial names and years they joined confedeartion\n",
    "confed = {'Provinces': [\"Nova Scotia\", \"New Brunswick\", \"Quebec\", \"Ontario\"], 'Year They Joined Confederation': [1999, 1999, 1999, 1999]}\n",
    "df = pd.DataFrame(confed)\n",
    "df\n"
   ]
  },
  {
   "cell_type": "markdown",
   "metadata": {
    "id": "mvK2GFyByOl-"
   },
   "source": [
    "## 11.2  Dataframe creation from dict of ndarrays/lists"
   ]
  },
  {
   "cell_type": "markdown",
   "metadata": {
    "id": "UGb600_WyOl-"
   },
   "source": [
    " - The ndarrays must all be the same length.\n",
    " - If an index is passed, it must clearly also be the same length as the arrays. If no index is passed, the result will be range(n), where n is the array length."
   ]
  },
  {
   "cell_type": "code",
   "execution_count": 211,
   "metadata": {
    "id": "6bNw6BszyOl-",
    "outputId": "711d7827-e11d-4936-86e4-928f78f5e2b3"
   },
   "outputs": [
    {
     "data": {
      "text/html": [
       "<div>\n",
       "<style scoped>\n",
       "    .dataframe tbody tr th:only-of-type {\n",
       "        vertical-align: middle;\n",
       "    }\n",
       "\n",
       "    .dataframe tbody tr th {\n",
       "        vertical-align: top;\n",
       "    }\n",
       "\n",
       "    .dataframe thead th {\n",
       "        text-align: right;\n",
       "    }\n",
       "</style>\n",
       "<table border=\"1\" class=\"dataframe\">\n",
       "  <thead>\n",
       "    <tr style=\"text-align: right;\">\n",
       "      <th></th>\n",
       "      <th>one</th>\n",
       "      <th>two</th>\n",
       "    </tr>\n",
       "  </thead>\n",
       "  <tbody>\n",
       "    <tr>\n",
       "      <th>0</th>\n",
       "      <td>1.0</td>\n",
       "      <td>4.0</td>\n",
       "    </tr>\n",
       "    <tr>\n",
       "      <th>1</th>\n",
       "      <td>2.0</td>\n",
       "      <td>3.0</td>\n",
       "    </tr>\n",
       "    <tr>\n",
       "      <th>2</th>\n",
       "      <td>3.0</td>\n",
       "      <td>2.0</td>\n",
       "    </tr>\n",
       "    <tr>\n",
       "      <th>3</th>\n",
       "      <td>4.0</td>\n",
       "      <td>1.0</td>\n",
       "    </tr>\n",
       "  </tbody>\n",
       "</table>\n",
       "</div>"
      ],
      "text/plain": [
       "   one  two\n",
       "0  1.0  4.0\n",
       "1  2.0  3.0\n",
       "2  3.0  2.0\n",
       "3  4.0  1.0"
      ]
     },
     "execution_count": 211,
     "metadata": {},
     "output_type": "execute_result"
    }
   ],
   "source": [
    "d = {'one' : [1., 2., 3., 4.], 'two' : [4., 3., 2., 1.]}\n",
    "pd.DataFrame(d)"
   ]
  },
  {
   "cell_type": "code",
   "execution_count": 212,
   "metadata": {
    "id": "40LfkQw_yOl-",
    "outputId": "13763f1a-7c4e-499c-a481-21cf0eb83d93",
    "scrolled": true
   },
   "outputs": [
    {
     "data": {
      "text/html": [
       "<div>\n",
       "<style scoped>\n",
       "    .dataframe tbody tr th:only-of-type {\n",
       "        vertical-align: middle;\n",
       "    }\n",
       "\n",
       "    .dataframe tbody tr th {\n",
       "        vertical-align: top;\n",
       "    }\n",
       "\n",
       "    .dataframe thead th {\n",
       "        text-align: right;\n",
       "    }\n",
       "</style>\n",
       "<table border=\"1\" class=\"dataframe\">\n",
       "  <thead>\n",
       "    <tr style=\"text-align: right;\">\n",
       "      <th></th>\n",
       "      <th>a</th>\n",
       "      <th>b</th>\n",
       "      <th>c</th>\n",
       "      <th>d</th>\n",
       "      <th>e</th>\n",
       "    </tr>\n",
       "  </thead>\n",
       "  <tbody>\n",
       "    <tr>\n",
       "      <th>0</th>\n",
       "      <td>7</td>\n",
       "      <td>3</td>\n",
       "      <td>7</td>\n",
       "      <td>6</td>\n",
       "      <td>4</td>\n",
       "    </tr>\n",
       "    <tr>\n",
       "      <th>1</th>\n",
       "      <td>8</td>\n",
       "      <td>1</td>\n",
       "      <td>0</td>\n",
       "      <td>2</td>\n",
       "      <td>2</td>\n",
       "    </tr>\n",
       "    <tr>\n",
       "      <th>2</th>\n",
       "      <td>1</td>\n",
       "      <td>6</td>\n",
       "      <td>5</td>\n",
       "      <td>3</td>\n",
       "      <td>2</td>\n",
       "    </tr>\n",
       "    <tr>\n",
       "      <th>3</th>\n",
       "      <td>8</td>\n",
       "      <td>9</td>\n",
       "      <td>4</td>\n",
       "      <td>9</td>\n",
       "      <td>7</td>\n",
       "    </tr>\n",
       "    <tr>\n",
       "      <th>4</th>\n",
       "      <td>2</td>\n",
       "      <td>4</td>\n",
       "      <td>4</td>\n",
       "      <td>9</td>\n",
       "      <td>0</td>\n",
       "    </tr>\n",
       "  </tbody>\n",
       "</table>\n",
       "</div>"
      ],
      "text/plain": [
       "   a  b  c  d  e\n",
       "0  7  3  7  6  4\n",
       "1  8  1  0  2  2\n",
       "2  1  6  5  3  2\n",
       "3  8  9  4  9  7\n",
       "4  2  4  4  9  0"
      ]
     },
     "execution_count": 212,
     "metadata": {},
     "output_type": "execute_result"
    }
   ],
   "source": [
    "df2 = pd.DataFrame(np.random.randint(low=0, high=10, size=(5, 5)), columns=['a', 'b', 'c', 'd', 'e'])\n",
    "df2"
   ]
  },
  {
   "cell_type": "markdown",
   "metadata": {},
   "source": [
    "**<span style=\"color:red\"> My Work </span>**"
   ]
  },
  {
   "cell_type": "code",
   "execution_count": 213,
   "metadata": {},
   "outputs": [
    {
     "data": {
      "text/html": [
       "<div>\n",
       "<style scoped>\n",
       "    .dataframe tbody tr th:only-of-type {\n",
       "        vertical-align: middle;\n",
       "    }\n",
       "\n",
       "    .dataframe tbody tr th {\n",
       "        vertical-align: top;\n",
       "    }\n",
       "\n",
       "    .dataframe thead th {\n",
       "        text-align: right;\n",
       "    }\n",
       "</style>\n",
       "<table border=\"1\" class=\"dataframe\">\n",
       "  <thead>\n",
       "    <tr style=\"text-align: right;\">\n",
       "      <th></th>\n",
       "      <th>Growth</th>\n",
       "      <th>Treatment</th>\n",
       "    </tr>\n",
       "  </thead>\n",
       "  <tbody>\n",
       "    <tr>\n",
       "      <th>0</th>\n",
       "      <td>345</td>\n",
       "      <td>a</td>\n",
       "    </tr>\n",
       "    <tr>\n",
       "      <th>1</th>\n",
       "      <td>984</td>\n",
       "      <td>a</td>\n",
       "    </tr>\n",
       "    <tr>\n",
       "      <th>2</th>\n",
       "      <td>730</td>\n",
       "      <td>a</td>\n",
       "    </tr>\n",
       "    <tr>\n",
       "      <th>3</th>\n",
       "      <td>290</td>\n",
       "      <td>b</td>\n",
       "    </tr>\n",
       "    <tr>\n",
       "      <th>4</th>\n",
       "      <td>875</td>\n",
       "      <td>b</td>\n",
       "    </tr>\n",
       "    <tr>\n",
       "      <th>5</th>\n",
       "      <td>547</td>\n",
       "      <td>b</td>\n",
       "    </tr>\n",
       "  </tbody>\n",
       "</table>\n",
       "</div>"
      ],
      "text/plain": [
       "   Growth Treatment\n",
       "0     345         a\n",
       "1     984         a\n",
       "2     730         a\n",
       "3     290         b\n",
       "4     875         b\n",
       "5     547         b"
      ]
     },
     "execution_count": 213,
     "metadata": {},
     "output_type": "execute_result"
    }
   ],
   "source": [
    "#potential growth compared to treatments applied\n",
    "d = {'Growth' : [345, 984, 730, 290, 875, 547], 'Treatment' : [\"a\", \"a\", \"a\", \"b\", \"b\", \"b\"]}\n",
    "pd.DataFrame(d)"
   ]
  },
  {
   "cell_type": "markdown",
   "metadata": {
    "id": "BZQPX4VQyOl-"
   },
   "source": [
    "## 11.3 Dataframe creation from a list of dicts"
   ]
  },
  {
   "cell_type": "code",
   "execution_count": 214,
   "metadata": {
    "id": "wRmFQs8IyOl_",
    "outputId": "00b67eec-2004-44d0-a810-97e9a2c26adf"
   },
   "outputs": [
    {
     "data": {
      "text/html": [
       "<div>\n",
       "<style scoped>\n",
       "    .dataframe tbody tr th:only-of-type {\n",
       "        vertical-align: middle;\n",
       "    }\n",
       "\n",
       "    .dataframe tbody tr th {\n",
       "        vertical-align: top;\n",
       "    }\n",
       "\n",
       "    .dataframe thead th {\n",
       "        text-align: right;\n",
       "    }\n",
       "</style>\n",
       "<table border=\"1\" class=\"dataframe\">\n",
       "  <thead>\n",
       "    <tr style=\"text-align: right;\">\n",
       "      <th></th>\n",
       "      <th>a</th>\n",
       "      <th>b</th>\n",
       "      <th>c</th>\n",
       "    </tr>\n",
       "  </thead>\n",
       "  <tbody>\n",
       "    <tr>\n",
       "      <th>0</th>\n",
       "      <td>10</td>\n",
       "      <td>20</td>\n",
       "      <td>NaN</td>\n",
       "    </tr>\n",
       "    <tr>\n",
       "      <th>1</th>\n",
       "      <td>5</td>\n",
       "      <td>10</td>\n",
       "      <td>20.0</td>\n",
       "    </tr>\n",
       "  </tbody>\n",
       "</table>\n",
       "</div>"
      ],
      "text/plain": [
       "    a   b     c\n",
       "0  10  20   NaN\n",
       "1   5  10  20.0"
      ]
     },
     "execution_count": 214,
     "metadata": {},
     "output_type": "execute_result"
    }
   ],
   "source": [
    "data = [{'a':10,\"b\":20},{'a':5,'b':10,'c':20}]\n",
    "pd.DataFrame(data)"
   ]
  },
  {
   "cell_type": "code",
   "execution_count": 215,
   "metadata": {
    "id": "7lflySriyOl_",
    "outputId": "90e4af80-6ee4-435b-c24d-3f0aae9660b0",
    "scrolled": true
   },
   "outputs": [
    {
     "data": {
      "text/html": [
       "<div>\n",
       "<style scoped>\n",
       "    .dataframe tbody tr th:only-of-type {\n",
       "        vertical-align: middle;\n",
       "    }\n",
       "\n",
       "    .dataframe tbody tr th {\n",
       "        vertical-align: top;\n",
       "    }\n",
       "\n",
       "    .dataframe thead th {\n",
       "        text-align: right;\n",
       "    }\n",
       "</style>\n",
       "<table border=\"1\" class=\"dataframe\">\n",
       "  <thead>\n",
       "    <tr style=\"text-align: right;\">\n",
       "      <th></th>\n",
       "      <th>a</th>\n",
       "      <th>b</th>\n",
       "      <th>c</th>\n",
       "    </tr>\n",
       "  </thead>\n",
       "  <tbody>\n",
       "    <tr>\n",
       "      <th>0</th>\n",
       "      <td>10</td>\n",
       "      <td>20</td>\n",
       "      <td>30</td>\n",
       "    </tr>\n",
       "    <tr>\n",
       "      <th>1</th>\n",
       "      <td>5</td>\n",
       "      <td>10</td>\n",
       "      <td>20</td>\n",
       "    </tr>\n",
       "  </tbody>\n",
       "</table>\n",
       "</div>"
      ],
      "text/plain": [
       "    a   b   c\n",
       "0  10  20  30\n",
       "1   5  10  20"
      ]
     },
     "execution_count": 215,
     "metadata": {},
     "output_type": "execute_result"
    }
   ],
   "source": [
    "data = [{'a':10,\"b\":20,\"c\":30},{'a':5,'b':10,'c':20}]\n",
    "pd.DataFrame(data) "
   ]
  },
  {
   "cell_type": "markdown",
   "metadata": {},
   "source": [
    "**<span style=\"color:red\"> My Work </span>**"
   ]
  },
  {
   "cell_type": "code",
   "execution_count": 216,
   "metadata": {},
   "outputs": [
    {
     "data": {
      "text/html": [
       "<div>\n",
       "<style scoped>\n",
       "    .dataframe tbody tr th:only-of-type {\n",
       "        vertical-align: middle;\n",
       "    }\n",
       "\n",
       "    .dataframe tbody tr th {\n",
       "        vertical-align: top;\n",
       "    }\n",
       "\n",
       "    .dataframe thead th {\n",
       "        text-align: right;\n",
       "    }\n",
       "</style>\n",
       "<table border=\"1\" class=\"dataframe\">\n",
       "  <thead>\n",
       "    <tr style=\"text-align: right;\">\n",
       "      <th></th>\n",
       "      <th>a</th>\n",
       "      <th>b</th>\n",
       "      <th>c</th>\n",
       "    </tr>\n",
       "  </thead>\n",
       "  <tbody>\n",
       "    <tr>\n",
       "      <th>0</th>\n",
       "      <td>345</td>\n",
       "      <td>875</td>\n",
       "      <td>304</td>\n",
       "    </tr>\n",
       "    <tr>\n",
       "      <th>1</th>\n",
       "      <td>984</td>\n",
       "      <td>290</td>\n",
       "      <td>220</td>\n",
       "    </tr>\n",
       "  </tbody>\n",
       "</table>\n",
       "</div>"
      ],
      "text/plain": [
       "     a    b    c\n",
       "0  345  875  304\n",
       "1  984  290  220"
      ]
     },
     "execution_count": 216,
     "metadata": {},
     "output_type": "execute_result"
    }
   ],
   "source": [
    "data = [{'a':345,\"b\":875,\"c\":304},{'a':984,'b':290,'c':220}]\n",
    "pd.DataFrame(data)"
   ]
  },
  {
   "cell_type": "markdown",
   "metadata": {
    "id": "VrGbOC0eyOl_"
   },
   "source": [
    "## 11.4 Dataframe creation from a dict of tuples"
   ]
  },
  {
   "cell_type": "markdown",
   "metadata": {
    "id": "U2cukZnYyOl_"
   },
   "source": [
    " - You can automatically create a multi indexed by passing a tuple dictionary."
   ]
  },
  {
   "cell_type": "code",
   "execution_count": 217,
   "metadata": {
    "id": "WD98AEpOyOl_",
    "outputId": "9dc47300-2a62-4386-e967-589c9d2f7cf1"
   },
   "outputs": [
    {
     "data": {
      "text/html": [
       "<div>\n",
       "<style scoped>\n",
       "    .dataframe tbody tr th:only-of-type {\n",
       "        vertical-align: middle;\n",
       "    }\n",
       "\n",
       "    .dataframe tbody tr th {\n",
       "        vertical-align: top;\n",
       "    }\n",
       "\n",
       "    .dataframe thead th {\n",
       "        text-align: right;\n",
       "    }\n",
       "</style>\n",
       "<table border=\"1\" class=\"dataframe\">\n",
       "  <thead>\n",
       "    <tr style=\"text-align: right;\">\n",
       "      <th></th>\n",
       "      <th>Initial</th>\n",
       "      <th>Sex</th>\n",
       "      <th>Age</th>\n",
       "    </tr>\n",
       "  </thead>\n",
       "  <tbody>\n",
       "    <tr>\n",
       "      <th>0</th>\n",
       "      <td>C</td>\n",
       "      <td>M</td>\n",
       "      <td>49</td>\n",
       "    </tr>\n",
       "    <tr>\n",
       "      <th>1</th>\n",
       "      <td>A</td>\n",
       "      <td>F</td>\n",
       "      <td>39</td>\n",
       "    </tr>\n",
       "    <tr>\n",
       "      <th>2</th>\n",
       "      <td>M</td>\n",
       "      <td>F</td>\n",
       "      <td>19</td>\n",
       "    </tr>\n",
       "  </tbody>\n",
       "</table>\n",
       "</div>"
      ],
      "text/plain": [
       "  Initial Sex  Age\n",
       "0       C   M   49\n",
       "1       A   F   39\n",
       "2       M   F   19"
      ]
     },
     "execution_count": 217,
     "metadata": {},
     "output_type": "execute_result"
    }
   ],
   "source": [
    "\n",
    "df = pd.DataFrame({'Initial': ['C','A','M'], 'Sex': ['M', 'F', 'F'], 'Age': [49, 39, 19]})\n",
    "#df = df[['Initial', 'Sex', 'Age']]\n",
    "df"
   ]
  },
  {
   "cell_type": "code",
   "execution_count": 218,
   "metadata": {
    "id": "Q2xIJhQeyOl_",
    "outputId": "9cb8fb17-3d1a-4b4e-e075-a07e8e657978"
   },
   "outputs": [
    {
     "data": {
      "text/html": [
       "<div>\n",
       "<style scoped>\n",
       "    .dataframe tbody tr th:only-of-type {\n",
       "        vertical-align: middle;\n",
       "    }\n",
       "\n",
       "    .dataframe tbody tr th {\n",
       "        vertical-align: top;\n",
       "    }\n",
       "\n",
       "    .dataframe thead th {\n",
       "        text-align: right;\n",
       "    }\n",
       "</style>\n",
       "<table border=\"1\" class=\"dataframe\">\n",
       "  <thead>\n",
       "    <tr style=\"text-align: right;\">\n",
       "      <th></th>\n",
       "      <th>0</th>\n",
       "      <th>1</th>\n",
       "      <th>2</th>\n",
       "      <th>3</th>\n",
       "    </tr>\n",
       "  </thead>\n",
       "  <tbody>\n",
       "    <tr>\n",
       "      <th>0</th>\n",
       "      <td>p1</td>\n",
       "      <td>t1</td>\n",
       "      <td>1</td>\n",
       "      <td>2</td>\n",
       "    </tr>\n",
       "    <tr>\n",
       "      <th>1</th>\n",
       "      <td>p1</td>\n",
       "      <td>t2</td>\n",
       "      <td>3</td>\n",
       "      <td>4</td>\n",
       "    </tr>\n",
       "    <tr>\n",
       "      <th>2</th>\n",
       "      <td>p2</td>\n",
       "      <td>t1</td>\n",
       "      <td>5</td>\n",
       "      <td>6</td>\n",
       "    </tr>\n",
       "    <tr>\n",
       "      <th>3</th>\n",
       "      <td>p2</td>\n",
       "      <td>t2</td>\n",
       "      <td>7</td>\n",
       "      <td>8</td>\n",
       "    </tr>\n",
       "    <tr>\n",
       "      <th>4</th>\n",
       "      <td>p2</td>\n",
       "      <td>t3</td>\n",
       "      <td>2</td>\n",
       "      <td>8</td>\n",
       "    </tr>\n",
       "  </tbody>\n",
       "</table>\n",
       "</div>"
      ],
      "text/plain": [
       "    0   1  2  3\n",
       "0  p1  t1  1  2\n",
       "1  p1  t2  3  4\n",
       "2  p2  t1  5  6\n",
       "3  p2  t2  7  8\n",
       "4  p2  t3  2  8"
      ]
     },
     "execution_count": 218,
     "metadata": {},
     "output_type": "execute_result"
    }
   ],
   "source": [
    "data = [('p1', 't1', 1, 2),('p1', 't2', 3, 4),('p2', 't1', 5, 6),('p2', 't2', 7, 8),('p2', 't3', 2, 8)]\n",
    "\n",
    "df = pd.DataFrame(data)\n",
    "df"
   ]
  },
  {
   "cell_type": "markdown",
   "metadata": {},
   "source": [
    "**<span style=\"color:red\"> My Work </span>**"
   ]
  },
  {
   "cell_type": "code",
   "execution_count": 219,
   "metadata": {},
   "outputs": [
    {
     "data": {
      "text/html": [
       "<div>\n",
       "<style scoped>\n",
       "    .dataframe tbody tr th:only-of-type {\n",
       "        vertical-align: middle;\n",
       "    }\n",
       "\n",
       "    .dataframe tbody tr th {\n",
       "        vertical-align: top;\n",
       "    }\n",
       "\n",
       "    .dataframe thead th {\n",
       "        text-align: right;\n",
       "    }\n",
       "</style>\n",
       "<table border=\"1\" class=\"dataframe\">\n",
       "  <thead>\n",
       "    <tr style=\"text-align: right;\">\n",
       "      <th></th>\n",
       "      <th>ID</th>\n",
       "      <th>Treatment</th>\n",
       "      <th>Score</th>\n",
       "    </tr>\n",
       "  </thead>\n",
       "  <tbody>\n",
       "    <tr>\n",
       "      <th>0</th>\n",
       "      <td>A</td>\n",
       "      <td>A</td>\n",
       "      <td>932</td>\n",
       "    </tr>\n",
       "    <tr>\n",
       "      <th>1</th>\n",
       "      <td>B</td>\n",
       "      <td>B</td>\n",
       "      <td>124</td>\n",
       "    </tr>\n",
       "    <tr>\n",
       "      <th>2</th>\n",
       "      <td>C</td>\n",
       "      <td>A</td>\n",
       "      <td>834</td>\n",
       "    </tr>\n",
       "  </tbody>\n",
       "</table>\n",
       "</div>"
      ],
      "text/plain": [
       "  ID Treatment  Score\n",
       "0  A         A    932\n",
       "1  B         B    124\n",
       "2  C         A    834"
      ]
     },
     "execution_count": 219,
     "metadata": {},
     "output_type": "execute_result"
    }
   ],
   "source": [
    "#df with ID,Treatment, and their score in a study\n",
    "df = pd.DataFrame({'ID': ['A','B','C'], 'Treatment': ['A', 'B', 'A'], 'Score': [932, 124, 834]})\n",
    "df"
   ]
  },
  {
   "cell_type": "markdown",
   "metadata": {
    "id": "COgV8LakyOmA"
   },
   "source": [
    "## 11.5 Alternate constructors"
   ]
  },
  {
   "cell_type": "markdown",
   "metadata": {
    "id": "CkubtOVuyOmA"
   },
   "source": [
    "### Dataframe.from_dict"
   ]
  },
  {
   "cell_type": "markdown",
   "metadata": {
    "id": "AL5jdDp5yOmA"
   },
   "source": [
    " - Dataframe.from_dict takes a dict of dictsor a dict of array like sequences and returns a Dataframe.\n",
    " - It operates like the dataframe constructor except for the orient parameter which is coulmn by default,but which can be set to index in order to use the dict keys as row labels."
   ]
  },
  {
   "cell_type": "code",
   "execution_count": 220,
   "metadata": {
    "id": "DVFbuvKTyOmA",
    "outputId": "101fb8df-de57-4e7f-cfee-6caadcd78a6a",
    "scrolled": true
   },
   "outputs": [
    {
     "data": {
      "text/html": [
       "<div>\n",
       "<style scoped>\n",
       "    .dataframe tbody tr th:only-of-type {\n",
       "        vertical-align: middle;\n",
       "    }\n",
       "\n",
       "    .dataframe tbody tr th {\n",
       "        vertical-align: top;\n",
       "    }\n",
       "\n",
       "    .dataframe thead th {\n",
       "        text-align: right;\n",
       "    }\n",
       "</style>\n",
       "<table border=\"1\" class=\"dataframe\">\n",
       "  <thead>\n",
       "    <tr style=\"text-align: right;\">\n",
       "      <th></th>\n",
       "      <th>a</th>\n",
       "      <th>b</th>\n",
       "      <th>c</th>\n",
       "      <th>d</th>\n",
       "      <th>e</th>\n",
       "      <th>f</th>\n",
       "      <th>g</th>\n",
       "      <th>h</th>\n",
       "      <th>i</th>\n",
       "    </tr>\n",
       "  </thead>\n",
       "  <tbody>\n",
       "    <tr>\n",
       "      <th>X</th>\n",
       "      <td>1</td>\n",
       "      <td>2</td>\n",
       "      <td>3</td>\n",
       "      <td>0</td>\n",
       "      <td>0</td>\n",
       "      <td>0</td>\n",
       "      <td>0</td>\n",
       "      <td>0</td>\n",
       "      <td>0</td>\n",
       "    </tr>\n",
       "    <tr>\n",
       "      <th>Y</th>\n",
       "      <td>0</td>\n",
       "      <td>0</td>\n",
       "      <td>0</td>\n",
       "      <td>4</td>\n",
       "      <td>5</td>\n",
       "      <td>6</td>\n",
       "      <td>0</td>\n",
       "      <td>0</td>\n",
       "      <td>0</td>\n",
       "    </tr>\n",
       "    <tr>\n",
       "      <th>Z</th>\n",
       "      <td>0</td>\n",
       "      <td>0</td>\n",
       "      <td>0</td>\n",
       "      <td>0</td>\n",
       "      <td>0</td>\n",
       "      <td>0</td>\n",
       "      <td>7</td>\n",
       "      <td>8</td>\n",
       "      <td>9</td>\n",
       "    </tr>\n",
       "  </tbody>\n",
       "</table>\n",
       "</div>"
      ],
      "text/plain": [
       "   a  b  c  d  e  f  g  h  i\n",
       "X  1  2  3  0  0  0  0  0  0\n",
       "Y  0  0  0  4  5  6  0  0  0\n",
       "Z  0  0  0  0  0  0  7  8  9"
      ]
     },
     "execution_count": 220,
     "metadata": {},
     "output_type": "execute_result"
    }
   ],
   "source": [
    "data = {\"X\": {'a': 1, 'b': 2, 'c': 3}, \"Y\": {'d': 4, 'e': 5, 'f': 6}, \"Z\": {'g': 7, 'h': 8, 'i': 9}}\n",
    "\n",
    "df = pd.DataFrame.from_dict(data, orient=\"index\").fillna(0).astype(int)\n",
    "df"
   ]
  },
  {
   "cell_type": "markdown",
   "metadata": {},
   "source": [
    "**<span style=\"color:red\"> My Work </span>**"
   ]
  },
  {
   "cell_type": "code",
   "execution_count": 221,
   "metadata": {},
   "outputs": [
    {
     "data": {
      "text/html": [
       "<div>\n",
       "<style scoped>\n",
       "    .dataframe tbody tr th:only-of-type {\n",
       "        vertical-align: middle;\n",
       "    }\n",
       "\n",
       "    .dataframe tbody tr th {\n",
       "        vertical-align: top;\n",
       "    }\n",
       "\n",
       "    .dataframe thead th {\n",
       "        text-align: right;\n",
       "    }\n",
       "</style>\n",
       "<table border=\"1\" class=\"dataframe\">\n",
       "  <thead>\n",
       "    <tr style=\"text-align: right;\">\n",
       "      <th></th>\n",
       "      <th>Control</th>\n",
       "      <th>Treatment</th>\n",
       "    </tr>\n",
       "  </thead>\n",
       "  <tbody>\n",
       "    <tr>\n",
       "      <th>a</th>\n",
       "      <td>1</td>\n",
       "      <td>6</td>\n",
       "    </tr>\n",
       "    <tr>\n",
       "      <th>b</th>\n",
       "      <td>2</td>\n",
       "      <td>6</td>\n",
       "    </tr>\n",
       "    <tr>\n",
       "      <th>c</th>\n",
       "      <td>3</td>\n",
       "      <td>7</td>\n",
       "    </tr>\n",
       "    <tr>\n",
       "      <th>d</th>\n",
       "      <td>2</td>\n",
       "      <td>9</td>\n",
       "    </tr>\n",
       "    <tr>\n",
       "      <th>e</th>\n",
       "      <td>9</td>\n",
       "      <td>5</td>\n",
       "    </tr>\n",
       "    <tr>\n",
       "      <th>f</th>\n",
       "      <td>1</td>\n",
       "      <td>6</td>\n",
       "    </tr>\n",
       "  </tbody>\n",
       "</table>\n",
       "</div>"
      ],
      "text/plain": [
       "   Control  Treatment\n",
       "a        1          6\n",
       "b        2          6\n",
       "c        3          7\n",
       "d        2          9\n",
       "e        9          5\n",
       "f        1          6"
      ]
     },
     "execution_count": 221,
     "metadata": {},
     "output_type": "execute_result"
    }
   ],
   "source": [
    "data = {\"Control\": {'a': 1, 'b': 2, 'c': 3, 'd': 2, 'e':9, \"f\":1 }, \"Treatment\": {'a': 6, 'b': 6, 'c': 7,'d': 9, 'e': 5, 'f': 6}}\n",
    "#chart style\n",
    "df = pd.DataFrame.from_dict(data).fillna(0).astype(int)\n",
    "df"
   ]
  },
  {
   "cell_type": "code",
   "execution_count": 222,
   "metadata": {},
   "outputs": [
    {
     "data": {
      "text/html": [
       "<div>\n",
       "<style scoped>\n",
       "    .dataframe tbody tr th:only-of-type {\n",
       "        vertical-align: middle;\n",
       "    }\n",
       "\n",
       "    .dataframe tbody tr th {\n",
       "        vertical-align: top;\n",
       "    }\n",
       "\n",
       "    .dataframe thead th {\n",
       "        text-align: right;\n",
       "    }\n",
       "</style>\n",
       "<table border=\"1\" class=\"dataframe\">\n",
       "  <thead>\n",
       "    <tr style=\"text-align: right;\">\n",
       "      <th></th>\n",
       "      <th>a</th>\n",
       "      <th>b</th>\n",
       "      <th>c</th>\n",
       "      <th>d</th>\n",
       "      <th>e</th>\n",
       "      <th>f</th>\n",
       "    </tr>\n",
       "  </thead>\n",
       "  <tbody>\n",
       "    <tr>\n",
       "      <th>Control</th>\n",
       "      <td>1</td>\n",
       "      <td>2</td>\n",
       "      <td>3</td>\n",
       "      <td>2</td>\n",
       "      <td>9</td>\n",
       "      <td>1</td>\n",
       "    </tr>\n",
       "    <tr>\n",
       "      <th>Treatment</th>\n",
       "      <td>6</td>\n",
       "      <td>6</td>\n",
       "      <td>7</td>\n",
       "      <td>9</td>\n",
       "      <td>5</td>\n",
       "      <td>6</td>\n",
       "    </tr>\n",
       "  </tbody>\n",
       "</table>\n",
       "</div>"
      ],
      "text/plain": [
       "           a  b  c  d  e  f\n",
       "Control    1  2  3  2  9  1\n",
       "Treatment  6  6  7  9  5  6"
      ]
     },
     "execution_count": 222,
     "metadata": {},
     "output_type": "execute_result"
    }
   ],
   "source": [
    "#index style\n",
    "df = pd.DataFrame.from_dict(data, orient=\"index\").fillna(0).astype(int)\n",
    "df"
   ]
  },
  {
   "cell_type": "markdown",
   "metadata": {
    "id": "29O-e8MAyOmA"
   },
   "source": [
    "### Dataframe.from_records"
   ]
  },
  {
   "cell_type": "markdown",
   "metadata": {
    "id": "kuaLvfMeyOmA"
   },
   "source": [
    "- Dataframe.from_records take a list of tuples or an ndarray with structured dtype.\n",
    "- Works analogously to the normal dataframe constructor,except that index may be aspecific field of the structured dtype to use as the index.for example:"
   ]
  },
  {
   "cell_type": "code",
   "execution_count": 223,
   "metadata": {
    "id": "eKq1iZcbyOmA",
    "outputId": "cb9f3f0c-2495-4399-b17a-929c8a332346",
    "scrolled": true
   },
   "outputs": [
    {
     "data": {
      "text/html": [
       "<div>\n",
       "<style scoped>\n",
       "    .dataframe tbody tr th:only-of-type {\n",
       "        vertical-align: middle;\n",
       "    }\n",
       "\n",
       "    .dataframe tbody tr th {\n",
       "        vertical-align: top;\n",
       "    }\n",
       "\n",
       "    .dataframe thead th {\n",
       "        text-align: right;\n",
       "    }\n",
       "</style>\n",
       "<table border=\"1\" class=\"dataframe\">\n",
       "  <thead>\n",
       "    <tr style=\"text-align: right;\">\n",
       "      <th></th>\n",
       "      <th>account</th>\n",
       "      <th>Jan</th>\n",
       "      <th>Feb</th>\n",
       "      <th>Mar</th>\n",
       "    </tr>\n",
       "  </thead>\n",
       "  <tbody>\n",
       "    <tr>\n",
       "      <th>0</th>\n",
       "      <td>Jones LLC</td>\n",
       "      <td>150</td>\n",
       "      <td>200</td>\n",
       "      <td>50</td>\n",
       "    </tr>\n",
       "    <tr>\n",
       "      <th>1</th>\n",
       "      <td>Alpha Co</td>\n",
       "      <td>200</td>\n",
       "      <td>210</td>\n",
       "      <td>90</td>\n",
       "    </tr>\n",
       "    <tr>\n",
       "      <th>2</th>\n",
       "      <td>Blue Inc</td>\n",
       "      <td>140</td>\n",
       "      <td>215</td>\n",
       "      <td>95</td>\n",
       "    </tr>\n",
       "  </tbody>\n",
       "</table>\n",
       "</div>"
      ],
      "text/plain": [
       "     account  Jan  Feb  Mar\n",
       "0  Jones LLC  150  200   50\n",
       "1   Alpha Co  200  210   90\n",
       "2   Blue Inc  140  215   95"
      ]
     },
     "execution_count": 223,
     "metadata": {},
     "output_type": "execute_result"
    }
   ],
   "source": [
    "sales = [('Jones LLC', 150, 200, 50),\n",
    "     ('Alpha Co', 200, 210, 90),\n",
    "     ('Blue Inc', 140, 215, 95)]\n",
    "labels = ['account', 'Jan', 'Feb', 'Mar']\n",
    "df = pd.DataFrame.from_records(sales, columns=labels)\n",
    "df"
   ]
  },
  {
   "cell_type": "markdown",
   "metadata": {},
   "source": [
    "**<span style=\"color:red\"> My Work </span>**"
   ]
  },
  {
   "cell_type": "code",
   "execution_count": 224,
   "metadata": {},
   "outputs": [
    {
     "data": {
      "text/html": [
       "<div>\n",
       "<style scoped>\n",
       "    .dataframe tbody tr th:only-of-type {\n",
       "        vertical-align: middle;\n",
       "    }\n",
       "\n",
       "    .dataframe tbody tr th {\n",
       "        vertical-align: top;\n",
       "    }\n",
       "\n",
       "    .dataframe thead th {\n",
       "        text-align: right;\n",
       "    }\n",
       "</style>\n",
       "<table border=\"1\" class=\"dataframe\">\n",
       "  <thead>\n",
       "    <tr style=\"text-align: right;\">\n",
       "      <th></th>\n",
       "      <th>City</th>\n",
       "      <th>High</th>\n",
       "      <th>Low</th>\n",
       "    </tr>\n",
       "  </thead>\n",
       "  <tbody>\n",
       "    <tr>\n",
       "      <th>0</th>\n",
       "      <td>Vancouver</td>\n",
       "      <td>2</td>\n",
       "      <td>-3</td>\n",
       "    </tr>\n",
       "    <tr>\n",
       "      <th>1</th>\n",
       "      <td>Surrey</td>\n",
       "      <td>0</td>\n",
       "      <td>-7</td>\n",
       "    </tr>\n",
       "    <tr>\n",
       "      <th>2</th>\n",
       "      <td>Richmond</td>\n",
       "      <td>3</td>\n",
       "      <td>-1</td>\n",
       "    </tr>\n",
       "  </tbody>\n",
       "</table>\n",
       "</div>"
      ],
      "text/plain": [
       "        City  High  Low\n",
       "0  Vancouver     2   -3\n",
       "1     Surrey     0   -7\n",
       "2   Richmond     3   -1"
      ]
     },
     "execution_count": 224,
     "metadata": {},
     "output_type": "execute_result"
    }
   ],
   "source": [
    "#df of cities and high and low temperatures\n",
    "temps = [('Vancouver', 2, -3),\n",
    "     ('Surrey', 0, -7 ),\n",
    "     ('Richmond', 3, -1)]\n",
    "labels = ['City', 'High', 'Low']\n",
    "df = pd.DataFrame.from_records(temps, columns=labels)\n",
    "df"
   ]
  },
  {
   "cell_type": "markdown",
   "metadata": {
    "id": "lR1PNWYxyOmA"
   },
   "source": [
    "### Dataframe.from_items"
   ]
  },
  {
   "cell_type": "markdown",
   "metadata": {
    "id": "2ms4-7WsyOmB"
   },
   "source": [
    "- Convert (key, value) pairs to DataFrame. The keys will be the axis index (usually the columns, but depends on the specified orientation). The values should be arrays or Series."
   ]
  },
  {
   "cell_type": "code",
   "execution_count": 225,
   "metadata": {
    "id": "jPhS9Q84yOmB",
    "outputId": "deb27cb6-8a6c-42d6-f263-b705582a1332"
   },
   "outputs": [
    {
     "ename": "AttributeError",
     "evalue": "type object 'DataFrame' has no attribute 'from_items'",
     "output_type": "error",
     "traceback": [
      "\u001b[1;31m---------------------------------------------------------------------------\u001b[0m",
      "\u001b[1;31mAttributeError\u001b[0m                            Traceback (most recent call last)",
      "\u001b[1;32m~\\AppData\\Local\\Temp/ipykernel_22376/1835952342.py\u001b[0m in \u001b[0;36m<module>\u001b[1;34m\u001b[0m\n\u001b[1;32m----> 1\u001b[1;33m \u001b[0mdf\u001b[0m\u001b[1;33m=\u001b[0m\u001b[0mpd\u001b[0m\u001b[1;33m.\u001b[0m\u001b[0mDataFrame\u001b[0m\u001b[1;33m.\u001b[0m\u001b[0mfrom_items\u001b[0m\u001b[1;33m(\u001b[0m\u001b[1;33m[\u001b[0m\u001b[1;33m(\u001b[0m\u001b[1;34m'A'\u001b[0m\u001b[1;33m,\u001b[0m\u001b[1;33m[\u001b[0m\u001b[1;36m1\u001b[0m\u001b[1;33m,\u001b[0m\u001b[1;36m2\u001b[0m\u001b[1;33m,\u001b[0m\u001b[1;36m3\u001b[0m\u001b[1;33m]\u001b[0m\u001b[1;33m)\u001b[0m\u001b[1;33m,\u001b[0m\u001b[1;33m(\u001b[0m\u001b[1;34m'B'\u001b[0m\u001b[1;33m,\u001b[0m\u001b[1;33m[\u001b[0m\u001b[1;36m4\u001b[0m\u001b[1;33m,\u001b[0m\u001b[1;36m5\u001b[0m\u001b[1;33m,\u001b[0m\u001b[1;36m6\u001b[0m\u001b[1;33m]\u001b[0m\u001b[1;33m)\u001b[0m\u001b[1;33m]\u001b[0m\u001b[1;33m)\u001b[0m\u001b[1;33m\u001b[0m\u001b[1;33m\u001b[0m\u001b[0m\n\u001b[0m",
      "\u001b[1;31mAttributeError\u001b[0m: type object 'DataFrame' has no attribute 'from_items'"
     ]
    }
   ],
   "source": [
    "df=pd.DataFrame.from_items([('A',[1,2,3]),('B',[4,5,6])])"
   ]
  },
  {
   "cell_type": "code",
   "execution_count": 226,
   "metadata": {
    "id": "5JxvAPgSyOmB",
    "outputId": "b7434abe-c28a-4a7b-d64c-aea6fbb86f1d",
    "scrolled": true
   },
   "outputs": [
    {
     "ename": "AttributeError",
     "evalue": "type object 'DataFrame' has no attribute 'from_items'",
     "output_type": "error",
     "traceback": [
      "\u001b[1;31m---------------------------------------------------------------------------\u001b[0m",
      "\u001b[1;31mAttributeError\u001b[0m                            Traceback (most recent call last)",
      "\u001b[1;32m~\\AppData\\Local\\Temp/ipykernel_22376/164059645.py\u001b[0m in \u001b[0;36m<module>\u001b[1;34m\u001b[0m\n\u001b[1;32m----> 1\u001b[1;33m \u001b[0mdf\u001b[0m\u001b[1;33m=\u001b[0m\u001b[0mpd\u001b[0m\u001b[1;33m.\u001b[0m\u001b[0mDataFrame\u001b[0m\u001b[1;33m.\u001b[0m\u001b[0mfrom_items\u001b[0m\u001b[1;33m(\u001b[0m\u001b[1;33m[\u001b[0m\u001b[1;33m(\u001b[0m\u001b[1;34m'A'\u001b[0m\u001b[1;33m,\u001b[0m\u001b[1;33m[\u001b[0m\u001b[1;36m1\u001b[0m\u001b[1;33m,\u001b[0m\u001b[1;36m2\u001b[0m\u001b[1;33m,\u001b[0m\u001b[1;36m3\u001b[0m\u001b[1;33m]\u001b[0m\u001b[1;33m)\u001b[0m\u001b[1;33m,\u001b[0m\u001b[1;33m(\u001b[0m\u001b[1;34m'B'\u001b[0m\u001b[1;33m,\u001b[0m\u001b[1;33m[\u001b[0m\u001b[1;36m4\u001b[0m\u001b[1;33m,\u001b[0m\u001b[1;36m5\u001b[0m\u001b[1;33m,\u001b[0m\u001b[1;36m6\u001b[0m\u001b[1;33m]\u001b[0m\u001b[1;33m)\u001b[0m\u001b[1;33m]\u001b[0m\u001b[1;33m)\u001b[0m\u001b[1;33m\u001b[0m\u001b[1;33m\u001b[0m\u001b[0m\n\u001b[0m\u001b[0;32m      2\u001b[0m \u001b[0mdf\u001b[0m\u001b[1;33m\u001b[0m\u001b[1;33m\u001b[0m\u001b[0m\n",
      "\u001b[1;31mAttributeError\u001b[0m: type object 'DataFrame' has no attribute 'from_items'"
     ]
    }
   ],
   "source": [
    "df=pd.DataFrame.from_items([('A',[1,2,3]),('B',[4,5,6])])\n",
    "df"
   ]
  },
  {
   "cell_type": "markdown",
   "metadata": {},
   "source": [
    "**<span style=\"color:red\"> My Work </span>**"
   ]
  },
  {
   "cell_type": "code",
   "execution_count": 227,
   "metadata": {},
   "outputs": [
    {
     "ename": "AttributeError",
     "evalue": "type object 'DataFrame' has no attribute 'from_items'",
     "output_type": "error",
     "traceback": [
      "\u001b[1;31m---------------------------------------------------------------------------\u001b[0m",
      "\u001b[1;31mAttributeError\u001b[0m                            Traceback (most recent call last)",
      "\u001b[1;32m~\\AppData\\Local\\Temp/ipykernel_22376/3921068667.py\u001b[0m in \u001b[0;36m<module>\u001b[1;34m\u001b[0m\n\u001b[0;32m      1\u001b[0m \u001b[1;31m#not sure why this is throwing up an error? but i'll write the code to show that i know it\u001b[0m\u001b[1;33m\u001b[0m\u001b[1;33m\u001b[0m\u001b[0m\n\u001b[1;32m----> 2\u001b[1;33m \u001b[0mframe\u001b[0m\u001b[1;33m=\u001b[0m\u001b[0mpd\u001b[0m\u001b[1;33m.\u001b[0m\u001b[0mDataFrame\u001b[0m\u001b[1;33m.\u001b[0m\u001b[0mfrom_items\u001b[0m\u001b[1;33m(\u001b[0m\u001b[1;33m[\u001b[0m\u001b[1;33m(\u001b[0m\u001b[1;34m'Province'\u001b[0m\u001b[1;33m,\u001b[0m\u001b[1;33m[\u001b[0m\u001b[1;34m\"NS\"\u001b[0m\u001b[1;33m,\u001b[0m\u001b[1;34m\"AB\"\u001b[0m\u001b[1;33m,\u001b[0m\u001b[1;34m\"NB\"\u001b[0m\u001b[1;33m]\u001b[0m\u001b[1;33m)\u001b[0m\u001b[1;33m,\u001b[0m\u001b[1;33m(\u001b[0m\u001b[1;34m'Population (in millions)'\u001b[0m\u001b[1;33m,\u001b[0m\u001b[1;33m[\u001b[0m\u001b[1;36m4\u001b[0m\u001b[1;33m,\u001b[0m\u001b[1;36m15\u001b[0m\u001b[1;33m,\u001b[0m\u001b[1;36m3\u001b[0m\u001b[1;33m]\u001b[0m\u001b[1;33m)\u001b[0m\u001b[1;33m]\u001b[0m\u001b[1;33m)\u001b[0m\u001b[1;33m\u001b[0m\u001b[1;33m\u001b[0m\u001b[0m\n\u001b[0m",
      "\u001b[1;31mAttributeError\u001b[0m: type object 'DataFrame' has no attribute 'from_items'"
     ]
    }
   ],
   "source": [
    "#not sure why this is throwing up an error? but i'll write the code to show that i know it \n",
    "frame=pd.DataFrame.from_items([('Province',[\"NS\",\"AB\",\"NB\"]),('Population (in millions)',[4,15,3])])"
   ]
  },
  {
   "cell_type": "markdown",
   "metadata": {
    "id": "4kGxkCE9yOmB"
   },
   "source": [
    "## 11.6 Column selection,addition,deletion"
   ]
  },
  {
   "cell_type": "markdown",
   "metadata": {
    "id": "X34ojPsWyOmB"
   },
   "source": [
    " - You can treat a DataFrame semantically like a dict of like-indexed Series objects. Getting, setting, and deleting columns works with the same syntax as the analogous dict operations:"
   ]
  },
  {
   "cell_type": "code",
   "execution_count": 228,
   "metadata": {
    "id": "7nTCBksXyOmB",
    "outputId": "85db8b7f-0e37-49f9-c5e8-559fd44606c8"
   },
   "outputs": [
    {
     "data": {
      "text/html": [
       "<div>\n",
       "<style scoped>\n",
       "    .dataframe tbody tr th:only-of-type {\n",
       "        vertical-align: middle;\n",
       "    }\n",
       "\n",
       "    .dataframe tbody tr th {\n",
       "        vertical-align: top;\n",
       "    }\n",
       "\n",
       "    .dataframe thead th {\n",
       "        text-align: right;\n",
       "    }\n",
       "</style>\n",
       "<table border=\"1\" class=\"dataframe\">\n",
       "  <thead>\n",
       "    <tr style=\"text-align: right;\">\n",
       "      <th></th>\n",
       "      <th>a</th>\n",
       "      <th>a</th>\n",
       "    </tr>\n",
       "  </thead>\n",
       "  <tbody>\n",
       "    <tr>\n",
       "      <th>0</th>\n",
       "      <td>1</td>\n",
       "      <td>2</td>\n",
       "    </tr>\n",
       "    <tr>\n",
       "      <th>1</th>\n",
       "      <td>3</td>\n",
       "      <td>4</td>\n",
       "    </tr>\n",
       "    <tr>\n",
       "      <th>2</th>\n",
       "      <td>5</td>\n",
       "      <td>6</td>\n",
       "    </tr>\n",
       "  </tbody>\n",
       "</table>\n",
       "</div>"
      ],
      "text/plain": [
       "   a  a\n",
       "0  1  2\n",
       "1  3  4\n",
       "2  5  6"
      ]
     },
     "execution_count": 228,
     "metadata": {},
     "output_type": "execute_result"
    }
   ],
   "source": [
    "df = pd.DataFrame([[1,2],[3,4],[5,6]], columns=['a','a']) # you can adress column by index\n",
    "df"
   ]
  },
  {
   "cell_type": "code",
   "execution_count": 229,
   "metadata": {
    "id": "tKXcdb4RyOmB",
    "outputId": "82983205-075c-4ae9-b038-68133f7ede7e"
   },
   "outputs": [
    {
     "data": {
      "text/html": [
       "<div>\n",
       "<style scoped>\n",
       "    .dataframe tbody tr th:only-of-type {\n",
       "        vertical-align: middle;\n",
       "    }\n",
       "\n",
       "    .dataframe tbody tr th {\n",
       "        vertical-align: top;\n",
       "    }\n",
       "\n",
       "    .dataframe thead th {\n",
       "        text-align: right;\n",
       "    }\n",
       "</style>\n",
       "<table border=\"1\" class=\"dataframe\">\n",
       "  <thead>\n",
       "    <tr style=\"text-align: right;\">\n",
       "      <th></th>\n",
       "      <th>a</th>\n",
       "      <th>b</th>\n",
       "    </tr>\n",
       "  </thead>\n",
       "  <tbody>\n",
       "    <tr>\n",
       "      <th>0</th>\n",
       "      <td>1</td>\n",
       "      <td>2</td>\n",
       "    </tr>\n",
       "    <tr>\n",
       "      <th>1</th>\n",
       "      <td>3</td>\n",
       "      <td>4</td>\n",
       "    </tr>\n",
       "    <tr>\n",
       "      <th>2</th>\n",
       "      <td>5</td>\n",
       "      <td>6</td>\n",
       "    </tr>\n",
       "  </tbody>\n",
       "</table>\n",
       "</div>"
      ],
      "text/plain": [
       "   a  b\n",
       "0  1  2\n",
       "1  3  4\n",
       "2  5  6"
      ]
     },
     "execution_count": 229,
     "metadata": {},
     "output_type": "execute_result"
    }
   ],
   "source": [
    "df = pd.DataFrame([[1,2],[3,4],[5,6]], columns=['a','a'])\n",
    "df.columns = ['a','b']  # rename column\n",
    "df"
   ]
  },
  {
   "cell_type": "code",
   "execution_count": 230,
   "metadata": {
    "id": "ZblCG1PByOmB",
    "outputId": "28cc8d32-e093-44de-ba9d-57c8dfbf0364"
   },
   "outputs": [
    {
     "data": {
      "text/html": [
       "<div>\n",
       "<style scoped>\n",
       "    .dataframe tbody tr th:only-of-type {\n",
       "        vertical-align: middle;\n",
       "    }\n",
       "\n",
       "    .dataframe tbody tr th {\n",
       "        vertical-align: top;\n",
       "    }\n",
       "\n",
       "    .dataframe thead th {\n",
       "        text-align: right;\n",
       "    }\n",
       "</style>\n",
       "<table border=\"1\" class=\"dataframe\">\n",
       "  <thead>\n",
       "    <tr style=\"text-align: right;\">\n",
       "      <th></th>\n",
       "      <th>a</th>\n",
       "    </tr>\n",
       "  </thead>\n",
       "  <tbody>\n",
       "    <tr>\n",
       "      <th>0</th>\n",
       "      <td>1</td>\n",
       "    </tr>\n",
       "    <tr>\n",
       "      <th>1</th>\n",
       "      <td>3</td>\n",
       "    </tr>\n",
       "    <tr>\n",
       "      <th>2</th>\n",
       "      <td>5</td>\n",
       "    </tr>\n",
       "  </tbody>\n",
       "</table>\n",
       "</div>"
      ],
      "text/plain": [
       "   a\n",
       "0  1\n",
       "1  3\n",
       "2  5"
      ]
     },
     "execution_count": 230,
     "metadata": {},
     "output_type": "execute_result"
    }
   ],
   "source": [
    "df = pd.DataFrame([[1,2],[3,4],[5,6]], columns=['a','b'])\n",
    "del df['b']   # delete column\n",
    "df"
   ]
  },
  {
   "cell_type": "code",
   "execution_count": 231,
   "metadata": {
    "id": "t3hOjtIqyOmC",
    "outputId": "fc9f834d-e2b9-4b61-ea98-0c9e74c91a12",
    "scrolled": true
   },
   "outputs": [
    {
     "data": {
      "text/html": [
       "<div>\n",
       "<style scoped>\n",
       "    .dataframe tbody tr th:only-of-type {\n",
       "        vertical-align: middle;\n",
       "    }\n",
       "\n",
       "    .dataframe tbody tr th {\n",
       "        vertical-align: top;\n",
       "    }\n",
       "\n",
       "    .dataframe thead th {\n",
       "        text-align: right;\n",
       "    }\n",
       "</style>\n",
       "<table border=\"1\" class=\"dataframe\">\n",
       "  <thead>\n",
       "    <tr style=\"text-align: right;\">\n",
       "      <th></th>\n",
       "      <th>a</th>\n",
       "      <th>b</th>\n",
       "      <th>c</th>\n",
       "    </tr>\n",
       "  </thead>\n",
       "  <tbody>\n",
       "    <tr>\n",
       "      <th>0</th>\n",
       "      <td>1</td>\n",
       "      <td>2</td>\n",
       "      <td>2</td>\n",
       "    </tr>\n",
       "    <tr>\n",
       "      <th>1</th>\n",
       "      <td>3</td>\n",
       "      <td>4</td>\n",
       "      <td>2</td>\n",
       "    </tr>\n",
       "    <tr>\n",
       "      <th>2</th>\n",
       "      <td>5</td>\n",
       "      <td>6</td>\n",
       "      <td>2</td>\n",
       "    </tr>\n",
       "  </tbody>\n",
       "</table>\n",
       "</div>"
      ],
      "text/plain": [
       "   a  b  c\n",
       "0  1  2  2\n",
       "1  3  4  2\n",
       "2  5  6  2"
      ]
     },
     "execution_count": 231,
     "metadata": {},
     "output_type": "execute_result"
    }
   ],
   "source": [
    "df = pd.DataFrame([[1,2],[3,4],[5,6]], columns=['a','b'])\n",
    "df['c']='2'   #add new column c and fill with 2\n",
    "df"
   ]
  },
  {
   "cell_type": "markdown",
   "metadata": {},
   "source": [
    "**<span style=\"color:red\"> My Work </span>**"
   ]
  },
  {
   "cell_type": "code",
   "execution_count": 239,
   "metadata": {},
   "outputs": [
    {
     "data": {
      "text/html": [
       "<div>\n",
       "<style scoped>\n",
       "    .dataframe tbody tr th:only-of-type {\n",
       "        vertical-align: middle;\n",
       "    }\n",
       "\n",
       "    .dataframe tbody tr th {\n",
       "        vertical-align: top;\n",
       "    }\n",
       "\n",
       "    .dataframe thead th {\n",
       "        text-align: right;\n",
       "    }\n",
       "</style>\n",
       "<table border=\"1\" class=\"dataframe\">\n",
       "  <thead>\n",
       "    <tr style=\"text-align: right;\">\n",
       "      <th></th>\n",
       "      <th>manual</th>\n",
       "      <th>input</th>\n",
       "      <th>randomly generated</th>\n",
       "    </tr>\n",
       "  </thead>\n",
       "  <tbody>\n",
       "    <tr>\n",
       "      <th>0</th>\n",
       "      <td>3</td>\n",
       "      <td>6</td>\n",
       "      <td>5</td>\n",
       "    </tr>\n",
       "    <tr>\n",
       "      <th>1</th>\n",
       "      <td>2</td>\n",
       "      <td>8</td>\n",
       "      <td>4</td>\n",
       "    </tr>\n",
       "    <tr>\n",
       "      <th>2</th>\n",
       "      <td>45</td>\n",
       "      <td>9</td>\n",
       "      <td>2</td>\n",
       "    </tr>\n",
       "  </tbody>\n",
       "</table>\n",
       "</div>"
      ],
      "text/plain": [
       "   manual  input  randomly generated\n",
       "0       3      6                   5\n",
       "1       2      8                   4\n",
       "2      45      9                   2"
      ]
     },
     "execution_count": 239,
     "metadata": {},
     "output_type": "execute_result"
    }
   ],
   "source": [
    "df = pd.DataFrame([[3,6],[2, 8],[45, 9]], columns=['manual','input'])\n",
    "df['randomly generated']=np.random.randint(low=0, high=10, size=(3, 1))   #adds new column and populates it with randomly generated #s between 0-10\n",
    "df"
   ]
  },
  {
   "cell_type": "markdown",
   "metadata": {
    "id": "pk21yXydyOmC"
   },
   "source": [
    "### 11.7 Indexing / seletion"
   ]
  },
  {
   "cell_type": "markdown",
   "metadata": {
    "id": "aaVddQqFyOmC"
   },
   "source": [
    "- Row selection, for example, returns a Series whose index is the columns of the DataFrame:\n",
    "- Pandas now supports three types of Multi-axes indexing; the three types are:\n",
    "    - .loc()  (label based)\n",
    "    - .iloc()  (integer based)\n",
    "    - .ix()    (both label and integer based)\n",
    "- loc takes two single/list/range operator separated by ','. The first one indicates the row and the second one indicates columns.\n",
    "- iloc(): Pandas provide various methods in order to get purely integer based indexing. Like python and numpy, these are 0-based indexing.\n",
    "- ix(): Besides pure label based and integer based, Pandas provides a hybrid method for selections and subsetting the object using the .ix() operator."
   ]
  },
  {
   "cell_type": "markdown",
   "metadata": {
    "id": "ypNBeFFDyOmC"
   },
   "source": [
    "#### .loc()"
   ]
  },
  {
   "cell_type": "code",
   "execution_count": 232,
   "metadata": {
    "id": "qIGTGettyOmC",
    "outputId": "1bb3c785-2145-4dd4-ae1d-d7892be4932c"
   },
   "outputs": [
    {
     "name": "stdout",
     "output_type": "stream",
     "text": [
      "a    0.207950\n",
      "b   -1.684791\n",
      "c    0.781118\n",
      "d    0.751625\n",
      "e   -0.116166\n",
      "f    0.577208\n",
      "g    1.473867\n",
      "h   -2.471892\n",
      "Name: A, dtype: float64\n"
     ]
    }
   ],
   "source": [
    "df = pd.DataFrame(np.random.randn(8, 4),\n",
    "index = ['a','b','c','d','e','f','g','h'], columns = ['A', 'B', 'C', 'D'])\n",
    "\n",
    "#select all rows for a specific column\n",
    "print (df.loc[:,'A'])"
   ]
  },
  {
   "cell_type": "code",
   "execution_count": null,
   "metadata": {
    "id": "D7YYjRx2yOmD"
   },
   "outputs": [],
   "source": [
    "import pandas as pd\n",
    "import numpy as np"
   ]
  },
  {
   "cell_type": "code",
   "execution_count": 233,
   "metadata": {
    "id": "7fjCxkX8yOmD"
   },
   "outputs": [
    {
     "name": "stdout",
     "output_type": "stream",
     "text": [
      "          A         C\n",
      "a  1.066850 -0.495550\n",
      "b -0.922100  1.544483\n",
      "c -0.236654  0.906970\n",
      "d  1.452496  1.644997\n",
      "e -0.510773  1.182212\n",
      "f -1.549172 -0.015176\n",
      "g -0.554755 -0.269795\n",
      "h -1.955669 -0.048076\n"
     ]
    }
   ],
   "source": [
    "df = pd.DataFrame(np.random.randn(8, 4),\n",
    "index = ['a','b','c','d','e','f','g','h'], columns = ['A', 'B', 'C', 'D'])\n",
    "\n",
    "# Select all rows for multiple columns, say list[]\n",
    "print (df.loc[:,['A','C']])"
   ]
  },
  {
   "cell_type": "code",
   "execution_count": 234,
   "metadata": {
    "id": "UvYUW23dyOmD",
    "outputId": "fbc4d381-5b2e-4c0b-9593-7c7ed2f74eb5"
   },
   "outputs": [
    {
     "name": "stdout",
     "output_type": "stream",
     "text": [
      "          A         B         C         D\n",
      "a  0.527269  1.122385  1.529227  0.513241\n",
      "b  0.835835  0.683531 -0.446033 -0.435003\n",
      "c -1.073109  0.988950  0.111409  0.822644\n",
      "d  2.064167  0.452762 -0.229707  0.077911\n",
      "e  1.037314  0.331628 -1.169102  1.183736\n",
      "f -1.062902  1.025658 -0.098642  0.019575\n",
      "g  1.024057 -0.255578 -1.695032  0.618576\n",
      "h  0.159495 -0.177469  1.299108 -0.366825\n"
     ]
    }
   ],
   "source": [
    "df = pd.DataFrame(np.random.randn(8, 4),\n",
    "index = ['a','b','c','d','e','f','g','h'], columns = ['A', 'B', 'C', 'D'])\n",
    "\n",
    "# Select range of rows for all columns\n",
    "print (df.loc['a':'h'])"
   ]
  },
  {
   "cell_type": "markdown",
   "metadata": {
    "id": "BiEEkZpNyOmE"
   },
   "source": [
    "#### .iloc()"
   ]
  },
  {
   "cell_type": "code",
   "execution_count": 244,
   "metadata": {
    "id": "1cPhYOKcyOmE",
    "outputId": "48d77d91-101d-457d-cf8c-d4e110bfd954"
   },
   "outputs": [
    {
     "name": "stdout",
     "output_type": "stream",
     "text": [
      "          A         B         C         D\n",
      "0 -0.300596  1.247380 -0.116273  0.318754\n",
      "1  0.356633 -0.783474 -0.437488 -1.415226\n",
      "2  0.734219 -1.416215 -0.974136  0.102027\n",
      "3 -0.753696  0.542729  0.935720  1.279231\n"
     ]
    }
   ],
   "source": [
    "df = pd.DataFrame(np.random.randn(8, 4), columns = ['A', 'B', 'C', 'D'])\n",
    "\n",
    "# select all rows for a specific column\n",
    "print (df.iloc[:4])"
   ]
  },
  {
   "cell_type": "code",
   "execution_count": 243,
   "metadata": {
    "id": "sZ_dtzidyOmE",
    "outputId": "f4c54946-2012-44b5-913f-dc542e211f36"
   },
   "outputs": [
    {
     "name": "stdout",
     "output_type": "stream",
     "text": [
      "          C         D\n",
      "1  1.173333 -0.501265\n",
      "2 -0.642008 -1.097259\n",
      "3  0.721094 -0.796516\n",
      "4 -0.896581 -0.537916\n"
     ]
    }
   ],
   "source": [
    "df = pd.DataFrame(np.random.randn(8, 4), columns = ['A', 'B', 'C', 'D'])\n",
    "\n",
    "# Integer slicing\n",
    "\n",
    "print (df.iloc[1:5, 2:4])"
   ]
  },
  {
   "cell_type": "markdown",
   "metadata": {
    "id": "O_UkGrVgyOmF"
   },
   "source": [
    "#### .ix()"
   ]
  },
  {
   "cell_type": "code",
   "execution_count": 247,
   "metadata": {
    "id": "F5EjLeeKyOmF",
    "outputId": "44dc3214-de76-41e6-b9ae-c6c5536ec8c8"
   },
   "outputs": [
    {
     "ename": "AttributeError",
     "evalue": "'DataFrame' object has no attribute 'ix'",
     "output_type": "error",
     "traceback": [
      "\u001b[1;31m---------------------------------------------------------------------------\u001b[0m",
      "\u001b[1;31mAttributeError\u001b[0m                            Traceback (most recent call last)",
      "\u001b[1;32m~\\AppData\\Local\\Temp/ipykernel_22376/3417854952.py\u001b[0m in \u001b[0;36m<module>\u001b[1;34m\u001b[0m\n\u001b[0;32m      2\u001b[0m \u001b[1;33m\u001b[0m\u001b[0m\n\u001b[0;32m      3\u001b[0m \u001b[1;31m# Integer slicing\u001b[0m\u001b[1;33m\u001b[0m\u001b[1;33m\u001b[0m\u001b[0m\n\u001b[1;32m----> 4\u001b[1;33m \u001b[0mprint\u001b[0m \u001b[1;33m(\u001b[0m\u001b[0mdf\u001b[0m\u001b[1;33m.\u001b[0m\u001b[0mix\u001b[0m\u001b[1;33m[\u001b[0m\u001b[1;33m:\u001b[0m\u001b[1;36m4\u001b[0m\u001b[1;33m]\u001b[0m\u001b[1;33m)\u001b[0m\u001b[1;33m\u001b[0m\u001b[1;33m\u001b[0m\u001b[0m\n\u001b[0m",
      "\u001b[1;32m~\\anaconda3\\lib\\site-packages\\pandas\\core\\generic.py\u001b[0m in \u001b[0;36m__getattr__\u001b[1;34m(self, name)\u001b[0m\n\u001b[0;32m   5485\u001b[0m         ):\n\u001b[0;32m   5486\u001b[0m             \u001b[1;32mreturn\u001b[0m \u001b[0mself\u001b[0m\u001b[1;33m[\u001b[0m\u001b[0mname\u001b[0m\u001b[1;33m]\u001b[0m\u001b[1;33m\u001b[0m\u001b[1;33m\u001b[0m\u001b[0m\n\u001b[1;32m-> 5487\u001b[1;33m         \u001b[1;32mreturn\u001b[0m \u001b[0mobject\u001b[0m\u001b[1;33m.\u001b[0m\u001b[0m__getattribute__\u001b[0m\u001b[1;33m(\u001b[0m\u001b[0mself\u001b[0m\u001b[1;33m,\u001b[0m \u001b[0mname\u001b[0m\u001b[1;33m)\u001b[0m\u001b[1;33m\u001b[0m\u001b[1;33m\u001b[0m\u001b[0m\n\u001b[0m\u001b[0;32m   5488\u001b[0m \u001b[1;33m\u001b[0m\u001b[0m\n\u001b[0;32m   5489\u001b[0m     \u001b[1;32mdef\u001b[0m \u001b[0m__setattr__\u001b[0m\u001b[1;33m(\u001b[0m\u001b[0mself\u001b[0m\u001b[1;33m,\u001b[0m \u001b[0mname\u001b[0m\u001b[1;33m:\u001b[0m \u001b[0mstr\u001b[0m\u001b[1;33m,\u001b[0m \u001b[0mvalue\u001b[0m\u001b[1;33m)\u001b[0m \u001b[1;33m->\u001b[0m \u001b[1;32mNone\u001b[0m\u001b[1;33m:\u001b[0m\u001b[1;33m\u001b[0m\u001b[1;33m\u001b[0m\u001b[0m\n",
      "\u001b[1;31mAttributeError\u001b[0m: 'DataFrame' object has no attribute 'ix'"
     ]
    }
   ],
   "source": [
    "df = pd.DataFrame(np.random.randn(8, 4), columns = ['A', 'B', 'C', 'D'])\n",
    "\n",
    "# Integer slicing\n",
    "print (df.ix[:4])"
   ]
  },
  {
   "cell_type": "code",
   "execution_count": 248,
   "metadata": {
    "id": "ZoczAWFWyOmF",
    "outputId": "18a37a9b-d6d4-47a6-fd3e-77b1616688ae",
    "scrolled": true
   },
   "outputs": [
    {
     "ename": "AttributeError",
     "evalue": "'DataFrame' object has no attribute 'ix'",
     "output_type": "error",
     "traceback": [
      "\u001b[1;31m---------------------------------------------------------------------------\u001b[0m",
      "\u001b[1;31mAttributeError\u001b[0m                            Traceback (most recent call last)",
      "\u001b[1;32m~\\AppData\\Local\\Temp/ipykernel_22376/1685307276.py\u001b[0m in \u001b[0;36m<module>\u001b[1;34m\u001b[0m\n\u001b[0;32m      1\u001b[0m \u001b[0mdf\u001b[0m \u001b[1;33m=\u001b[0m \u001b[0mpd\u001b[0m\u001b[1;33m.\u001b[0m\u001b[0mDataFrame\u001b[0m\u001b[1;33m(\u001b[0m\u001b[0mnp\u001b[0m\u001b[1;33m.\u001b[0m\u001b[0mrandom\u001b[0m\u001b[1;33m.\u001b[0m\u001b[0mrandn\u001b[0m\u001b[1;33m(\u001b[0m\u001b[1;36m8\u001b[0m\u001b[1;33m,\u001b[0m \u001b[1;36m4\u001b[0m\u001b[1;33m)\u001b[0m\u001b[1;33m,\u001b[0m \u001b[0mcolumns\u001b[0m \u001b[1;33m=\u001b[0m \u001b[1;33m[\u001b[0m\u001b[1;34m'A'\u001b[0m\u001b[1;33m,\u001b[0m \u001b[1;34m'B'\u001b[0m\u001b[1;33m,\u001b[0m \u001b[1;34m'C'\u001b[0m\u001b[1;33m,\u001b[0m \u001b[1;34m'D'\u001b[0m\u001b[1;33m]\u001b[0m\u001b[1;33m)\u001b[0m\u001b[1;33m\u001b[0m\u001b[1;33m\u001b[0m\u001b[0m\n\u001b[0;32m      2\u001b[0m \u001b[1;31m# Index slicing\u001b[0m\u001b[1;33m\u001b[0m\u001b[1;33m\u001b[0m\u001b[0m\n\u001b[1;32m----> 3\u001b[1;33m \u001b[0mprint\u001b[0m \u001b[1;33m(\u001b[0m\u001b[0mdf\u001b[0m\u001b[1;33m.\u001b[0m\u001b[0mix\u001b[0m\u001b[1;33m[\u001b[0m\u001b[1;33m:\u001b[0m\u001b[1;33m,\u001b[0m\u001b[1;34m'A'\u001b[0m\u001b[1;33m]\u001b[0m\u001b[1;33m)\u001b[0m\u001b[1;33m\u001b[0m\u001b[1;33m\u001b[0m\u001b[0m\n\u001b[0m",
      "\u001b[1;32m~\\anaconda3\\lib\\site-packages\\pandas\\core\\generic.py\u001b[0m in \u001b[0;36m__getattr__\u001b[1;34m(self, name)\u001b[0m\n\u001b[0;32m   5485\u001b[0m         ):\n\u001b[0;32m   5486\u001b[0m             \u001b[1;32mreturn\u001b[0m \u001b[0mself\u001b[0m\u001b[1;33m[\u001b[0m\u001b[0mname\u001b[0m\u001b[1;33m]\u001b[0m\u001b[1;33m\u001b[0m\u001b[1;33m\u001b[0m\u001b[0m\n\u001b[1;32m-> 5487\u001b[1;33m         \u001b[1;32mreturn\u001b[0m \u001b[0mobject\u001b[0m\u001b[1;33m.\u001b[0m\u001b[0m__getattribute__\u001b[0m\u001b[1;33m(\u001b[0m\u001b[0mself\u001b[0m\u001b[1;33m,\u001b[0m \u001b[0mname\u001b[0m\u001b[1;33m)\u001b[0m\u001b[1;33m\u001b[0m\u001b[1;33m\u001b[0m\u001b[0m\n\u001b[0m\u001b[0;32m   5488\u001b[0m \u001b[1;33m\u001b[0m\u001b[0m\n\u001b[0;32m   5489\u001b[0m     \u001b[1;32mdef\u001b[0m \u001b[0m__setattr__\u001b[0m\u001b[1;33m(\u001b[0m\u001b[0mself\u001b[0m\u001b[1;33m,\u001b[0m \u001b[0mname\u001b[0m\u001b[1;33m:\u001b[0m \u001b[0mstr\u001b[0m\u001b[1;33m,\u001b[0m \u001b[0mvalue\u001b[0m\u001b[1;33m)\u001b[0m \u001b[1;33m->\u001b[0m \u001b[1;32mNone\u001b[0m\u001b[1;33m:\u001b[0m\u001b[1;33m\u001b[0m\u001b[1;33m\u001b[0m\u001b[0m\n",
      "\u001b[1;31mAttributeError\u001b[0m: 'DataFrame' object has no attribute 'ix'"
     ]
    }
   ],
   "source": [
    "df = pd.DataFrame(np.random.randn(8, 4), columns = ['A', 'B', 'C', 'D'])\n",
    "# Index slicing\n",
    "print (df.ix[:,'A'])"
   ]
  },
  {
   "cell_type": "markdown",
   "metadata": {},
   "source": [
    "**<span style=\"color:red\"> My Work </span>**"
   ]
  },
  {
   "cell_type": "code",
   "execution_count": 241,
   "metadata": {},
   "outputs": [
    {
     "name": "stdout",
     "output_type": "stream",
     "text": [
      "          A         B         C         D\n",
      "a  0.522808  1.708109 -0.263864  0.272129\n",
      "b -0.852918  2.172717  0.759578 -0.695086\n"
     ]
    }
   ],
   "source": [
    "#.loc ()\n",
    "df = pd.DataFrame(np.random.randn(4,4),\n",
    "index = ['a','b','c','d'], columns = ['A', 'B', 'C', 'D'])\n",
    "\n",
    "#selects all the rows from a-b\n",
    "print (df.loc[\"a\": \"b\"])"
   ]
  },
  {
   "cell_type": "code",
   "execution_count": 246,
   "metadata": {
    "scrolled": true
   },
   "outputs": [
    {
     "name": "stdout",
     "output_type": "stream",
     "text": [
      "A    0.356633\n",
      "B   -0.783474\n",
      "C   -0.437488\n",
      "D   -1.415226\n",
      "Name: 1, dtype: float64\n"
     ]
    }
   ],
   "source": [
    "#.iloc()\n",
    "#prints all the calues in the second row (0,1) of all columns \n",
    "print (df.iloc[1])"
   ]
  },
  {
   "cell_type": "code",
   "execution_count": 252,
   "metadata": {},
   "outputs": [
    {
     "name": "stdout",
     "output_type": "stream",
     "text": [
      "0    0.138005\n",
      "1   -1.383841\n",
      "2    0.118872\n",
      "3    1.615577\n",
      "4   -0.051093\n",
      "5   -0.411261\n",
      "6   -1.452848\n",
      "7   -1.104461\n",
      "Name: A, dtype: float64\n"
     ]
    }
   ],
   "source": [
    "#.ix is removed so the alternative would be just \n",
    "print (df.loc[:,\"A\"])"
   ]
  },
  {
   "cell_type": "markdown",
   "metadata": {
    "id": "oC4sXKiYyOmG"
   },
   "source": [
    "## 11.8 Data alignment and arithmetic"
   ]
  },
  {
   "cell_type": "markdown",
   "metadata": {
    "id": "1TCrIVTDyOmG"
   },
   "source": [
    " - Data alignment between DataFrame objects automatically align on both the columns and the index (row labels).\n",
    " - Again, the resulting object will have the union of the column and row labels."
   ]
  },
  {
   "cell_type": "code",
   "execution_count": 253,
   "metadata": {
    "id": "8IAj1A0HyOmG",
    "outputId": "ee944479-7b42-4ace-95ef-c0dce4385d25"
   },
   "outputs": [
    {
     "data": {
      "text/html": [
       "<div>\n",
       "<style scoped>\n",
       "    .dataframe tbody tr th:only-of-type {\n",
       "        vertical-align: middle;\n",
       "    }\n",
       "\n",
       "    .dataframe tbody tr th {\n",
       "        vertical-align: top;\n",
       "    }\n",
       "\n",
       "    .dataframe thead th {\n",
       "        text-align: right;\n",
       "    }\n",
       "</style>\n",
       "<table border=\"1\" class=\"dataframe\">\n",
       "  <thead>\n",
       "    <tr style=\"text-align: right;\">\n",
       "      <th></th>\n",
       "      <th>A</th>\n",
       "      <th>B</th>\n",
       "      <th>C</th>\n",
       "      <th>D</th>\n",
       "    </tr>\n",
       "  </thead>\n",
       "  <tbody>\n",
       "    <tr>\n",
       "      <th>0</th>\n",
       "      <td>-1.584278</td>\n",
       "      <td>1.251135</td>\n",
       "      <td>0.920530</td>\n",
       "      <td>1.813217</td>\n",
       "    </tr>\n",
       "    <tr>\n",
       "      <th>1</th>\n",
       "      <td>-0.036671</td>\n",
       "      <td>-1.911360</td>\n",
       "      <td>-0.208951</td>\n",
       "      <td>2.234754</td>\n",
       "    </tr>\n",
       "    <tr>\n",
       "      <th>2</th>\n",
       "      <td>0.225950</td>\n",
       "      <td>0.577595</td>\n",
       "      <td>-0.793292</td>\n",
       "      <td>-1.622714</td>\n",
       "    </tr>\n",
       "    <tr>\n",
       "      <th>3</th>\n",
       "      <td>-0.699245</td>\n",
       "      <td>-2.517315</td>\n",
       "      <td>0.522219</td>\n",
       "      <td>0.630105</td>\n",
       "    </tr>\n",
       "    <tr>\n",
       "      <th>4</th>\n",
       "      <td>1.097427</td>\n",
       "      <td>0.988582</td>\n",
       "      <td>1.348807</td>\n",
       "      <td>-1.717625</td>\n",
       "    </tr>\n",
       "    <tr>\n",
       "      <th>5</th>\n",
       "      <td>1.075320</td>\n",
       "      <td>-0.507323</td>\n",
       "      <td>-1.440184</td>\n",
       "      <td>-0.111090</td>\n",
       "    </tr>\n",
       "    <tr>\n",
       "      <th>6</th>\n",
       "      <td>0.887512</td>\n",
       "      <td>0.255464</td>\n",
       "      <td>-0.124122</td>\n",
       "      <td>0.322060</td>\n",
       "    </tr>\n",
       "    <tr>\n",
       "      <th>7</th>\n",
       "      <td>0.042132</td>\n",
       "      <td>0.155437</td>\n",
       "      <td>-0.007986</td>\n",
       "      <td>-1.642590</td>\n",
       "    </tr>\n",
       "    <tr>\n",
       "      <th>8</th>\n",
       "      <td>0.846648</td>\n",
       "      <td>-0.163897</td>\n",
       "      <td>0.112068</td>\n",
       "      <td>-0.969666</td>\n",
       "    </tr>\n",
       "    <tr>\n",
       "      <th>9</th>\n",
       "      <td>1.146468</td>\n",
       "      <td>-0.293800</td>\n",
       "      <td>0.242975</td>\n",
       "      <td>1.710601</td>\n",
       "    </tr>\n",
       "  </tbody>\n",
       "</table>\n",
       "</div>"
      ],
      "text/plain": [
       "          A         B         C         D\n",
       "0 -1.584278  1.251135  0.920530  1.813217\n",
       "1 -0.036671 -1.911360 -0.208951  2.234754\n",
       "2  0.225950  0.577595 -0.793292 -1.622714\n",
       "3 -0.699245 -2.517315  0.522219  0.630105\n",
       "4  1.097427  0.988582  1.348807 -1.717625\n",
       "5  1.075320 -0.507323 -1.440184 -0.111090\n",
       "6  0.887512  0.255464 -0.124122  0.322060\n",
       "7  0.042132  0.155437 -0.007986 -1.642590\n",
       "8  0.846648 -0.163897  0.112068 -0.969666\n",
       "9  1.146468 -0.293800  0.242975  1.710601"
      ]
     },
     "execution_count": 253,
     "metadata": {},
     "output_type": "execute_result"
    }
   ],
   "source": [
    "df1 = pd.DataFrame(np.random.randn(10, 4), columns=['A', 'B', 'C', 'D'])\n",
    "df1"
   ]
  },
  {
   "cell_type": "code",
   "execution_count": 254,
   "metadata": {
    "id": "vJd4RFzFyOmG",
    "outputId": "3d69a50d-9128-45b1-9359-a9f9501f6874"
   },
   "outputs": [
    {
     "data": {
      "text/html": [
       "<div>\n",
       "<style scoped>\n",
       "    .dataframe tbody tr th:only-of-type {\n",
       "        vertical-align: middle;\n",
       "    }\n",
       "\n",
       "    .dataframe tbody tr th {\n",
       "        vertical-align: top;\n",
       "    }\n",
       "\n",
       "    .dataframe thead th {\n",
       "        text-align: right;\n",
       "    }\n",
       "</style>\n",
       "<table border=\"1\" class=\"dataframe\">\n",
       "  <thead>\n",
       "    <tr style=\"text-align: right;\">\n",
       "      <th></th>\n",
       "      <th>A</th>\n",
       "      <th>B</th>\n",
       "      <th>C</th>\n",
       "    </tr>\n",
       "  </thead>\n",
       "  <tbody>\n",
       "    <tr>\n",
       "      <th>0</th>\n",
       "      <td>0.289758</td>\n",
       "      <td>0.345345</td>\n",
       "      <td>-0.109116</td>\n",
       "    </tr>\n",
       "    <tr>\n",
       "      <th>1</th>\n",
       "      <td>0.215393</td>\n",
       "      <td>0.388733</td>\n",
       "      <td>0.004910</td>\n",
       "    </tr>\n",
       "    <tr>\n",
       "      <th>2</th>\n",
       "      <td>0.301547</td>\n",
       "      <td>0.757031</td>\n",
       "      <td>0.989618</td>\n",
       "    </tr>\n",
       "    <tr>\n",
       "      <th>3</th>\n",
       "      <td>0.643592</td>\n",
       "      <td>1.012924</td>\n",
       "      <td>1.102264</td>\n",
       "    </tr>\n",
       "    <tr>\n",
       "      <th>4</th>\n",
       "      <td>0.843374</td>\n",
       "      <td>0.649259</td>\n",
       "      <td>0.389555</td>\n",
       "    </tr>\n",
       "    <tr>\n",
       "      <th>5</th>\n",
       "      <td>0.233492</td>\n",
       "      <td>-1.869568</td>\n",
       "      <td>-0.839222</td>\n",
       "    </tr>\n",
       "    <tr>\n",
       "      <th>6</th>\n",
       "      <td>-0.984254</td>\n",
       "      <td>2.889241</td>\n",
       "      <td>-1.009180</td>\n",
       "    </tr>\n",
       "  </tbody>\n",
       "</table>\n",
       "</div>"
      ],
      "text/plain": [
       "          A         B         C\n",
       "0  0.289758  0.345345 -0.109116\n",
       "1  0.215393  0.388733  0.004910\n",
       "2  0.301547  0.757031  0.989618\n",
       "3  0.643592  1.012924  1.102264\n",
       "4  0.843374  0.649259  0.389555\n",
       "5  0.233492 -1.869568 -0.839222\n",
       "6 -0.984254  2.889241 -1.009180"
      ]
     },
     "execution_count": 254,
     "metadata": {},
     "output_type": "execute_result"
    }
   ],
   "source": [
    "\n",
    "df2 = pd.DataFrame(np.random.randn(7, 3), columns=['A', 'B', 'C'])\n",
    "df2"
   ]
  },
  {
   "cell_type": "code",
   "execution_count": 255,
   "metadata": {
    "id": "H4AR1qdbyOmG",
    "outputId": "720caa1d-0491-45ff-9cd9-bddaa930b29c"
   },
   "outputs": [
    {
     "data": {
      "text/html": [
       "<div>\n",
       "<style scoped>\n",
       "    .dataframe tbody tr th:only-of-type {\n",
       "        vertical-align: middle;\n",
       "    }\n",
       "\n",
       "    .dataframe tbody tr th {\n",
       "        vertical-align: top;\n",
       "    }\n",
       "\n",
       "    .dataframe thead th {\n",
       "        text-align: right;\n",
       "    }\n",
       "</style>\n",
       "<table border=\"1\" class=\"dataframe\">\n",
       "  <thead>\n",
       "    <tr style=\"text-align: right;\">\n",
       "      <th></th>\n",
       "      <th>A</th>\n",
       "      <th>B</th>\n",
       "      <th>C</th>\n",
       "      <th>D</th>\n",
       "    </tr>\n",
       "  </thead>\n",
       "  <tbody>\n",
       "    <tr>\n",
       "      <th>0</th>\n",
       "      <td>-1.294520</td>\n",
       "      <td>1.596481</td>\n",
       "      <td>0.811414</td>\n",
       "      <td>NaN</td>\n",
       "    </tr>\n",
       "    <tr>\n",
       "      <th>1</th>\n",
       "      <td>0.178722</td>\n",
       "      <td>-1.522626</td>\n",
       "      <td>-0.204040</td>\n",
       "      <td>NaN</td>\n",
       "    </tr>\n",
       "    <tr>\n",
       "      <th>2</th>\n",
       "      <td>0.527497</td>\n",
       "      <td>1.334626</td>\n",
       "      <td>0.196326</td>\n",
       "      <td>NaN</td>\n",
       "    </tr>\n",
       "    <tr>\n",
       "      <th>3</th>\n",
       "      <td>-0.055653</td>\n",
       "      <td>-1.504391</td>\n",
       "      <td>1.624483</td>\n",
       "      <td>NaN</td>\n",
       "    </tr>\n",
       "    <tr>\n",
       "      <th>4</th>\n",
       "      <td>1.940802</td>\n",
       "      <td>1.637842</td>\n",
       "      <td>1.738362</td>\n",
       "      <td>NaN</td>\n",
       "    </tr>\n",
       "    <tr>\n",
       "      <th>5</th>\n",
       "      <td>1.308812</td>\n",
       "      <td>-2.376891</td>\n",
       "      <td>-2.279407</td>\n",
       "      <td>NaN</td>\n",
       "    </tr>\n",
       "    <tr>\n",
       "      <th>6</th>\n",
       "      <td>-0.096742</td>\n",
       "      <td>3.144706</td>\n",
       "      <td>-1.133302</td>\n",
       "      <td>NaN</td>\n",
       "    </tr>\n",
       "    <tr>\n",
       "      <th>7</th>\n",
       "      <td>NaN</td>\n",
       "      <td>NaN</td>\n",
       "      <td>NaN</td>\n",
       "      <td>NaN</td>\n",
       "    </tr>\n",
       "    <tr>\n",
       "      <th>8</th>\n",
       "      <td>NaN</td>\n",
       "      <td>NaN</td>\n",
       "      <td>NaN</td>\n",
       "      <td>NaN</td>\n",
       "    </tr>\n",
       "    <tr>\n",
       "      <th>9</th>\n",
       "      <td>NaN</td>\n",
       "      <td>NaN</td>\n",
       "      <td>NaN</td>\n",
       "      <td>NaN</td>\n",
       "    </tr>\n",
       "  </tbody>\n",
       "</table>\n",
       "</div>"
      ],
      "text/plain": [
       "          A         B         C   D\n",
       "0 -1.294520  1.596481  0.811414 NaN\n",
       "1  0.178722 -1.522626 -0.204040 NaN\n",
       "2  0.527497  1.334626  0.196326 NaN\n",
       "3 -0.055653 -1.504391  1.624483 NaN\n",
       "4  1.940802  1.637842  1.738362 NaN\n",
       "5  1.308812 -2.376891 -2.279407 NaN\n",
       "6 -0.096742  3.144706 -1.133302 NaN\n",
       "7       NaN       NaN       NaN NaN\n",
       "8       NaN       NaN       NaN NaN\n",
       "9       NaN       NaN       NaN NaN"
      ]
     },
     "execution_count": 255,
     "metadata": {},
     "output_type": "execute_result"
    }
   ],
   "source": [
    "df1+df2"
   ]
  },
  {
   "cell_type": "markdown",
   "metadata": {
    "id": "z84yEseoyOmH"
   },
   "source": [
    "- When doing an operation between DataFrame and Series, the default behavior is to align the Series index on the DataFrame columns, thus broadcasting row-wise. For example:"
   ]
  },
  {
   "cell_type": "code",
   "execution_count": 256,
   "metadata": {
    "id": "YVUldOLDyOmH",
    "outputId": "007cfd70-ca72-4677-860c-df9423cc87fb"
   },
   "outputs": [
    {
     "data": {
      "text/html": [
       "<div>\n",
       "<style scoped>\n",
       "    .dataframe tbody tr th:only-of-type {\n",
       "        vertical-align: middle;\n",
       "    }\n",
       "\n",
       "    .dataframe tbody tr th {\n",
       "        vertical-align: top;\n",
       "    }\n",
       "\n",
       "    .dataframe thead th {\n",
       "        text-align: right;\n",
       "    }\n",
       "</style>\n",
       "<table border=\"1\" class=\"dataframe\">\n",
       "  <thead>\n",
       "    <tr style=\"text-align: right;\">\n",
       "      <th></th>\n",
       "      <th>A</th>\n",
       "      <th>B</th>\n",
       "      <th>C</th>\n",
       "      <th>D</th>\n",
       "    </tr>\n",
       "  </thead>\n",
       "  <tbody>\n",
       "    <tr>\n",
       "      <th>0</th>\n",
       "      <td>0.000000</td>\n",
       "      <td>0.000000</td>\n",
       "      <td>0.000000</td>\n",
       "      <td>0.000000</td>\n",
       "    </tr>\n",
       "    <tr>\n",
       "      <th>1</th>\n",
       "      <td>1.547607</td>\n",
       "      <td>-3.162495</td>\n",
       "      <td>-1.129481</td>\n",
       "      <td>0.421538</td>\n",
       "    </tr>\n",
       "    <tr>\n",
       "      <th>2</th>\n",
       "      <td>1.810227</td>\n",
       "      <td>-0.673540</td>\n",
       "      <td>-1.713822</td>\n",
       "      <td>-3.435930</td>\n",
       "    </tr>\n",
       "    <tr>\n",
       "      <th>3</th>\n",
       "      <td>0.885033</td>\n",
       "      <td>-3.768450</td>\n",
       "      <td>-0.398311</td>\n",
       "      <td>-1.183112</td>\n",
       "    </tr>\n",
       "    <tr>\n",
       "      <th>4</th>\n",
       "      <td>2.681705</td>\n",
       "      <td>-0.262553</td>\n",
       "      <td>0.428277</td>\n",
       "      <td>-3.530842</td>\n",
       "    </tr>\n",
       "    <tr>\n",
       "      <th>5</th>\n",
       "      <td>2.659598</td>\n",
       "      <td>-1.758458</td>\n",
       "      <td>-2.360715</td>\n",
       "      <td>-1.924307</td>\n",
       "    </tr>\n",
       "    <tr>\n",
       "      <th>6</th>\n",
       "      <td>2.471790</td>\n",
       "      <td>-0.995671</td>\n",
       "      <td>-1.044652</td>\n",
       "      <td>-1.491156</td>\n",
       "    </tr>\n",
       "    <tr>\n",
       "      <th>7</th>\n",
       "      <td>1.626410</td>\n",
       "      <td>-1.095698</td>\n",
       "      <td>-0.928516</td>\n",
       "      <td>-3.455807</td>\n",
       "    </tr>\n",
       "    <tr>\n",
       "      <th>8</th>\n",
       "      <td>2.430925</td>\n",
       "      <td>-1.415032</td>\n",
       "      <td>-0.808462</td>\n",
       "      <td>-2.782882</td>\n",
       "    </tr>\n",
       "    <tr>\n",
       "      <th>9</th>\n",
       "      <td>2.730746</td>\n",
       "      <td>-1.544936</td>\n",
       "      <td>-0.677555</td>\n",
       "      <td>-0.102615</td>\n",
       "    </tr>\n",
       "  </tbody>\n",
       "</table>\n",
       "</div>"
      ],
      "text/plain": [
       "          A         B         C         D\n",
       "0  0.000000  0.000000  0.000000  0.000000\n",
       "1  1.547607 -3.162495 -1.129481  0.421538\n",
       "2  1.810227 -0.673540 -1.713822 -3.435930\n",
       "3  0.885033 -3.768450 -0.398311 -1.183112\n",
       "4  2.681705 -0.262553  0.428277 -3.530842\n",
       "5  2.659598 -1.758458 -2.360715 -1.924307\n",
       "6  2.471790 -0.995671 -1.044652 -1.491156\n",
       "7  1.626410 -1.095698 -0.928516 -3.455807\n",
       "8  2.430925 -1.415032 -0.808462 -2.782882\n",
       "9  2.730746 -1.544936 -0.677555 -0.102615"
      ]
     },
     "execution_count": 256,
     "metadata": {},
     "output_type": "execute_result"
    }
   ],
   "source": [
    "df1 - df1.iloc[0]"
   ]
  },
  {
   "cell_type": "markdown",
   "metadata": {
    "id": "DZDx8VO6yOmH"
   },
   "source": [
    " - In the special case of working with time series data, and the DataFrame index also contains dates, the broadcasting will be column-wise:"
   ]
  },
  {
   "cell_type": "code",
   "execution_count": 257,
   "metadata": {
    "id": "nOgQMCdyyOmH",
    "outputId": "2bb7b5f6-b38a-4296-c00f-2b06396a9e0d"
   },
   "outputs": [
    {
     "data": {
      "text/html": [
       "<div>\n",
       "<style scoped>\n",
       "    .dataframe tbody tr th:only-of-type {\n",
       "        vertical-align: middle;\n",
       "    }\n",
       "\n",
       "    .dataframe tbody tr th {\n",
       "        vertical-align: top;\n",
       "    }\n",
       "\n",
       "    .dataframe thead th {\n",
       "        text-align: right;\n",
       "    }\n",
       "</style>\n",
       "<table border=\"1\" class=\"dataframe\">\n",
       "  <thead>\n",
       "    <tr style=\"text-align: right;\">\n",
       "      <th></th>\n",
       "      <th>A</th>\n",
       "      <th>B</th>\n",
       "      <th>C</th>\n",
       "    </tr>\n",
       "  </thead>\n",
       "  <tbody>\n",
       "    <tr>\n",
       "      <th>2000-01-01</th>\n",
       "      <td>-0.485191</td>\n",
       "      <td>-2.518770</td>\n",
       "      <td>1.017145</td>\n",
       "    </tr>\n",
       "    <tr>\n",
       "      <th>2000-01-02</th>\n",
       "      <td>-0.671774</td>\n",
       "      <td>0.450907</td>\n",
       "      <td>-0.579312</td>\n",
       "    </tr>\n",
       "    <tr>\n",
       "      <th>2000-01-03</th>\n",
       "      <td>1.352476</td>\n",
       "      <td>-0.539220</td>\n",
       "      <td>-1.311100</td>\n",
       "    </tr>\n",
       "    <tr>\n",
       "      <th>2000-01-04</th>\n",
       "      <td>-0.540695</td>\n",
       "      <td>0.066598</td>\n",
       "      <td>-1.243064</td>\n",
       "    </tr>\n",
       "    <tr>\n",
       "      <th>2000-01-05</th>\n",
       "      <td>0.831570</td>\n",
       "      <td>-0.211687</td>\n",
       "      <td>-0.377875</td>\n",
       "    </tr>\n",
       "    <tr>\n",
       "      <th>2000-01-06</th>\n",
       "      <td>0.303603</td>\n",
       "      <td>1.700697</td>\n",
       "      <td>-0.180259</td>\n",
       "    </tr>\n",
       "    <tr>\n",
       "      <th>2000-01-07</th>\n",
       "      <td>-0.788558</td>\n",
       "      <td>3.405299</td>\n",
       "      <td>-0.201952</td>\n",
       "    </tr>\n",
       "    <tr>\n",
       "      <th>2000-01-08</th>\n",
       "      <td>-0.271058</td>\n",
       "      <td>-0.975132</td>\n",
       "      <td>-0.108546</td>\n",
       "    </tr>\n",
       "  </tbody>\n",
       "</table>\n",
       "</div>"
      ],
      "text/plain": [
       "                   A         B         C\n",
       "2000-01-01 -0.485191 -2.518770  1.017145\n",
       "2000-01-02 -0.671774  0.450907 -0.579312\n",
       "2000-01-03  1.352476 -0.539220 -1.311100\n",
       "2000-01-04 -0.540695  0.066598 -1.243064\n",
       "2000-01-05  0.831570 -0.211687 -0.377875\n",
       "2000-01-06  0.303603  1.700697 -0.180259\n",
       "2000-01-07 -0.788558  3.405299 -0.201952\n",
       "2000-01-08 -0.271058 -0.975132 -0.108546"
      ]
     },
     "execution_count": 257,
     "metadata": {},
     "output_type": "execute_result"
    }
   ],
   "source": [
    "index = pd.date_range('1/1/2000', periods=8)\n",
    "df = pd.DataFrame(np.random.randn(8, 3), index=index, columns=list('ABC'))\n",
    "df"
   ]
  },
  {
   "cell_type": "code",
   "execution_count": 258,
   "metadata": {
    "id": "kZCFFOz-yOmI",
    "outputId": "b8ccd2d1-c220-490e-d234-3edc96fd38d0"
   },
   "outputs": [
    {
     "data": {
      "text/html": [
       "<div>\n",
       "<style scoped>\n",
       "    .dataframe tbody tr th:only-of-type {\n",
       "        vertical-align: middle;\n",
       "    }\n",
       "\n",
       "    .dataframe tbody tr th {\n",
       "        vertical-align: top;\n",
       "    }\n",
       "\n",
       "    .dataframe thead th {\n",
       "        text-align: right;\n",
       "    }\n",
       "</style>\n",
       "<table border=\"1\" class=\"dataframe\">\n",
       "  <thead>\n",
       "    <tr style=\"text-align: right;\">\n",
       "      <th></th>\n",
       "      <th>A</th>\n",
       "      <th>B</th>\n",
       "      <th>C</th>\n",
       "      <th>D</th>\n",
       "    </tr>\n",
       "  </thead>\n",
       "  <tbody>\n",
       "    <tr>\n",
       "      <th>0</th>\n",
       "      <td>-13.842776</td>\n",
       "      <td>14.511353</td>\n",
       "      <td>11.205301</td>\n",
       "      <td>20.132166</td>\n",
       "    </tr>\n",
       "    <tr>\n",
       "      <th>1</th>\n",
       "      <td>1.633291</td>\n",
       "      <td>-17.113596</td>\n",
       "      <td>-0.089506</td>\n",
       "      <td>24.347542</td>\n",
       "    </tr>\n",
       "    <tr>\n",
       "      <th>2</th>\n",
       "      <td>4.259495</td>\n",
       "      <td>7.775951</td>\n",
       "      <td>-5.932922</td>\n",
       "      <td>-14.227138</td>\n",
       "    </tr>\n",
       "    <tr>\n",
       "      <th>3</th>\n",
       "      <td>-4.992449</td>\n",
       "      <td>-23.173149</td>\n",
       "      <td>7.222192</td>\n",
       "      <td>8.301049</td>\n",
       "    </tr>\n",
       "    <tr>\n",
       "      <th>4</th>\n",
       "      <td>12.974273</td>\n",
       "      <td>11.885825</td>\n",
       "      <td>15.488067</td>\n",
       "      <td>-15.176255</td>\n",
       "    </tr>\n",
       "    <tr>\n",
       "      <th>5</th>\n",
       "      <td>12.753199</td>\n",
       "      <td>-3.073229</td>\n",
       "      <td>-12.401844</td>\n",
       "      <td>0.889098</td>\n",
       "    </tr>\n",
       "    <tr>\n",
       "      <th>6</th>\n",
       "      <td>10.875124</td>\n",
       "      <td>4.554645</td>\n",
       "      <td>0.758784</td>\n",
       "      <td>5.220602</td>\n",
       "    </tr>\n",
       "    <tr>\n",
       "      <th>7</th>\n",
       "      <td>2.421323</td>\n",
       "      <td>3.554369</td>\n",
       "      <td>1.920141</td>\n",
       "      <td>-14.425899</td>\n",
       "    </tr>\n",
       "    <tr>\n",
       "      <th>8</th>\n",
       "      <td>10.466477</td>\n",
       "      <td>0.361032</td>\n",
       "      <td>3.120681</td>\n",
       "      <td>-7.696656</td>\n",
       "    </tr>\n",
       "    <tr>\n",
       "      <th>9</th>\n",
       "      <td>13.464679</td>\n",
       "      <td>-0.938002</td>\n",
       "      <td>4.429748</td>\n",
       "      <td>19.106013</td>\n",
       "    </tr>\n",
       "  </tbody>\n",
       "</table>\n",
       "</div>"
      ],
      "text/plain": [
       "           A          B          C          D\n",
       "0 -13.842776  14.511353  11.205301  20.132166\n",
       "1   1.633291 -17.113596  -0.089506  24.347542\n",
       "2   4.259495   7.775951  -5.932922 -14.227138\n",
       "3  -4.992449 -23.173149   7.222192   8.301049\n",
       "4  12.974273  11.885825  15.488067 -15.176255\n",
       "5  12.753199  -3.073229 -12.401844   0.889098\n",
       "6  10.875124   4.554645   0.758784   5.220602\n",
       "7   2.421323   3.554369   1.920141 -14.425899\n",
       "8  10.466477   0.361032   3.120681  -7.696656\n",
       "9  13.464679  -0.938002   4.429748  19.106013"
      ]
     },
     "execution_count": 258,
     "metadata": {},
     "output_type": "execute_result"
    }
   ],
   "source": [
    "df1* 10 + 2"
   ]
  },
  {
   "cell_type": "code",
   "execution_count": 259,
   "metadata": {
    "id": "C7pwByw1yOmI"
   },
   "outputs": [
    {
     "data": {
      "text/html": [
       "<div>\n",
       "<style scoped>\n",
       "    .dataframe tbody tr th:only-of-type {\n",
       "        vertical-align: middle;\n",
       "    }\n",
       "\n",
       "    .dataframe tbody tr th {\n",
       "        vertical-align: top;\n",
       "    }\n",
       "\n",
       "    .dataframe thead th {\n",
       "        text-align: right;\n",
       "    }\n",
       "</style>\n",
       "<table border=\"1\" class=\"dataframe\">\n",
       "  <thead>\n",
       "    <tr style=\"text-align: right;\">\n",
       "      <th></th>\n",
       "      <th>A</th>\n",
       "      <th>B</th>\n",
       "      <th>C</th>\n",
       "      <th>D</th>\n",
       "    </tr>\n",
       "  </thead>\n",
       "  <tbody>\n",
       "    <tr>\n",
       "      <th>0</th>\n",
       "      <td>-0.631203</td>\n",
       "      <td>0.799274</td>\n",
       "      <td>1.086331</td>\n",
       "      <td>0.551506</td>\n",
       "    </tr>\n",
       "    <tr>\n",
       "      <th>1</th>\n",
       "      <td>-27.269564</td>\n",
       "      <td>-0.523188</td>\n",
       "      <td>-4.785821</td>\n",
       "      <td>0.447477</td>\n",
       "    </tr>\n",
       "    <tr>\n",
       "      <th>2</th>\n",
       "      <td>4.425768</td>\n",
       "      <td>1.731317</td>\n",
       "      <td>-1.260570</td>\n",
       "      <td>-0.616252</td>\n",
       "    </tr>\n",
       "    <tr>\n",
       "      <th>3</th>\n",
       "      <td>-1.430114</td>\n",
       "      <td>-0.397249</td>\n",
       "      <td>1.914905</td>\n",
       "      <td>1.587037</td>\n",
       "    </tr>\n",
       "    <tr>\n",
       "      <th>4</th>\n",
       "      <td>0.911222</td>\n",
       "      <td>1.011549</td>\n",
       "      <td>0.741396</td>\n",
       "      <td>-0.582199</td>\n",
       "    </tr>\n",
       "    <tr>\n",
       "      <th>5</th>\n",
       "      <td>0.929956</td>\n",
       "      <td>-1.971131</td>\n",
       "      <td>-0.694356</td>\n",
       "      <td>-9.001694</td>\n",
       "    </tr>\n",
       "    <tr>\n",
       "      <th>6</th>\n",
       "      <td>1.126745</td>\n",
       "      <td>3.914439</td>\n",
       "      <td>-8.056616</td>\n",
       "      <td>3.105009</td>\n",
       "    </tr>\n",
       "    <tr>\n",
       "      <th>7</th>\n",
       "      <td>23.734758</td>\n",
       "      <td>6.433479</td>\n",
       "      <td>-125.220071</td>\n",
       "      <td>-0.608795</td>\n",
       "    </tr>\n",
       "    <tr>\n",
       "      <th>8</th>\n",
       "      <td>1.181129</td>\n",
       "      <td>-6.101400</td>\n",
       "      <td>8.923145</td>\n",
       "      <td>-1.031283</td>\n",
       "    </tr>\n",
       "    <tr>\n",
       "      <th>9</th>\n",
       "      <td>0.872244</td>\n",
       "      <td>-3.403674</td>\n",
       "      <td>4.115653</td>\n",
       "      <td>0.584590</td>\n",
       "    </tr>\n",
       "  </tbody>\n",
       "</table>\n",
       "</div>"
      ],
      "text/plain": [
       "           A         B           C         D\n",
       "0  -0.631203  0.799274    1.086331  0.551506\n",
       "1 -27.269564 -0.523188   -4.785821  0.447477\n",
       "2   4.425768  1.731317   -1.260570 -0.616252\n",
       "3  -1.430114 -0.397249    1.914905  1.587037\n",
       "4   0.911222  1.011549    0.741396 -0.582199\n",
       "5   0.929956 -1.971131   -0.694356 -9.001694\n",
       "6   1.126745  3.914439   -8.056616  3.105009\n",
       "7  23.734758  6.433479 -125.220071 -0.608795\n",
       "8   1.181129 -6.101400    8.923145 -1.031283\n",
       "9   0.872244 -3.403674    4.115653  0.584590"
      ]
     },
     "execution_count": 259,
     "metadata": {},
     "output_type": "execute_result"
    }
   ],
   "source": [
    "1/df1"
   ]
  },
  {
   "cell_type": "code",
   "execution_count": 260,
   "metadata": {
    "id": "E2kKs3AWyOmI"
   },
   "outputs": [
    {
     "data": {
      "text/html": [
       "<div>\n",
       "<style scoped>\n",
       "    .dataframe tbody tr th:only-of-type {\n",
       "        vertical-align: middle;\n",
       "    }\n",
       "\n",
       "    .dataframe tbody tr th {\n",
       "        vertical-align: top;\n",
       "    }\n",
       "\n",
       "    .dataframe thead th {\n",
       "        text-align: right;\n",
       "    }\n",
       "</style>\n",
       "<table border=\"1\" class=\"dataframe\">\n",
       "  <thead>\n",
       "    <tr style=\"text-align: right;\">\n",
       "      <th></th>\n",
       "      <th>A</th>\n",
       "      <th>B</th>\n",
       "      <th>C</th>\n",
       "      <th>D</th>\n",
       "    </tr>\n",
       "  </thead>\n",
       "  <tbody>\n",
       "    <tr>\n",
       "      <th>0</th>\n",
       "      <td>-9.980594e+00</td>\n",
       "      <td>3.065642</td>\n",
       "      <td>6.609827e-01</td>\n",
       "      <td>19.599656</td>\n",
       "    </tr>\n",
       "    <tr>\n",
       "      <th>1</th>\n",
       "      <td>-6.631459e-08</td>\n",
       "      <td>-25.510092</td>\n",
       "      <td>-3.983068e-04</td>\n",
       "      <td>55.737670</td>\n",
       "    </tr>\n",
       "    <tr>\n",
       "      <th>2</th>\n",
       "      <td>5.889209e-04</td>\n",
       "      <td>0.064286</td>\n",
       "      <td>-3.141709e-01</td>\n",
       "      <td>-11.251479</td>\n",
       "    </tr>\n",
       "    <tr>\n",
       "      <th>3</th>\n",
       "      <td>-1.671655e-01</td>\n",
       "      <td>-101.085228</td>\n",
       "      <td>3.883866e-02</td>\n",
       "      <td>0.099326</td>\n",
       "    </tr>\n",
       "    <tr>\n",
       "      <th>4</th>\n",
       "      <td>1.591765e+00</td>\n",
       "      <td>0.944201</td>\n",
       "      <td>4.464250e+00</td>\n",
       "      <td>-14.950041</td>\n",
       "    </tr>\n",
       "    <tr>\n",
       "      <th>5</th>\n",
       "      <td>1.437767e+00</td>\n",
       "      <td>-0.033606</td>\n",
       "      <td>-6.195703e+00</td>\n",
       "      <td>-0.000017</td>\n",
       "    </tr>\n",
       "    <tr>\n",
       "      <th>6</th>\n",
       "      <td>5.506456e-01</td>\n",
       "      <td>0.001088</td>\n",
       "      <td>-2.946027e-05</td>\n",
       "      <td>0.003465</td>\n",
       "    </tr>\n",
       "    <tr>\n",
       "      <th>7</th>\n",
       "      <td>1.327627e-07</td>\n",
       "      <td>0.000091</td>\n",
       "      <td>-3.248107e-11</td>\n",
       "      <td>-11.957648</td>\n",
       "    </tr>\n",
       "    <tr>\n",
       "      <th>8</th>\n",
       "      <td>4.350244e-01</td>\n",
       "      <td>-0.000118</td>\n",
       "      <td>1.767707e-05</td>\n",
       "      <td>-0.857255</td>\n",
       "    </tr>\n",
       "    <tr>\n",
       "      <th>9</th>\n",
       "      <td>1.980658e+00</td>\n",
       "      <td>-0.002189</td>\n",
       "      <td>8.468497e-04</td>\n",
       "      <td>14.646844</td>\n",
       "    </tr>\n",
       "  </tbody>\n",
       "</table>\n",
       "</div>"
      ],
      "text/plain": [
       "              A           B             C          D\n",
       "0 -9.980594e+00    3.065642  6.609827e-01  19.599656\n",
       "1 -6.631459e-08  -25.510092 -3.983068e-04  55.737670\n",
       "2  5.889209e-04    0.064286 -3.141709e-01 -11.251479\n",
       "3 -1.671655e-01 -101.085228  3.883866e-02   0.099326\n",
       "4  1.591765e+00    0.944201  4.464250e+00 -14.950041\n",
       "5  1.437767e+00   -0.033606 -6.195703e+00  -0.000017\n",
       "6  5.506456e-01    0.001088 -2.946027e-05   0.003465\n",
       "7  1.327627e-07    0.000091 -3.248107e-11 -11.957648\n",
       "8  4.350244e-01   -0.000118  1.767707e-05  -0.857255\n",
       "9  1.980658e+00   -0.002189  8.468497e-04  14.646844"
      ]
     },
     "execution_count": 260,
     "metadata": {},
     "output_type": "execute_result"
    }
   ],
   "source": [
    "df1**5"
   ]
  },
  {
   "cell_type": "markdown",
   "metadata": {
    "id": "rEuTHoK_yOmI"
   },
   "source": [
    "- Boolean operators work as well:"
   ]
  },
  {
   "cell_type": "code",
   "execution_count": 261,
   "metadata": {
    "id": "en_O5wR7yOmJ",
    "outputId": "723e02fb-a76d-4eed-d02f-2a774b56d562"
   },
   "outputs": [
    {
     "data": {
      "text/html": [
       "<div>\n",
       "<style scoped>\n",
       "    .dataframe tbody tr th:only-of-type {\n",
       "        vertical-align: middle;\n",
       "    }\n",
       "\n",
       "    .dataframe tbody tr th {\n",
       "        vertical-align: top;\n",
       "    }\n",
       "\n",
       "    .dataframe thead th {\n",
       "        text-align: right;\n",
       "    }\n",
       "</style>\n",
       "<table border=\"1\" class=\"dataframe\">\n",
       "  <thead>\n",
       "    <tr style=\"text-align: right;\">\n",
       "      <th></th>\n",
       "      <th>a</th>\n",
       "      <th>b</th>\n",
       "    </tr>\n",
       "  </thead>\n",
       "  <tbody>\n",
       "    <tr>\n",
       "      <th>0</th>\n",
       "      <td>True</td>\n",
       "      <td>False</td>\n",
       "    </tr>\n",
       "    <tr>\n",
       "      <th>1</th>\n",
       "      <td>False</td>\n",
       "      <td>True</td>\n",
       "    </tr>\n",
       "    <tr>\n",
       "      <th>2</th>\n",
       "      <td>True</td>\n",
       "      <td>True</td>\n",
       "    </tr>\n",
       "  </tbody>\n",
       "</table>\n",
       "</div>"
      ],
      "text/plain": [
       "       a      b\n",
       "0   True  False\n",
       "1  False   True\n",
       "2   True   True"
      ]
     },
     "execution_count": 261,
     "metadata": {},
     "output_type": "execute_result"
    }
   ],
   "source": [
    "df1 = pd.DataFrame({'a' : [1, 0, 1], 'b' : [0, 1, 1] }, dtype=bool)\n",
    "df1"
   ]
  },
  {
   "cell_type": "code",
   "execution_count": 262,
   "metadata": {
    "id": "IMPs8bQwyOmJ",
    "outputId": "73c59382-d61d-4769-e41f-7ee34dcf368d"
   },
   "outputs": [
    {
     "data": {
      "text/html": [
       "<div>\n",
       "<style scoped>\n",
       "    .dataframe tbody tr th:only-of-type {\n",
       "        vertical-align: middle;\n",
       "    }\n",
       "\n",
       "    .dataframe tbody tr th {\n",
       "        vertical-align: top;\n",
       "    }\n",
       "\n",
       "    .dataframe thead th {\n",
       "        text-align: right;\n",
       "    }\n",
       "</style>\n",
       "<table border=\"1\" class=\"dataframe\">\n",
       "  <thead>\n",
       "    <tr style=\"text-align: right;\">\n",
       "      <th></th>\n",
       "      <th>a</th>\n",
       "      <th>b</th>\n",
       "    </tr>\n",
       "  </thead>\n",
       "  <tbody>\n",
       "    <tr>\n",
       "      <th>0</th>\n",
       "      <td>False</td>\n",
       "      <td>True</td>\n",
       "    </tr>\n",
       "    <tr>\n",
       "      <th>1</th>\n",
       "      <td>True</td>\n",
       "      <td>True</td>\n",
       "    </tr>\n",
       "    <tr>\n",
       "      <th>2</th>\n",
       "      <td>True</td>\n",
       "      <td>False</td>\n",
       "    </tr>\n",
       "  </tbody>\n",
       "</table>\n",
       "</div>"
      ],
      "text/plain": [
       "       a      b\n",
       "0  False   True\n",
       "1   True   True\n",
       "2   True  False"
      ]
     },
     "execution_count": 262,
     "metadata": {},
     "output_type": "execute_result"
    }
   ],
   "source": [
    "df2 = pd.DataFrame({'a' : [0, 1, 1], 'b' : [1, 1, 0] }, dtype=bool)\n",
    "df2"
   ]
  },
  {
   "cell_type": "code",
   "execution_count": 263,
   "metadata": {
    "id": "kx6CeG7LyOmJ",
    "outputId": "54b09edd-7bff-40ac-bdb0-67b28bce3472"
   },
   "outputs": [
    {
     "data": {
      "text/html": [
       "<div>\n",
       "<style scoped>\n",
       "    .dataframe tbody tr th:only-of-type {\n",
       "        vertical-align: middle;\n",
       "    }\n",
       "\n",
       "    .dataframe tbody tr th {\n",
       "        vertical-align: top;\n",
       "    }\n",
       "\n",
       "    .dataframe thead th {\n",
       "        text-align: right;\n",
       "    }\n",
       "</style>\n",
       "<table border=\"1\" class=\"dataframe\">\n",
       "  <thead>\n",
       "    <tr style=\"text-align: right;\">\n",
       "      <th></th>\n",
       "      <th>a</th>\n",
       "      <th>b</th>\n",
       "    </tr>\n",
       "  </thead>\n",
       "  <tbody>\n",
       "    <tr>\n",
       "      <th>0</th>\n",
       "      <td>False</td>\n",
       "      <td>False</td>\n",
       "    </tr>\n",
       "    <tr>\n",
       "      <th>1</th>\n",
       "      <td>False</td>\n",
       "      <td>True</td>\n",
       "    </tr>\n",
       "    <tr>\n",
       "      <th>2</th>\n",
       "      <td>True</td>\n",
       "      <td>False</td>\n",
       "    </tr>\n",
       "  </tbody>\n",
       "</table>\n",
       "</div>"
      ],
      "text/plain": [
       "       a      b\n",
       "0  False  False\n",
       "1  False   True\n",
       "2   True  False"
      ]
     },
     "execution_count": 263,
     "metadata": {},
     "output_type": "execute_result"
    }
   ],
   "source": [
    "df1&df2"
   ]
  },
  {
   "cell_type": "code",
   "execution_count": 264,
   "metadata": {
    "id": "H4U31oCSyOmJ",
    "outputId": "c9578c09-0141-47f6-dd8d-1e1213eac388"
   },
   "outputs": [
    {
     "data": {
      "text/html": [
       "<div>\n",
       "<style scoped>\n",
       "    .dataframe tbody tr th:only-of-type {\n",
       "        vertical-align: middle;\n",
       "    }\n",
       "\n",
       "    .dataframe tbody tr th {\n",
       "        vertical-align: top;\n",
       "    }\n",
       "\n",
       "    .dataframe thead th {\n",
       "        text-align: right;\n",
       "    }\n",
       "</style>\n",
       "<table border=\"1\" class=\"dataframe\">\n",
       "  <thead>\n",
       "    <tr style=\"text-align: right;\">\n",
       "      <th></th>\n",
       "      <th>a</th>\n",
       "      <th>b</th>\n",
       "    </tr>\n",
       "  </thead>\n",
       "  <tbody>\n",
       "    <tr>\n",
       "      <th>0</th>\n",
       "      <td>True</td>\n",
       "      <td>True</td>\n",
       "    </tr>\n",
       "    <tr>\n",
       "      <th>1</th>\n",
       "      <td>True</td>\n",
       "      <td>True</td>\n",
       "    </tr>\n",
       "    <tr>\n",
       "      <th>2</th>\n",
       "      <td>True</td>\n",
       "      <td>True</td>\n",
       "    </tr>\n",
       "  </tbody>\n",
       "</table>\n",
       "</div>"
      ],
      "text/plain": [
       "      a     b\n",
       "0  True  True\n",
       "1  True  True\n",
       "2  True  True"
      ]
     },
     "execution_count": 264,
     "metadata": {},
     "output_type": "execute_result"
    }
   ],
   "source": [
    "df1 | df2"
   ]
  },
  {
   "cell_type": "code",
   "execution_count": 265,
   "metadata": {
    "id": "8pEhZA-byOmJ",
    "outputId": "39080d09-2543-4248-b564-9ca714a848ee"
   },
   "outputs": [
    {
     "data": {
      "text/html": [
       "<div>\n",
       "<style scoped>\n",
       "    .dataframe tbody tr th:only-of-type {\n",
       "        vertical-align: middle;\n",
       "    }\n",
       "\n",
       "    .dataframe tbody tr th {\n",
       "        vertical-align: top;\n",
       "    }\n",
       "\n",
       "    .dataframe thead th {\n",
       "        text-align: right;\n",
       "    }\n",
       "</style>\n",
       "<table border=\"1\" class=\"dataframe\">\n",
       "  <thead>\n",
       "    <tr style=\"text-align: right;\">\n",
       "      <th></th>\n",
       "      <th>a</th>\n",
       "      <th>b</th>\n",
       "    </tr>\n",
       "  </thead>\n",
       "  <tbody>\n",
       "    <tr>\n",
       "      <th>0</th>\n",
       "      <td>True</td>\n",
       "      <td>True</td>\n",
       "    </tr>\n",
       "    <tr>\n",
       "      <th>1</th>\n",
       "      <td>True</td>\n",
       "      <td>False</td>\n",
       "    </tr>\n",
       "    <tr>\n",
       "      <th>2</th>\n",
       "      <td>False</td>\n",
       "      <td>True</td>\n",
       "    </tr>\n",
       "  </tbody>\n",
       "</table>\n",
       "</div>"
      ],
      "text/plain": [
       "       a      b\n",
       "0   True   True\n",
       "1   True  False\n",
       "2  False   True"
      ]
     },
     "execution_count": 265,
     "metadata": {},
     "output_type": "execute_result"
    }
   ],
   "source": [
    "df1^df2"
   ]
  },
  {
   "cell_type": "code",
   "execution_count": 266,
   "metadata": {
    "id": "Bx-strBXyOmK",
    "outputId": "d2ddf5f8-7091-4abf-8c19-202977559cf7",
    "scrolled": true
   },
   "outputs": [
    {
     "data": {
      "text/html": [
       "<div>\n",
       "<style scoped>\n",
       "    .dataframe tbody tr th:only-of-type {\n",
       "        vertical-align: middle;\n",
       "    }\n",
       "\n",
       "    .dataframe tbody tr th {\n",
       "        vertical-align: top;\n",
       "    }\n",
       "\n",
       "    .dataframe thead th {\n",
       "        text-align: right;\n",
       "    }\n",
       "</style>\n",
       "<table border=\"1\" class=\"dataframe\">\n",
       "  <thead>\n",
       "    <tr style=\"text-align: right;\">\n",
       "      <th></th>\n",
       "      <th>a</th>\n",
       "      <th>b</th>\n",
       "    </tr>\n",
       "  </thead>\n",
       "  <tbody>\n",
       "    <tr>\n",
       "      <th>0</th>\n",
       "      <td>False</td>\n",
       "      <td>True</td>\n",
       "    </tr>\n",
       "    <tr>\n",
       "      <th>1</th>\n",
       "      <td>True</td>\n",
       "      <td>False</td>\n",
       "    </tr>\n",
       "    <tr>\n",
       "      <th>2</th>\n",
       "      <td>False</td>\n",
       "      <td>False</td>\n",
       "    </tr>\n",
       "  </tbody>\n",
       "</table>\n",
       "</div>"
      ],
      "text/plain": [
       "       a      b\n",
       "0  False   True\n",
       "1   True  False\n",
       "2  False  False"
      ]
     },
     "execution_count": 266,
     "metadata": {},
     "output_type": "execute_result"
    }
   ],
   "source": [
    "-df1"
   ]
  },
  {
   "cell_type": "markdown",
   "metadata": {},
   "source": [
    "**<span style=\"color:red\"> My Work </span>**"
   ]
  },
  {
   "cell_type": "code",
   "execution_count": 268,
   "metadata": {
    "scrolled": true
   },
   "outputs": [
    {
     "data": {
      "text/html": [
       "<div>\n",
       "<style scoped>\n",
       "    .dataframe tbody tr th:only-of-type {\n",
       "        vertical-align: middle;\n",
       "    }\n",
       "\n",
       "    .dataframe tbody tr th {\n",
       "        vertical-align: top;\n",
       "    }\n",
       "\n",
       "    .dataframe thead th {\n",
       "        text-align: right;\n",
       "    }\n",
       "</style>\n",
       "<table border=\"1\" class=\"dataframe\">\n",
       "  <thead>\n",
       "    <tr style=\"text-align: right;\">\n",
       "      <th></th>\n",
       "      <th>A</th>\n",
       "      <th>B</th>\n",
       "      <th>C</th>\n",
       "    </tr>\n",
       "  </thead>\n",
       "  <tbody>\n",
       "    <tr>\n",
       "      <th>0</th>\n",
       "      <td>1.071892</td>\n",
       "      <td>1.025350</td>\n",
       "      <td>1.271000</td>\n",
       "    </tr>\n",
       "    <tr>\n",
       "      <th>1</th>\n",
       "      <td>0.151119</td>\n",
       "      <td>-0.875800</td>\n",
       "      <td>-0.730962</td>\n",
       "    </tr>\n",
       "    <tr>\n",
       "      <th>2</th>\n",
       "      <td>-0.027470</td>\n",
       "      <td>0.408043</td>\n",
       "      <td>-1.273388</td>\n",
       "    </tr>\n",
       "  </tbody>\n",
       "</table>\n",
       "</div>"
      ],
      "text/plain": [
       "          A         B         C\n",
       "0  1.071892  1.025350  1.271000\n",
       "1  0.151119 -0.875800 -0.730962\n",
       "2 -0.027470  0.408043 -1.273388"
      ]
     },
     "execution_count": 268,
     "metadata": {},
     "output_type": "execute_result"
    }
   ],
   "source": [
    "df1 = pd.DataFrame(np.random.randn(3, 3), columns=['A', 'B', 'C'])\n",
    "df1"
   ]
  },
  {
   "cell_type": "code",
   "execution_count": 270,
   "metadata": {
    "scrolled": true
   },
   "outputs": [
    {
     "data": {
      "text/html": [
       "<div>\n",
       "<style scoped>\n",
       "    .dataframe tbody tr th:only-of-type {\n",
       "        vertical-align: middle;\n",
       "    }\n",
       "\n",
       "    .dataframe tbody tr th {\n",
       "        vertical-align: top;\n",
       "    }\n",
       "\n",
       "    .dataframe thead th {\n",
       "        text-align: right;\n",
       "    }\n",
       "</style>\n",
       "<table border=\"1\" class=\"dataframe\">\n",
       "  <thead>\n",
       "    <tr style=\"text-align: right;\">\n",
       "      <th></th>\n",
       "      <th>A</th>\n",
       "      <th>B</th>\n",
       "      <th>C</th>\n",
       "      <th>D</th>\n",
       "    </tr>\n",
       "  </thead>\n",
       "  <tbody>\n",
       "    <tr>\n",
       "      <th>0</th>\n",
       "      <td>-0.582059</td>\n",
       "      <td>1.318955</td>\n",
       "      <td>0.750685</td>\n",
       "      <td>-2.288803</td>\n",
       "    </tr>\n",
       "    <tr>\n",
       "      <th>1</th>\n",
       "      <td>-1.449598</td>\n",
       "      <td>1.043725</td>\n",
       "      <td>-0.412370</td>\n",
       "      <td>-0.536506</td>\n",
       "    </tr>\n",
       "    <tr>\n",
       "      <th>2</th>\n",
       "      <td>-0.823681</td>\n",
       "      <td>-1.131590</td>\n",
       "      <td>-1.458129</td>\n",
       "      <td>-0.730890</td>\n",
       "    </tr>\n",
       "  </tbody>\n",
       "</table>\n",
       "</div>"
      ],
      "text/plain": [
       "          A         B         C         D\n",
       "0 -0.582059  1.318955  0.750685 -2.288803\n",
       "1 -1.449598  1.043725 -0.412370 -0.536506\n",
       "2 -0.823681 -1.131590 -1.458129 -0.730890"
      ]
     },
     "execution_count": 270,
     "metadata": {},
     "output_type": "execute_result"
    }
   ],
   "source": [
    "df2 = pd.DataFrame(np.random.randn(3, 4), columns=['A', 'B', 'C', 'D'])\n",
    "df2"
   ]
  },
  {
   "cell_type": "code",
   "execution_count": 278,
   "metadata": {},
   "outputs": [
    {
     "data": {
      "text/html": [
       "<div>\n",
       "<style scoped>\n",
       "    .dataframe tbody tr th:only-of-type {\n",
       "        vertical-align: middle;\n",
       "    }\n",
       "\n",
       "    .dataframe tbody tr th {\n",
       "        vertical-align: top;\n",
       "    }\n",
       "\n",
       "    .dataframe thead th {\n",
       "        text-align: right;\n",
       "    }\n",
       "</style>\n",
       "<table border=\"1\" class=\"dataframe\">\n",
       "  <thead>\n",
       "    <tr style=\"text-align: right;\">\n",
       "      <th></th>\n",
       "      <th>A</th>\n",
       "      <th>B</th>\n",
       "      <th>C</th>\n",
       "      <th>D</th>\n",
       "    </tr>\n",
       "  </thead>\n",
       "  <tbody>\n",
       "    <tr>\n",
       "      <th>0</th>\n",
       "      <td>0.489833</td>\n",
       "      <td>2.344306</td>\n",
       "      <td>2.021685</td>\n",
       "      <td>NaN</td>\n",
       "    </tr>\n",
       "    <tr>\n",
       "      <th>1</th>\n",
       "      <td>-1.298479</td>\n",
       "      <td>0.167925</td>\n",
       "      <td>-1.143332</td>\n",
       "      <td>NaN</td>\n",
       "    </tr>\n",
       "    <tr>\n",
       "      <th>2</th>\n",
       "      <td>-0.851152</td>\n",
       "      <td>-0.723547</td>\n",
       "      <td>-2.731517</td>\n",
       "      <td>NaN</td>\n",
       "    </tr>\n",
       "  </tbody>\n",
       "</table>\n",
       "</div>"
      ],
      "text/plain": [
       "          A         B         C   D\n",
       "0  0.489833  2.344306  2.021685 NaN\n",
       "1 -1.298479  0.167925 -1.143332 NaN\n",
       "2 -0.851152 -0.723547 -2.731517 NaN"
      ]
     },
     "execution_count": 278,
     "metadata": {},
     "output_type": "execute_result"
    }
   ],
   "source": [
    "#adds the two tables together but D has nothing because df1 has no D column\n",
    "df = df1+df2\n",
    "df"
   ]
  },
  {
   "cell_type": "markdown",
   "metadata": {
    "id": "btLO3wScyOmK"
   },
   "source": [
    "## 11.9 transposing"
   ]
  },
  {
   "cell_type": "markdown",
   "metadata": {
    "id": "z_d58lm0yOmK"
   },
   "source": [
    "- To transpose, access the T attribute (also the transpose function), similar to an ndarray:"
   ]
  },
  {
   "cell_type": "code",
   "execution_count": 267,
   "metadata": {
    "id": "JvDT_HYNyOmK"
   },
   "outputs": [
    {
     "data": {
      "text/html": [
       "<div>\n",
       "<style scoped>\n",
       "    .dataframe tbody tr th:only-of-type {\n",
       "        vertical-align: middle;\n",
       "    }\n",
       "\n",
       "    .dataframe tbody tr th {\n",
       "        vertical-align: top;\n",
       "    }\n",
       "\n",
       "    .dataframe thead th {\n",
       "        text-align: right;\n",
       "    }\n",
       "</style>\n",
       "<table border=\"1\" class=\"dataframe\">\n",
       "  <thead>\n",
       "    <tr style=\"text-align: right;\">\n",
       "      <th></th>\n",
       "      <th>2000-01-01</th>\n",
       "      <th>2000-01-02</th>\n",
       "      <th>2000-01-03</th>\n",
       "      <th>2000-01-04</th>\n",
       "    </tr>\n",
       "  </thead>\n",
       "  <tbody>\n",
       "    <tr>\n",
       "      <th>A</th>\n",
       "      <td>-0.485191</td>\n",
       "      <td>-0.671774</td>\n",
       "      <td>1.352476</td>\n",
       "      <td>-0.540695</td>\n",
       "    </tr>\n",
       "    <tr>\n",
       "      <th>B</th>\n",
       "      <td>-2.518770</td>\n",
       "      <td>0.450907</td>\n",
       "      <td>-0.539220</td>\n",
       "      <td>0.066598</td>\n",
       "    </tr>\n",
       "    <tr>\n",
       "      <th>C</th>\n",
       "      <td>1.017145</td>\n",
       "      <td>-0.579312</td>\n",
       "      <td>-1.311100</td>\n",
       "      <td>-1.243064</td>\n",
       "    </tr>\n",
       "  </tbody>\n",
       "</table>\n",
       "</div>"
      ],
      "text/plain": [
       "   2000-01-01  2000-01-02  2000-01-03  2000-01-04\n",
       "A   -0.485191   -0.671774    1.352476   -0.540695\n",
       "B   -2.518770    0.450907   -0.539220    0.066598\n",
       "C    1.017145   -0.579312   -1.311100   -1.243064"
      ]
     },
     "execution_count": 267,
     "metadata": {},
     "output_type": "execute_result"
    }
   ],
   "source": [
    "# only show the first 4 rows\n",
    "df[:4].T"
   ]
  },
  {
   "cell_type": "markdown",
   "metadata": {},
   "source": [
    "**<span style=\"color:red\"> My Work </span>**"
   ]
  },
  {
   "cell_type": "code",
   "execution_count": 281,
   "metadata": {},
   "outputs": [
    {
     "data": {
      "text/html": [
       "<div>\n",
       "<style scoped>\n",
       "    .dataframe tbody tr th:only-of-type {\n",
       "        vertical-align: middle;\n",
       "    }\n",
       "\n",
       "    .dataframe tbody tr th {\n",
       "        vertical-align: top;\n",
       "    }\n",
       "\n",
       "    .dataframe thead th {\n",
       "        text-align: right;\n",
       "    }\n",
       "</style>\n",
       "<table border=\"1\" class=\"dataframe\">\n",
       "  <thead>\n",
       "    <tr style=\"text-align: right;\">\n",
       "      <th></th>\n",
       "      <th>A</th>\n",
       "      <th>B</th>\n",
       "    </tr>\n",
       "  </thead>\n",
       "  <tbody>\n",
       "    <tr>\n",
       "      <th>2013-04-03</th>\n",
       "      <td>-1.065267</td>\n",
       "      <td>-2.160770</td>\n",
       "    </tr>\n",
       "    <tr>\n",
       "      <th>2013-04-04</th>\n",
       "      <td>-1.152422</td>\n",
       "      <td>0.032166</td>\n",
       "    </tr>\n",
       "    <tr>\n",
       "      <th>2013-04-05</th>\n",
       "      <td>-0.553662</td>\n",
       "      <td>0.409540</td>\n",
       "    </tr>\n",
       "    <tr>\n",
       "      <th>2013-04-06</th>\n",
       "      <td>0.571208</td>\n",
       "      <td>-1.011670</td>\n",
       "    </tr>\n",
       "  </tbody>\n",
       "</table>\n",
       "</div>"
      ],
      "text/plain": [
       "                   A         B\n",
       "2013-04-03 -1.065267 -2.160770\n",
       "2013-04-04 -1.152422  0.032166\n",
       "2013-04-05 -0.553662  0.409540\n",
       "2013-04-06  0.571208 -1.011670"
      ]
     },
     "execution_count": 281,
     "metadata": {},
     "output_type": "execute_result"
    }
   ],
   "source": [
    "#makes our own date table\n",
    "index = pd.date_range('4/3/2013', periods=4)\n",
    "datef = pd.DataFrame(np.random.randn(4, 2), index=index, columns=list('AB'))\n",
    "datef"
   ]
  },
  {
   "cell_type": "code",
   "execution_count": 282,
   "metadata": {},
   "outputs": [
    {
     "data": {
      "text/html": [
       "<div>\n",
       "<style scoped>\n",
       "    .dataframe tbody tr th:only-of-type {\n",
       "        vertical-align: middle;\n",
       "    }\n",
       "\n",
       "    .dataframe tbody tr th {\n",
       "        vertical-align: top;\n",
       "    }\n",
       "\n",
       "    .dataframe thead th {\n",
       "        text-align: right;\n",
       "    }\n",
       "</style>\n",
       "<table border=\"1\" class=\"dataframe\">\n",
       "  <thead>\n",
       "    <tr style=\"text-align: right;\">\n",
       "      <th></th>\n",
       "      <th>2013-04-03</th>\n",
       "      <th>2013-04-04</th>\n",
       "    </tr>\n",
       "  </thead>\n",
       "  <tbody>\n",
       "    <tr>\n",
       "      <th>A</th>\n",
       "      <td>-1.065267</td>\n",
       "      <td>-1.152422</td>\n",
       "    </tr>\n",
       "    <tr>\n",
       "      <th>B</th>\n",
       "      <td>-2.160770</td>\n",
       "      <td>0.032166</td>\n",
       "    </tr>\n",
       "  </tbody>\n",
       "</table>\n",
       "</div>"
      ],
      "text/plain": [
       "   2013-04-03  2013-04-04\n",
       "A   -1.065267   -1.152422\n",
       "B   -2.160770    0.032166"
      ]
     },
     "execution_count": 282,
     "metadata": {},
     "output_type": "execute_result"
    }
   ],
   "source": [
    "#show only the first two rows of the date table\n",
    "datef[:2].T"
   ]
  }
 ],
 "metadata": {
  "colab": {
   "include_colab_link": true,
   "provenance": []
  },
  "kernelspec": {
   "display_name": "Python 3 (ipykernel)",
   "language": "python",
   "name": "python3"
  },
  "language_info": {
   "codemirror_mode": {
    "name": "ipython",
    "version": 3
   },
   "file_extension": ".py",
   "mimetype": "text/x-python",
   "name": "python",
   "nbconvert_exporter": "python",
   "pygments_lexer": "ipython3",
   "version": "3.9.7"
  }
 },
 "nbformat": 4,
 "nbformat_minor": 1
}
